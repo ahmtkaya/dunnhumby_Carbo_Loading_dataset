{
 "cells": [
  {
   "cell_type": "markdown",
   "metadata": {},
   "source": [
    "### insight into dunnhumby Carbo-Loading dataset"
   ]
  },
  {
   "cell_type": "code",
   "execution_count": 3,
   "metadata": {},
   "outputs": [],
   "source": [
    "import pandas as pd\n",
    "import numpy as np\n",
    "from patsy import dmatrices\n",
    "import statsmodels.api as sm\n",
    "from statsmodels.stats.outliers_influence import variance_inflation_factor\n",
    "import scipy as sp\n",
    "import matplotlib.pyplot as plt"
   ]
  },
  {
   "cell_type": "code",
   "execution_count": 4,
   "metadata": {},
   "outputs": [],
   "source": [
    "causal = pd.read_csv('dh_causal_lookup.csv')\n",
    "transactions = pd.read_csv('dh_transactions.csv')\n",
    "products = pd.read_csv('dh_product_lookup.csv')\n",
    "stores = pd.read_csv('dh_store_lookup.csv')\n",
    "# Empty file. No data included\n",
    "#causal1 = pd.read_csv('dh_causal_lookup_1.csv')"
   ]
  },
  {
   "cell_type": "code",
   "execution_count": 438,
   "metadata": {},
   "outputs": [
    {
     "data": {
      "text/html": [
       "<div>\n",
       "<style scoped>\n",
       "    .dataframe tbody tr th:only-of-type {\n",
       "        vertical-align: middle;\n",
       "    }\n",
       "\n",
       "    .dataframe tbody tr th {\n",
       "        vertical-align: top;\n",
       "    }\n",
       "\n",
       "    .dataframe thead th {\n",
       "        text-align: right;\n",
       "    }\n",
       "</style>\n",
       "<table border=\"1\" class=\"dataframe\">\n",
       "  <thead>\n",
       "    <tr style=\"text-align: right;\">\n",
       "      <th></th>\n",
       "      <th>upc</th>\n",
       "      <th>dollar_sales</th>\n",
       "      <th>units</th>\n",
       "      <th>time_of_transaction</th>\n",
       "      <th>geography</th>\n",
       "      <th>week</th>\n",
       "      <th>household</th>\n",
       "      <th>store</th>\n",
       "      <th>basket</th>\n",
       "      <th>day</th>\n",
       "      <th>coupon</th>\n",
       "    </tr>\n",
       "  </thead>\n",
       "  <tbody>\n",
       "    <tr>\n",
       "      <th>count</th>\n",
       "      <td>5.188096e+06</td>\n",
       "      <td>5.188096e+06</td>\n",
       "      <td>5.188096e+06</td>\n",
       "      <td>5.188096e+06</td>\n",
       "      <td>5.188096e+06</td>\n",
       "      <td>5.188096e+06</td>\n",
       "      <td>5.188096e+06</td>\n",
       "      <td>5.188096e+06</td>\n",
       "      <td>5.188096e+06</td>\n",
       "      <td>5.188096e+06</td>\n",
       "      <td>5.188096e+06</td>\n",
       "    </tr>\n",
       "    <tr>\n",
       "      <th>mean</th>\n",
       "      <td>6.205031e+09</td>\n",
       "      <td>1.759975e+00</td>\n",
       "      <td>1.196697e+00</td>\n",
       "      <td>1.543646e+03</td>\n",
       "      <td>1.459434e+00</td>\n",
       "      <td>5.323352e+01</td>\n",
       "      <td>2.231164e+05</td>\n",
       "      <td>2.020686e+02</td>\n",
       "      <td>1.663209e+06</td>\n",
       "      <td>3.696076e+02</td>\n",
       "      <td>1.609203e-02</td>\n",
       "    </tr>\n",
       "    <tr>\n",
       "      <th>std</th>\n",
       "      <td>3.152957e+09</td>\n",
       "      <td>1.127167e+00</td>\n",
       "      <td>5.683504e-01</td>\n",
       "      <td>3.850368e+02</td>\n",
       "      <td>4.983518e-01</td>\n",
       "      <td>3.004763e+01</td>\n",
       "      <td>1.412376e+05</td>\n",
       "      <td>1.120017e+02</td>\n",
       "      <td>9.593364e+05</td>\n",
       "      <td>2.103655e+02</td>\n",
       "      <td>1.258296e-01</td>\n",
       "    </tr>\n",
       "    <tr>\n",
       "      <th>min</th>\n",
       "      <td>1.111124e+08</td>\n",
       "      <td>1.000000e-02</td>\n",
       "      <td>1.000000e+00</td>\n",
       "      <td>0.000000e+00</td>\n",
       "      <td>1.000000e+00</td>\n",
       "      <td>1.000000e+00</td>\n",
       "      <td>1.000000e+00</td>\n",
       "      <td>1.000000e+00</td>\n",
       "      <td>1.000000e+00</td>\n",
       "      <td>1.000000e+00</td>\n",
       "      <td>0.000000e+00</td>\n",
       "    </tr>\n",
       "    <tr>\n",
       "      <th>25%</th>\n",
       "      <td>3.620000e+09</td>\n",
       "      <td>9.900000e-01</td>\n",
       "      <td>1.000000e+00</td>\n",
       "      <td>1.258000e+03</td>\n",
       "      <td>1.000000e+00</td>\n",
       "      <td>2.700000e+01</td>\n",
       "      <td>9.899100e+04</td>\n",
       "      <td>1.060000e+02</td>\n",
       "      <td>8.304460e+05</td>\n",
       "      <td>1.850000e+02</td>\n",
       "      <td>0.000000e+00</td>\n",
       "    </tr>\n",
       "    <tr>\n",
       "      <th>50%</th>\n",
       "      <td>5.100013e+09</td>\n",
       "      <td>1.500000e+00</td>\n",
       "      <td>1.000000e+00</td>\n",
       "      <td>1.602000e+03</td>\n",
       "      <td>1.000000e+00</td>\n",
       "      <td>5.500000e+01</td>\n",
       "      <td>2.096455e+05</td>\n",
       "      <td>2.090000e+02</td>\n",
       "      <td>1.666866e+06</td>\n",
       "      <td>3.800000e+02</td>\n",
       "      <td>0.000000e+00</td>\n",
       "    </tr>\n",
       "    <tr>\n",
       "      <th>75%</th>\n",
       "      <td>9.999982e+09</td>\n",
       "      <td>2.190000e+00</td>\n",
       "      <td>1.000000e+00</td>\n",
       "      <td>1.825000e+03</td>\n",
       "      <td>2.000000e+00</td>\n",
       "      <td>7.900000e+01</td>\n",
       "      <td>3.395882e+05</td>\n",
       "      <td>3.000000e+02</td>\n",
       "      <td>2.496803e+06</td>\n",
       "      <td>5.510000e+02</td>\n",
       "      <td>0.000000e+00</td>\n",
       "    </tr>\n",
       "    <tr>\n",
       "      <th>max</th>\n",
       "      <td>9.999986e+09</td>\n",
       "      <td>1.531400e+02</td>\n",
       "      <td>1.560000e+02</td>\n",
       "      <td>2.359000e+03</td>\n",
       "      <td>2.000000e+00</td>\n",
       "      <td>1.040000e+02</td>\n",
       "      <td>5.100270e+05</td>\n",
       "      <td>3.870000e+02</td>\n",
       "      <td>3.316349e+06</td>\n",
       "      <td>7.280000e+02</td>\n",
       "      <td>1.000000e+00</td>\n",
       "    </tr>\n",
       "  </tbody>\n",
       "</table>\n",
       "</div>"
      ],
      "text/plain": [
       "                upc  dollar_sales         units  time_of_transaction  \\\n",
       "count  5.188096e+06  5.188096e+06  5.188096e+06         5.188096e+06   \n",
       "mean   6.205031e+09  1.759975e+00  1.196697e+00         1.543646e+03   \n",
       "std    3.152957e+09  1.127167e+00  5.683504e-01         3.850368e+02   \n",
       "min    1.111124e+08  1.000000e-02  1.000000e+00         0.000000e+00   \n",
       "25%    3.620000e+09  9.900000e-01  1.000000e+00         1.258000e+03   \n",
       "50%    5.100013e+09  1.500000e+00  1.000000e+00         1.602000e+03   \n",
       "75%    9.999982e+09  2.190000e+00  1.000000e+00         1.825000e+03   \n",
       "max    9.999986e+09  1.531400e+02  1.560000e+02         2.359000e+03   \n",
       "\n",
       "          geography          week     household         store        basket  \\\n",
       "count  5.188096e+06  5.188096e+06  5.188096e+06  5.188096e+06  5.188096e+06   \n",
       "mean   1.459434e+00  5.323352e+01  2.231164e+05  2.020686e+02  1.663209e+06   \n",
       "std    4.983518e-01  3.004763e+01  1.412376e+05  1.120017e+02  9.593364e+05   \n",
       "min    1.000000e+00  1.000000e+00  1.000000e+00  1.000000e+00  1.000000e+00   \n",
       "25%    1.000000e+00  2.700000e+01  9.899100e+04  1.060000e+02  8.304460e+05   \n",
       "50%    1.000000e+00  5.500000e+01  2.096455e+05  2.090000e+02  1.666866e+06   \n",
       "75%    2.000000e+00  7.900000e+01  3.395882e+05  3.000000e+02  2.496803e+06   \n",
       "max    2.000000e+00  1.040000e+02  5.100270e+05  3.870000e+02  3.316349e+06   \n",
       "\n",
       "                day        coupon  \n",
       "count  5.188096e+06  5.188096e+06  \n",
       "mean   3.696076e+02  1.609203e-02  \n",
       "std    2.103655e+02  1.258296e-01  \n",
       "min    1.000000e+00  0.000000e+00  \n",
       "25%    1.850000e+02  0.000000e+00  \n",
       "50%    3.800000e+02  0.000000e+00  \n",
       "75%    5.510000e+02  0.000000e+00  \n",
       "max    7.280000e+02  1.000000e+00  "
      ]
     },
     "execution_count": 438,
     "metadata": {},
     "output_type": "execute_result"
    }
   ],
   "source": [
    "# descriptive statistics summary\n",
    "transactions.describe()"
   ]
  },
  {
   "cell_type": "markdown",
   "metadata": {},
   "source": [
    "- There are negative in dollar_sales which might be return products"
   ]
  },
  {
   "cell_type": "code",
   "execution_count": 7,
   "metadata": {},
   "outputs": [
    {
     "data": {
      "text/plain": [
       "-839.19"
      ]
     },
     "execution_count": 7,
     "metadata": {},
     "output_type": "execute_result"
    }
   ],
   "source": [
    "# total return amount\n",
    "transactions[transactions.dollar_sales<0]['dollar_sales'].sum()"
   ]
  },
  {
   "cell_type": "code",
   "execution_count": 8,
   "metadata": {},
   "outputs": [
    {
     "data": {
      "text/plain": [
       "9130079.889999995"
      ]
     },
     "execution_count": 8,
     "metadata": {},
     "output_type": "execute_result"
    }
   ],
   "source": [
    "#total sales \n",
    "transactions['dollar_sales'].sum()"
   ]
  },
  {
   "cell_type": "markdown",
   "metadata": {},
   "source": [
    "- total sales +9.1 M and return $831 which can be ignore hence no need to count of return items"
   ]
  },
  {
   "cell_type": "code",
   "execution_count": 9,
   "metadata": {},
   "outputs": [],
   "source": [
    "transactions=transactions[transactions.dollar_sales>0]"
   ]
  },
  {
   "cell_type": "code",
   "execution_count": 178,
   "metadata": {},
   "outputs": [],
   "source": [
    "#transactions[transactions.upc==3340060109][transactions[transactions.upc==3340060109]['household']==443392]"
   ]
  },
  {
   "cell_type": "code",
   "execution_count": 10,
   "metadata": {},
   "outputs": [
    {
     "data": {
      "text/html": [
       "<div>\n",
       "<style scoped>\n",
       "    .dataframe tbody tr th:only-of-type {\n",
       "        vertical-align: middle;\n",
       "    }\n",
       "\n",
       "    .dataframe tbody tr th {\n",
       "        vertical-align: top;\n",
       "    }\n",
       "\n",
       "    .dataframe thead th {\n",
       "        text-align: right;\n",
       "    }\n",
       "</style>\n",
       "<table border=\"1\" class=\"dataframe\">\n",
       "  <thead>\n",
       "    <tr style=\"text-align: right;\">\n",
       "      <th></th>\n",
       "      <th>upc</th>\n",
       "      <th>store</th>\n",
       "      <th>week</th>\n",
       "      <th>feature_desc</th>\n",
       "      <th>display_desc</th>\n",
       "      <th>geography</th>\n",
       "    </tr>\n",
       "  </thead>\n",
       "  <tbody>\n",
       "    <tr>\n",
       "      <th>0</th>\n",
       "      <td>7680850108</td>\n",
       "      <td>1</td>\n",
       "      <td>68</td>\n",
       "      <td>Wrap Interior Feature</td>\n",
       "      <td>Not on Display</td>\n",
       "      <td>1</td>\n",
       "    </tr>\n",
       "    <tr>\n",
       "      <th>1</th>\n",
       "      <td>5100001212</td>\n",
       "      <td>1</td>\n",
       "      <td>66</td>\n",
       "      <td>Wrap Back Feature</td>\n",
       "      <td>Not on Display</td>\n",
       "      <td>1</td>\n",
       "    </tr>\n",
       "    <tr>\n",
       "      <th>2</th>\n",
       "      <td>5100002792</td>\n",
       "      <td>1</td>\n",
       "      <td>72</td>\n",
       "      <td>Interior Page Feature</td>\n",
       "      <td>Not on Display</td>\n",
       "      <td>1</td>\n",
       "    </tr>\n",
       "    <tr>\n",
       "      <th>3</th>\n",
       "      <td>3620000300</td>\n",
       "      <td>1</td>\n",
       "      <td>55</td>\n",
       "      <td>Wrap Interior Feature</td>\n",
       "      <td>Not on Display</td>\n",
       "      <td>1</td>\n",
       "    </tr>\n",
       "    <tr>\n",
       "      <th>4</th>\n",
       "      <td>4112907742</td>\n",
       "      <td>1</td>\n",
       "      <td>68</td>\n",
       "      <td>Wrap Interior Feature</td>\n",
       "      <td>Not on Display</td>\n",
       "      <td>1</td>\n",
       "    </tr>\n",
       "  </tbody>\n",
       "</table>\n",
       "</div>"
      ],
      "text/plain": [
       "          upc  store  week           feature_desc    display_desc  geography\n",
       "0  7680850108      1    68  Wrap Interior Feature  Not on Display          1\n",
       "1  5100001212      1    66      Wrap Back Feature  Not on Display          1\n",
       "2  5100002792      1    72  Interior Page Feature  Not on Display          1\n",
       "3  3620000300      1    55  Wrap Interior Feature  Not on Display          1\n",
       "4  4112907742      1    68  Wrap Interior Feature  Not on Display          1"
      ]
     },
     "execution_count": 10,
     "metadata": {},
     "output_type": "execute_result"
    }
   ],
   "source": [
    "causal.head()"
   ]
  },
  {
   "cell_type": "code",
   "execution_count": 11,
   "metadata": {},
   "outputs": [],
   "source": [
    "# !pip install sas7bdat\n",
    "# sas7bdat was checked and the data in csv and sas7bdat are same so we will use csv data only\n",
    "#with SAS7BDAT('dh_causal_lookup.sas7bdat', skip_header=True) as reader:\n",
    "    #for row in reader:\n",
    "        #print (row)"
   ]
  },
  {
   "cell_type": "markdown",
   "metadata": {},
   "source": [
    "- similar ata in the sas7bdat so we will use csv data only"
   ]
  },
  {
   "cell_type": "code",
   "execution_count": 12,
   "metadata": {},
   "outputs": [
    {
     "data": {
      "text/plain": [
       "Index(['upc', 'store', 'week', 'feature_desc', 'display_desc', 'geography'], dtype='object')"
      ]
     },
     "execution_count": 12,
     "metadata": {},
     "output_type": "execute_result"
    }
   ],
   "source": [
    "causal.columns"
   ]
  },
  {
   "cell_type": "code",
   "execution_count": 13,
   "metadata": {},
   "outputs": [
    {
     "data": {
      "text/plain": [
       "Index(['upc', 'dollar_sales', 'units', 'time_of_transaction', 'geography',\n",
       "       'week', 'household', 'store', 'basket', 'day', 'coupon'],\n",
       "      dtype='object')"
      ]
     },
     "execution_count": 13,
     "metadata": {},
     "output_type": "execute_result"
    }
   ],
   "source": [
    "transactions.columns"
   ]
  },
  {
   "cell_type": "code",
   "execution_count": 14,
   "metadata": {},
   "outputs": [
    {
     "data": {
      "text/plain": [
       "Index(['upc', 'product_description', 'commodity', 'brand', 'product_size'], dtype='object')"
      ]
     },
     "execution_count": 14,
     "metadata": {},
     "output_type": "execute_result"
    }
   ],
   "source": [
    "products.columns"
   ]
  },
  {
   "cell_type": "code",
   "execution_count": 15,
   "metadata": {},
   "outputs": [
    {
     "data": {
      "text/plain": [
       "Index(['store', 'store_zip_code'], dtype='object')"
      ]
     },
     "execution_count": 15,
     "metadata": {},
     "output_type": "execute_result"
    }
   ],
   "source": [
    "stores.columns"
   ]
  },
  {
   "cell_type": "markdown",
   "metadata": {},
   "source": [
    "### Checking nulls"
   ]
  },
  {
   "cell_type": "code",
   "execution_count": 16,
   "metadata": {},
   "outputs": [
    {
     "data": {
      "text/plain": [
       "upc                    0\n",
       "dollar_sales           0\n",
       "units                  0\n",
       "time_of_transaction    0\n",
       "geography              0\n",
       "week                   0\n",
       "household              0\n",
       "store                  0\n",
       "basket                 0\n",
       "day                    0\n",
       "coupon                 0\n",
       "dtype: int64"
      ]
     },
     "execution_count": 16,
     "metadata": {},
     "output_type": "execute_result"
    }
   ],
   "source": [
    "transactions.isnull().sum()"
   ]
  },
  {
   "cell_type": "code",
   "execution_count": 17,
   "metadata": {},
   "outputs": [
    {
     "data": {
      "text/plain": [
       "upc             0\n",
       "store           0\n",
       "week            0\n",
       "feature_desc    0\n",
       "display_desc    0\n",
       "geography       0\n",
       "dtype: int64"
      ]
     },
     "execution_count": 17,
     "metadata": {},
     "output_type": "execute_result"
    }
   ],
   "source": [
    "causal.isnull().sum()"
   ]
  },
  {
   "cell_type": "code",
   "execution_count": 18,
   "metadata": {},
   "outputs": [
    {
     "data": {
      "text/plain": [
       "store             0\n",
       "store_zip_code    0\n",
       "dtype: int64"
      ]
     },
     "execution_count": 18,
     "metadata": {},
     "output_type": "execute_result"
    }
   ],
   "source": [
    "stores.isnull().sum()"
   ]
  },
  {
   "cell_type": "code",
   "execution_count": 19,
   "metadata": {},
   "outputs": [
    {
     "data": {
      "text/plain": [
       "upc                    0\n",
       "product_description    0\n",
       "commodity              0\n",
       "brand                  0\n",
       "product_size           0\n",
       "dtype: int64"
      ]
     },
     "execution_count": 19,
     "metadata": {},
     "output_type": "execute_result"
    }
   ],
   "source": [
    "products.isnull().sum()"
   ]
  },
  {
   "cell_type": "markdown",
   "metadata": {},
   "source": [
    "- Very clean data. Just need to join tables to end up with what is asked in the question."
   ]
  },
  {
   "cell_type": "code",
   "execution_count": 21,
   "metadata": {},
   "outputs": [
    {
     "data": {
      "text/html": [
       "<div>\n",
       "<style scoped>\n",
       "    .dataframe tbody tr th:only-of-type {\n",
       "        vertical-align: middle;\n",
       "    }\n",
       "\n",
       "    .dataframe tbody tr th {\n",
       "        vertical-align: top;\n",
       "    }\n",
       "\n",
       "    .dataframe thead th {\n",
       "        text-align: right;\n",
       "    }\n",
       "</style>\n",
       "<table border=\"1\" class=\"dataframe\">\n",
       "  <thead>\n",
       "    <tr style=\"text-align: right;\">\n",
       "      <th></th>\n",
       "      <th>upc</th>\n",
       "      <th>dollar_sales</th>\n",
       "      <th>units</th>\n",
       "      <th>time_of_transaction</th>\n",
       "      <th>geography</th>\n",
       "      <th>week</th>\n",
       "      <th>household</th>\n",
       "      <th>store</th>\n",
       "      <th>basket</th>\n",
       "      <th>day</th>\n",
       "      <th>coupon</th>\n",
       "    </tr>\n",
       "  </thead>\n",
       "  <tbody>\n",
       "    <tr>\n",
       "      <th>0</th>\n",
       "      <td>7680850106</td>\n",
       "      <td>0.80</td>\n",
       "      <td>1</td>\n",
       "      <td>1100</td>\n",
       "      <td>2</td>\n",
       "      <td>1</td>\n",
       "      <td>125434</td>\n",
       "      <td>244</td>\n",
       "      <td>1</td>\n",
       "      <td>1</td>\n",
       "      <td>0</td>\n",
       "    </tr>\n",
       "    <tr>\n",
       "      <th>1</th>\n",
       "      <td>3620000470</td>\n",
       "      <td>3.59</td>\n",
       "      <td>1</td>\n",
       "      <td>1100</td>\n",
       "      <td>2</td>\n",
       "      <td>1</td>\n",
       "      <td>125434</td>\n",
       "      <td>244</td>\n",
       "      <td>1</td>\n",
       "      <td>1</td>\n",
       "      <td>0</td>\n",
       "    </tr>\n",
       "    <tr>\n",
       "      <th>2</th>\n",
       "      <td>1800028064</td>\n",
       "      <td>2.25</td>\n",
       "      <td>1</td>\n",
       "      <td>1137</td>\n",
       "      <td>2</td>\n",
       "      <td>1</td>\n",
       "      <td>108320</td>\n",
       "      <td>244</td>\n",
       "      <td>2</td>\n",
       "      <td>1</td>\n",
       "      <td>0</td>\n",
       "    </tr>\n",
       "    <tr>\n",
       "      <th>3</th>\n",
       "      <td>9999985067</td>\n",
       "      <td>0.85</td>\n",
       "      <td>1</td>\n",
       "      <td>1148</td>\n",
       "      <td>2</td>\n",
       "      <td>1</td>\n",
       "      <td>162016</td>\n",
       "      <td>244</td>\n",
       "      <td>3</td>\n",
       "      <td>1</td>\n",
       "      <td>0</td>\n",
       "    </tr>\n",
       "    <tr>\n",
       "      <th>4</th>\n",
       "      <td>9999985131</td>\n",
       "      <td>2.19</td>\n",
       "      <td>1</td>\n",
       "      <td>1323</td>\n",
       "      <td>2</td>\n",
       "      <td>1</td>\n",
       "      <td>89437</td>\n",
       "      <td>244</td>\n",
       "      <td>4</td>\n",
       "      <td>1</td>\n",
       "      <td>0</td>\n",
       "    </tr>\n",
       "    <tr>\n",
       "      <th>5</th>\n",
       "      <td>5100002794</td>\n",
       "      <td>2.19</td>\n",
       "      <td>1</td>\n",
       "      <td>1323</td>\n",
       "      <td>2</td>\n",
       "      <td>1</td>\n",
       "      <td>89437</td>\n",
       "      <td>244</td>\n",
       "      <td>4</td>\n",
       "      <td>1</td>\n",
       "      <td>0</td>\n",
       "    </tr>\n",
       "    <tr>\n",
       "      <th>6</th>\n",
       "      <td>1800000957</td>\n",
       "      <td>3.45</td>\n",
       "      <td>1</td>\n",
       "      <td>1415</td>\n",
       "      <td>2</td>\n",
       "      <td>1</td>\n",
       "      <td>158549</td>\n",
       "      <td>244</td>\n",
       "      <td>5</td>\n",
       "      <td>1</td>\n",
       "      <td>0</td>\n",
       "    </tr>\n",
       "    <tr>\n",
       "      <th>7</th>\n",
       "      <td>9999985051</td>\n",
       "      <td>1.29</td>\n",
       "      <td>1</td>\n",
       "      <td>1415</td>\n",
       "      <td>2</td>\n",
       "      <td>1</td>\n",
       "      <td>158549</td>\n",
       "      <td>244</td>\n",
       "      <td>5</td>\n",
       "      <td>1</td>\n",
       "      <td>0</td>\n",
       "    </tr>\n",
       "    <tr>\n",
       "      <th>8</th>\n",
       "      <td>9999985053</td>\n",
       "      <td>0.75</td>\n",
       "      <td>1</td>\n",
       "      <td>1513</td>\n",
       "      <td>2</td>\n",
       "      <td>1</td>\n",
       "      <td>18851</td>\n",
       "      <td>244</td>\n",
       "      <td>6</td>\n",
       "      <td>1</td>\n",
       "      <td>0</td>\n",
       "    </tr>\n",
       "    <tr>\n",
       "      <th>9</th>\n",
       "      <td>3620000446</td>\n",
       "      <td>2.19</td>\n",
       "      <td>1</td>\n",
       "      <td>1523</td>\n",
       "      <td>2</td>\n",
       "      <td>1</td>\n",
       "      <td>118337</td>\n",
       "      <td>244</td>\n",
       "      <td>7</td>\n",
       "      <td>1</td>\n",
       "      <td>0</td>\n",
       "    </tr>\n",
       "  </tbody>\n",
       "</table>\n",
       "</div>"
      ],
      "text/plain": [
       "          upc  dollar_sales  units  time_of_transaction  geography  week  \\\n",
       "0  7680850106          0.80      1                 1100          2     1   \n",
       "1  3620000470          3.59      1                 1100          2     1   \n",
       "2  1800028064          2.25      1                 1137          2     1   \n",
       "3  9999985067          0.85      1                 1148          2     1   \n",
       "4  9999985131          2.19      1                 1323          2     1   \n",
       "5  5100002794          2.19      1                 1323          2     1   \n",
       "6  1800000957          3.45      1                 1415          2     1   \n",
       "7  9999985051          1.29      1                 1415          2     1   \n",
       "8  9999985053          0.75      1                 1513          2     1   \n",
       "9  3620000446          2.19      1                 1523          2     1   \n",
       "\n",
       "   household  store  basket  day  coupon  \n",
       "0     125434    244       1    1       0  \n",
       "1     125434    244       1    1       0  \n",
       "2     108320    244       2    1       0  \n",
       "3     162016    244       3    1       0  \n",
       "4      89437    244       4    1       0  \n",
       "5      89437    244       4    1       0  \n",
       "6     158549    244       5    1       0  \n",
       "7     158549    244       5    1       0  \n",
       "8      18851    244       6    1       0  \n",
       "9     118337    244       7    1       0  "
      ]
     },
     "execution_count": 21,
     "metadata": {},
     "output_type": "execute_result"
    }
   ],
   "source": [
    "transactions.head(10)"
   ]
  },
  {
   "cell_type": "code",
   "execution_count": 22,
   "metadata": {},
   "outputs": [
    {
     "data": {
      "text/html": [
       "<div>\n",
       "<style scoped>\n",
       "    .dataframe tbody tr th:only-of-type {\n",
       "        vertical-align: middle;\n",
       "    }\n",
       "\n",
       "    .dataframe tbody tr th {\n",
       "        vertical-align: top;\n",
       "    }\n",
       "\n",
       "    .dataframe thead th {\n",
       "        text-align: right;\n",
       "    }\n",
       "</style>\n",
       "<table border=\"1\" class=\"dataframe\">\n",
       "  <thead>\n",
       "    <tr style=\"text-align: right;\">\n",
       "      <th></th>\n",
       "      <th>upc</th>\n",
       "      <th>product_description</th>\n",
       "      <th>commodity</th>\n",
       "      <th>brand</th>\n",
       "      <th>product_size</th>\n",
       "    </tr>\n",
       "  </thead>\n",
       "  <tbody>\n",
       "    <tr>\n",
       "      <th>0</th>\n",
       "      <td>111112360</td>\n",
       "      <td>VINCENT S ORIG MARINARA S</td>\n",
       "      <td>pasta sauce</td>\n",
       "      <td>Vincent's</td>\n",
       "      <td>25 OZ</td>\n",
       "    </tr>\n",
       "    <tr>\n",
       "      <th>1</th>\n",
       "      <td>566300023</td>\n",
       "      <td>PINE MOUNTAIN SYRUP</td>\n",
       "      <td>syrups</td>\n",
       "      <td>Pine Mountain</td>\n",
       "      <td>40 OZ</td>\n",
       "    </tr>\n",
       "    <tr>\n",
       "      <th>2</th>\n",
       "      <td>566300028</td>\n",
       "      <td>MILLER CANE SYRUP</td>\n",
       "      <td>syrups</td>\n",
       "      <td>Miller</td>\n",
       "      <td>19 OZ</td>\n",
       "    </tr>\n",
       "    <tr>\n",
       "      <th>3</th>\n",
       "      <td>566300029</td>\n",
       "      <td>MILLER CANE SYRUP</td>\n",
       "      <td>syrups</td>\n",
       "      <td>Miller</td>\n",
       "      <td>12 OZ</td>\n",
       "    </tr>\n",
       "    <tr>\n",
       "      <th>4</th>\n",
       "      <td>566300035</td>\n",
       "      <td>PINE MOUNTAIN SYRUP</td>\n",
       "      <td>syrups</td>\n",
       "      <td>Pine Mountain</td>\n",
       "      <td>19 OZ</td>\n",
       "    </tr>\n",
       "  </tbody>\n",
       "</table>\n",
       "</div>"
      ],
      "text/plain": [
       "         upc        product_description    commodity          brand  \\\n",
       "0  111112360  VINCENT S ORIG MARINARA S  pasta sauce      Vincent's   \n",
       "1  566300023        PINE MOUNTAIN SYRUP       syrups  Pine Mountain   \n",
       "2  566300028          MILLER CANE SYRUP       syrups         Miller   \n",
       "3  566300029          MILLER CANE SYRUP       syrups         Miller   \n",
       "4  566300035        PINE MOUNTAIN SYRUP       syrups  Pine Mountain   \n",
       "\n",
       "  product_size  \n",
       "0        25 OZ  \n",
       "1        40 OZ  \n",
       "2        19 OZ  \n",
       "3        12 OZ  \n",
       "4        19 OZ  "
      ]
     },
     "execution_count": 22,
     "metadata": {},
     "output_type": "execute_result"
    }
   ],
   "source": [
    "products.head()"
   ]
  },
  {
   "cell_type": "code",
   "execution_count": 23,
   "metadata": {},
   "outputs": [],
   "source": [
    "trans_prod = transactions.merge(products, 'left', 'upc')"
   ]
  },
  {
   "cell_type": "code",
   "execution_count": 24,
   "metadata": {},
   "outputs": [
    {
     "data": {
      "text/plain": [
       "product_description    0\n",
       "commodity              0\n",
       "brand                  0\n",
       "product_size           0\n",
       "dtype: int64"
      ]
     },
     "execution_count": 24,
     "metadata": {},
     "output_type": "execute_result"
    }
   ],
   "source": [
    "## Checking if there is any product that is sold but does not exist in products. That is why left join is performed.\n",
    "\n",
    "trans_prod[['product_description','commodity', 'brand', 'product_size']].isnull().sum()"
   ]
  },
  {
   "cell_type": "markdown",
   "metadata": {},
   "source": [
    "- That means product table covers all products."
   ]
  },
  {
   "cell_type": "markdown",
   "metadata": {},
   "source": [
    "###  a. What are the top 5 products in each commodity?\n"
   ]
  },
  {
   "cell_type": "markdown",
   "metadata": {},
   "source": [
    "- top 5 products in each commodity can be calculated by looking at dolar sales or units \n",
    "- Firstly the top 5 products will be identified in each commodity regarding the sales \n",
    "- Secondly, the top 5 products will be identified in each commodity regarding the units"
   ]
  },
  {
   "cell_type": "code",
   "execution_count": 25,
   "metadata": {},
   "outputs": [],
   "source": [
    "# Top 5 regarding sales\n",
    "sales = trans_prod.groupby(by = ['commodity', 'upc','product_description'])['dollar_sales'].sum().reset_index()"
   ]
  },
  {
   "cell_type": "code",
   "execution_count": 439,
   "metadata": {},
   "outputs": [
    {
     "data": {
      "text/html": [
       "<div>\n",
       "<style scoped>\n",
       "    .dataframe tbody tr th:only-of-type {\n",
       "        vertical-align: middle;\n",
       "    }\n",
       "\n",
       "    .dataframe tbody tr th {\n",
       "        vertical-align: top;\n",
       "    }\n",
       "\n",
       "    .dataframe thead th {\n",
       "        text-align: right;\n",
       "    }\n",
       "</style>\n",
       "<table border=\"1\" class=\"dataframe\">\n",
       "  <thead>\n",
       "    <tr style=\"text-align: right;\">\n",
       "      <th></th>\n",
       "      <th>upc</th>\n",
       "      <th>product_description</th>\n",
       "      <th>dollar_sales</th>\n",
       "    </tr>\n",
       "  </thead>\n",
       "  <tbody>\n",
       "    <tr>\n",
       "      <th>21</th>\n",
       "      <td>3000005300</td>\n",
       "      <td>AJ BUTTERMILK PANCAKE MIX</td>\n",
       "      <td>93322.41</td>\n",
       "    </tr>\n",
       "    <tr>\n",
       "      <th>19</th>\n",
       "      <td>3000005040</td>\n",
       "      <td>AUNT JEM ORIGINAL PANCAKE MIX</td>\n",
       "      <td>55981.36</td>\n",
       "    </tr>\n",
       "    <tr>\n",
       "      <th>20</th>\n",
       "      <td>3000005070</td>\n",
       "      <td>A/JEM COMPLETE PANCAKE MI</td>\n",
       "      <td>50032.39</td>\n",
       "    </tr>\n",
       "    <tr>\n",
       "      <th>45</th>\n",
       "      <td>9999985261</td>\n",
       "      <td>PRIVATE LABEL COMPLETE PANCAKE MIX</td>\n",
       "      <td>44963.78</td>\n",
       "    </tr>\n",
       "    <tr>\n",
       "      <th>12</th>\n",
       "      <td>1800028064</td>\n",
       "      <td>H J PANCK BTRMLK COMP MIX</td>\n",
       "      <td>44006.21</td>\n",
       "    </tr>\n",
       "  </tbody>\n",
       "</table>\n",
       "</div>"
      ],
      "text/plain": [
       "           upc                 product_description  dollar_sales\n",
       "21  3000005300           AJ BUTTERMILK PANCAKE MIX      93322.41\n",
       "19  3000005040       AUNT JEM ORIGINAL PANCAKE MIX      55981.36\n",
       "20  3000005070           A/JEM COMPLETE PANCAKE MI      50032.39\n",
       "45  9999985261  PRIVATE LABEL COMPLETE PANCAKE MIX      44963.78\n",
       "12  1800028064           H J PANCK BTRMLK COMP MIX      44006.21"
      ]
     },
     "execution_count": 439,
     "metadata": {},
     "output_type": "execute_result"
    }
   ],
   "source": [
    "# Top 5 regarding sales\n",
    "\n",
    "# Pancake Mixes Top 5\n",
    "T_5_Pancake_Mixes=sales[sales['commodity'] == 'pancake mixes'][['upc','product_description','dollar_sales']]. \\\n",
    "                                    sort_values('dollar_sales', ascending = False).head(5)\n",
    "T_5_Pancake_Mixes"
   ]
  },
  {
   "cell_type": "code",
   "execution_count": 443,
   "metadata": {},
   "outputs": [
    {
     "data": {
      "text/plain": [
       "223533.68999999942"
      ]
     },
     "execution_count": 443,
     "metadata": {},
     "output_type": "execute_result"
    }
   ],
   "source": [
    "## for the presantation\n",
    "T_5_Pancake_Mixes.to_csv('Pancake_Mixes.csv', index=False)\n",
    "sales[sales['commodity'] == 'pancake mixes']['dollar_sales'].sum()-T_5_Pancake_Mixes['dollar_sales'].sum()"
   ]
  },
  {
   "cell_type": "code",
   "execution_count": 444,
   "metadata": {},
   "outputs": [
    {
     "data": {
      "text/html": [
       "<div>\n",
       "<style scoped>\n",
       "    .dataframe tbody tr th:only-of-type {\n",
       "        vertical-align: middle;\n",
       "    }\n",
       "\n",
       "    .dataframe tbody tr th {\n",
       "        vertical-align: top;\n",
       "    }\n",
       "\n",
       "    .dataframe thead th {\n",
       "        text-align: right;\n",
       "    }\n",
       "</style>\n",
       "<table border=\"1\" class=\"dataframe\">\n",
       "  <thead>\n",
       "    <tr style=\"text-align: right;\">\n",
       "      <th></th>\n",
       "      <th>upc</th>\n",
       "      <th>product_description</th>\n",
       "      <th>dollar_sales</th>\n",
       "    </tr>\n",
       "  </thead>\n",
       "  <tbody>\n",
       "    <tr>\n",
       "      <th>814</th>\n",
       "      <td>3000005970</td>\n",
       "      <td>AUNT JEMIMA ORIGINL SYRUP</td>\n",
       "      <td>98922.68</td>\n",
       "    </tr>\n",
       "    <tr>\n",
       "      <th>916</th>\n",
       "      <td>9999967727</td>\n",
       "      <td>PRIVATE LABEL SYRUP PLASTIC BOTTLE</td>\n",
       "      <td>96155.55</td>\n",
       "    </tr>\n",
       "    <tr>\n",
       "      <th>853</th>\n",
       "      <td>4420979129</td>\n",
       "      <td>MRS BUTTERWORTH SYRUP</td>\n",
       "      <td>86813.88</td>\n",
       "    </tr>\n",
       "    <tr>\n",
       "      <th>924</th>\n",
       "      <td>9999981816</td>\n",
       "      <td>PRIVATE LABEL MAPLE SYRUP</td>\n",
       "      <td>66622.12</td>\n",
       "    </tr>\n",
       "    <tr>\n",
       "      <th>911</th>\n",
       "      <td>9999966070</td>\n",
       "      <td>PRIVATE LABEL BUTTERED SYRUP</td>\n",
       "      <td>62948.00</td>\n",
       "    </tr>\n",
       "  </tbody>\n",
       "</table>\n",
       "</div>"
      ],
      "text/plain": [
       "            upc                 product_description  dollar_sales\n",
       "814  3000005970           AUNT JEMIMA ORIGINL SYRUP      98922.68\n",
       "916  9999967727  PRIVATE LABEL SYRUP PLASTIC BOTTLE      96155.55\n",
       "853  4420979129               MRS BUTTERWORTH SYRUP      86813.88\n",
       "924  9999981816           PRIVATE LABEL MAPLE SYRUP      66622.12\n",
       "911  9999966070        PRIVATE LABEL BUTTERED SYRUP      62948.00"
      ]
     },
     "execution_count": 444,
     "metadata": {},
     "output_type": "execute_result"
    }
   ],
   "source": [
    "# Syrup Top 5\n",
    "T_5_Syrup=sales[sales['commodity'] == 'syrups'][['upc','product_description','dollar_sales']].\\\n",
    "sort_values('dollar_sales', ascending = False).head(5)\n",
    "T_5_Syrup"
   ]
  },
  {
   "cell_type": "code",
   "execution_count": 450,
   "metadata": {},
   "outputs": [
    {
     "data": {
      "text/plain": [
       "1329874.6600000048"
      ]
     },
     "execution_count": 450,
     "metadata": {},
     "output_type": "execute_result"
    }
   ],
   "source": [
    "## for the presantation\n",
    "T_5_Syrup.to_csv('T_5_Syrup.csv', index=False)\n",
    "sales[sales['commodity'] == 'syrups']['dollar_sales'].sum()-T_5_Syrup['dollar_sales'].sum()"
   ]
  },
  {
   "cell_type": "code",
   "execution_count": 451,
   "metadata": {},
   "outputs": [
    {
     "data": {
      "text/html": [
       "<div>\n",
       "<style scoped>\n",
       "    .dataframe tbody tr th:only-of-type {\n",
       "        vertical-align: middle;\n",
       "    }\n",
       "\n",
       "    .dataframe tbody tr th {\n",
       "        vertical-align: top;\n",
       "    }\n",
       "\n",
       "    .dataframe thead th {\n",
       "        text-align: right;\n",
       "    }\n",
       "</style>\n",
       "<table border=\"1\" class=\"dataframe\">\n",
       "  <thead>\n",
       "    <tr style=\"text-align: right;\">\n",
       "      <th></th>\n",
       "      <th>upc</th>\n",
       "      <th>product_description</th>\n",
       "      <th>dollar_sales</th>\n",
       "    </tr>\n",
       "  </thead>\n",
       "  <tbody>\n",
       "    <tr>\n",
       "      <th>545</th>\n",
       "      <td>3620000250</td>\n",
       "      <td>RAGU TRADITIONAL PLAIN</td>\n",
       "      <td>146484.22</td>\n",
       "    </tr>\n",
       "    <tr>\n",
       "      <th>658</th>\n",
       "      <td>5100002549</td>\n",
       "      <td>PREGO REG SPAGHETTI SAUCE</td>\n",
       "      <td>115526.82</td>\n",
       "    </tr>\n",
       "    <tr>\n",
       "      <th>546</th>\n",
       "      <td>3620000300</td>\n",
       "      <td>RAGU OWS SPAG SAUCE MEAT</td>\n",
       "      <td>89176.76</td>\n",
       "    </tr>\n",
       "    <tr>\n",
       "      <th>585</th>\n",
       "      <td>3620001401</td>\n",
       "      <td>RAGU SPAGH SAUCE PLAIN</td>\n",
       "      <td>80414.19</td>\n",
       "    </tr>\n",
       "    <tr>\n",
       "      <th>578</th>\n",
       "      <td>3620001369</td>\n",
       "      <td>RAGU\\CHZ CREATION ALFRDO</td>\n",
       "      <td>79493.99</td>\n",
       "    </tr>\n",
       "  </tbody>\n",
       "</table>\n",
       "</div>"
      ],
      "text/plain": [
       "            upc        product_description  dollar_sales\n",
       "545  3620000250     RAGU TRADITIONAL PLAIN     146484.22\n",
       "658  5100002549  PREGO REG SPAGHETTI SAUCE     115526.82\n",
       "546  3620000300   RAGU OWS SPAG SAUCE MEAT      89176.76\n",
       "585  3620001401     RAGU SPAGH SAUCE PLAIN      80414.19\n",
       "578  3620001369   RAGU\\CHZ CREATION ALFRDO      79493.99"
      ]
     },
     "execution_count": 451,
     "metadata": {},
     "output_type": "execute_result"
    }
   ],
   "source": [
    "# Pasta Sauce Top 5\n",
    "T_5_Pasta_Sauce=sales[sales['commodity'] == 'pasta sauce'][['upc','product_description','dollar_sales']]. \\\n",
    "                                    sort_values('dollar_sales', ascending = False).head(5)\n",
    "T_5_Pasta_Sauce"
   ]
  },
  {
   "cell_type": "code",
   "execution_count": 452,
   "metadata": {},
   "outputs": [
    {
     "data": {
      "text/plain": [
       "3514102.6600000868"
      ]
     },
     "execution_count": 452,
     "metadata": {},
     "output_type": "execute_result"
    }
   ],
   "source": [
    "## for the presantation\n",
    "T_5_Pasta_Sauce.to_csv('T_5_Pasta_Sauce.csv', index=False)\n",
    "sales[sales['commodity'] == 'pasta sauce']['dollar_sales'].sum()-T_5_Pasta_Sauce['dollar_sales'].sum()"
   ]
  },
  {
   "cell_type": "code",
   "execution_count": 453,
   "metadata": {},
   "outputs": [
    {
     "data": {
      "text/html": [
       "<div>\n",
       "<style scoped>\n",
       "    .dataframe tbody tr th:only-of-type {\n",
       "        vertical-align: middle;\n",
       "    }\n",
       "\n",
       "    .dataframe tbody tr th {\n",
       "        vertical-align: top;\n",
       "    }\n",
       "\n",
       "    .dataframe thead th {\n",
       "        text-align: right;\n",
       "    }\n",
       "</style>\n",
       "<table border=\"1\" class=\"dataframe\">\n",
       "  <thead>\n",
       "    <tr style=\"text-align: right;\">\n",
       "      <th></th>\n",
       "      <th>upc</th>\n",
       "      <th>product_description</th>\n",
       "      <th>dollar_sales</th>\n",
       "    </tr>\n",
       "  </thead>\n",
       "  <tbody>\n",
       "    <tr>\n",
       "      <th>442</th>\n",
       "      <td>9999985020</td>\n",
       "      <td>PRIVATE LABEL THIN SPAGHETTI</td>\n",
       "      <td>84655.39</td>\n",
       "    </tr>\n",
       "    <tr>\n",
       "      <th>439</th>\n",
       "      <td>9999985004</td>\n",
       "      <td>PRIVATE LABEL SPAGHETTI REGULAR</td>\n",
       "      <td>80428.44</td>\n",
       "    </tr>\n",
       "    <tr>\n",
       "      <th>473</th>\n",
       "      <td>9999985068</td>\n",
       "      <td>PRIVATE LABEL ANGEL HAIR PASTA</td>\n",
       "      <td>66166.23</td>\n",
       "    </tr>\n",
       "    <tr>\n",
       "      <th>461</th>\n",
       "      <td>9999985051</td>\n",
       "      <td>PRIVATE LABEL SPAGHETTI THIN</td>\n",
       "      <td>61582.11</td>\n",
       "    </tr>\n",
       "    <tr>\n",
       "      <th>440</th>\n",
       "      <td>9999985005</td>\n",
       "      <td>PRIVATE LABEL SPAGHETTI REGULAR</td>\n",
       "      <td>60581.86</td>\n",
       "    </tr>\n",
       "  </tbody>\n",
       "</table>\n",
       "</div>"
      ],
      "text/plain": [
       "            upc              product_description  dollar_sales\n",
       "442  9999985020     PRIVATE LABEL THIN SPAGHETTI      84655.39\n",
       "439  9999985004  PRIVATE LABEL SPAGHETTI REGULAR      80428.44\n",
       "473  9999985068   PRIVATE LABEL ANGEL HAIR PASTA      66166.23\n",
       "461  9999985051     PRIVATE LABEL SPAGHETTI THIN      61582.11\n",
       "440  9999985005  PRIVATE LABEL SPAGHETTI REGULAR      60581.86"
      ]
     },
     "execution_count": 453,
     "metadata": {},
     "output_type": "execute_result"
    }
   ],
   "source": [
    "# Pasta Top 5\n",
    "T_5_Pasta=sales[sales['commodity'] == 'pasta'][['upc','product_description','dollar_sales']]. \\\n",
    "                                    sort_values('dollar_sales', ascending = False).head(5)\n",
    "T_5_Pasta"
   ]
  },
  {
   "cell_type": "code",
   "execution_count": 454,
   "metadata": {},
   "outputs": [
    {
     "data": {
      "text/plain": [
       "2499129.6800000397"
      ]
     },
     "execution_count": 454,
     "metadata": {},
     "output_type": "execute_result"
    }
   ],
   "source": [
    "## for the presantation\n",
    "T_5_Pasta.to_csv('T_5_Pasta.csv', index=False)\n",
    "sales[sales['commodity'] == 'pasta']['dollar_sales'].sum()-T_5_Pasta['dollar_sales'].sum()"
   ]
  },
  {
   "cell_type": "code",
   "execution_count": 30,
   "metadata": {},
   "outputs": [],
   "source": [
    "#Top 5 regarding units\n",
    "units = trans_prod.groupby(by = ['commodity', 'upc','product_description'])['units'].sum().reset_index()"
   ]
  },
  {
   "cell_type": "code",
   "execution_count": 460,
   "metadata": {},
   "outputs": [
    {
     "data": {
      "text/html": [
       "<div>\n",
       "<style scoped>\n",
       "    .dataframe tbody tr th:only-of-type {\n",
       "        vertical-align: middle;\n",
       "    }\n",
       "\n",
       "    .dataframe tbody tr th {\n",
       "        vertical-align: top;\n",
       "    }\n",
       "\n",
       "    .dataframe thead th {\n",
       "        text-align: right;\n",
       "    }\n",
       "</style>\n",
       "<table border=\"1\" class=\"dataframe\">\n",
       "  <thead>\n",
       "    <tr style=\"text-align: right;\">\n",
       "      <th></th>\n",
       "      <th>upc</th>\n",
       "      <th>product_description</th>\n",
       "      <th>units</th>\n",
       "    </tr>\n",
       "  </thead>\n",
       "  <tbody>\n",
       "    <tr>\n",
       "      <th>21</th>\n",
       "      <td>3000005300</td>\n",
       "      <td>AJ BUTTERMILK PANCAKE MIX</td>\n",
       "      <td>45591</td>\n",
       "    </tr>\n",
       "    <tr>\n",
       "      <th>45</th>\n",
       "      <td>9999985261</td>\n",
       "      <td>PRIVATE LABEL COMPLETE PANCAKE MIX</td>\n",
       "      <td>35488</td>\n",
       "    </tr>\n",
       "    <tr>\n",
       "      <th>19</th>\n",
       "      <td>3000005040</td>\n",
       "      <td>AUNT JEM ORIGINAL PANCAKE MIX</td>\n",
       "      <td>26756</td>\n",
       "    </tr>\n",
       "    <tr>\n",
       "      <th>20</th>\n",
       "      <td>3000005070</td>\n",
       "      <td>A/JEM COMPLETE PANCAKE MI</td>\n",
       "      <td>23961</td>\n",
       "    </tr>\n",
       "    <tr>\n",
       "      <th>44</th>\n",
       "      <td>9999985260</td>\n",
       "      <td>PRIVATE LABEL COMPLETE PANCAKE MIX</td>\n",
       "      <td>22898</td>\n",
       "    </tr>\n",
       "  </tbody>\n",
       "</table>\n",
       "</div>"
      ],
      "text/plain": [
       "           upc                 product_description  units\n",
       "21  3000005300           AJ BUTTERMILK PANCAKE MIX  45591\n",
       "45  9999985261  PRIVATE LABEL COMPLETE PANCAKE MIX  35488\n",
       "19  3000005040       AUNT JEM ORIGINAL PANCAKE MIX  26756\n",
       "20  3000005070           A/JEM COMPLETE PANCAKE MI  23961\n",
       "44  9999985260  PRIVATE LABEL COMPLETE PANCAKE MIX  22898"
      ]
     },
     "execution_count": 460,
     "metadata": {},
     "output_type": "execute_result"
    }
   ],
   "source": [
    "# Top 5 regarding units\n",
    "## Pancake Mixes Top 5\n",
    "T_5_Pancake_Mixes_U=units[units['commodity'] == 'pancake mixes'][['upc','product_description','units']]. \\\n",
    "                                    sort_values('units', ascending = False).head(5)\n",
    "T_5_Pancake_Mixes_U"
   ]
  },
  {
   "cell_type": "code",
   "execution_count": 467,
   "metadata": {},
   "outputs": [
    {
     "data": {
      "text/plain": [
       "145758"
      ]
     },
     "execution_count": 467,
     "metadata": {},
     "output_type": "execute_result"
    }
   ],
   "source": [
    "## for the presantation\n",
    "T_5_Pancake_Mixes_U.to_csv('T_5_Pancake_Mixes_U.csv', index=False)\n",
    "units[units['commodity'] == 'pancake mixes']['units'].sum()-T_5_Pancake_Mixes_U['units'].sum()"
   ]
  },
  {
   "cell_type": "code",
   "execution_count": 455,
   "metadata": {},
   "outputs": [
    {
     "data": {
      "text/html": [
       "<div>\n",
       "<style scoped>\n",
       "    .dataframe tbody tr th:only-of-type {\n",
       "        vertical-align: middle;\n",
       "    }\n",
       "\n",
       "    .dataframe tbody tr th {\n",
       "        vertical-align: top;\n",
       "    }\n",
       "\n",
       "    .dataframe thead th {\n",
       "        text-align: right;\n",
       "    }\n",
       "</style>\n",
       "<table border=\"1\" class=\"dataframe\">\n",
       "  <thead>\n",
       "    <tr style=\"text-align: right;\">\n",
       "      <th></th>\n",
       "      <th>upc</th>\n",
       "      <th>product_description</th>\n",
       "      <th>units</th>\n",
       "    </tr>\n",
       "  </thead>\n",
       "  <tbody>\n",
       "    <tr>\n",
       "      <th>916</th>\n",
       "      <td>9999967727</td>\n",
       "      <td>PRIVATE LABEL SYRUP PLASTIC BOTTLE</td>\n",
       "      <td>64530</td>\n",
       "    </tr>\n",
       "    <tr>\n",
       "      <th>911</th>\n",
       "      <td>9999966070</td>\n",
       "      <td>PRIVATE LABEL BUTTERED SYRUP</td>\n",
       "      <td>42579</td>\n",
       "    </tr>\n",
       "    <tr>\n",
       "      <th>814</th>\n",
       "      <td>3000005970</td>\n",
       "      <td>AUNT JEMIMA ORIGINL SYRUP</td>\n",
       "      <td>32385</td>\n",
       "    </tr>\n",
       "    <tr>\n",
       "      <th>853</th>\n",
       "      <td>4420979129</td>\n",
       "      <td>MRS BUTTERWORTH SYRUP</td>\n",
       "      <td>29451</td>\n",
       "    </tr>\n",
       "    <tr>\n",
       "      <th>917</th>\n",
       "      <td>9999967728</td>\n",
       "      <td>PRIVATE LABEL LITE PANCAKE SYRUP</td>\n",
       "      <td>27112</td>\n",
       "    </tr>\n",
       "  </tbody>\n",
       "</table>\n",
       "</div>"
      ],
      "text/plain": [
       "            upc                 product_description  units\n",
       "916  9999967727  PRIVATE LABEL SYRUP PLASTIC BOTTLE  64530\n",
       "911  9999966070        PRIVATE LABEL BUTTERED SYRUP  42579\n",
       "814  3000005970           AUNT JEMIMA ORIGINL SYRUP  32385\n",
       "853  4420979129               MRS BUTTERWORTH SYRUP  29451\n",
       "917  9999967728    PRIVATE LABEL LITE PANCAKE SYRUP  27112"
      ]
     },
     "execution_count": 455,
     "metadata": {},
     "output_type": "execute_result"
    }
   ],
   "source": [
    "## Syrup Top 5\n",
    "T_5_Syrup_U=units[units['commodity'] == 'syrups'][['upc','product_description','units']]. \\\n",
    "                                    sort_values('units', ascending = False).head(5)\n",
    "T_5_Syrup_U"
   ]
  },
  {
   "cell_type": "code",
   "execution_count": 457,
   "metadata": {},
   "outputs": [
    {
     "data": {
      "text/plain": [
       "528640"
      ]
     },
     "execution_count": 457,
     "metadata": {},
     "output_type": "execute_result"
    }
   ],
   "source": [
    "## for the presantation\n",
    "T_5_Syrup_U.to_csv('T_5_Syrup_U.csv', index=False)\n",
    "units[units['commodity'] == 'syrups']['units'].sum()-T_5_Syrup_U['units'].sum()"
   ]
  },
  {
   "cell_type": "code",
   "execution_count": 458,
   "metadata": {},
   "outputs": [
    {
     "data": {
      "text/html": [
       "<div>\n",
       "<style scoped>\n",
       "    .dataframe tbody tr th:only-of-type {\n",
       "        vertical-align: middle;\n",
       "    }\n",
       "\n",
       "    .dataframe tbody tr th {\n",
       "        vertical-align: top;\n",
       "    }\n",
       "\n",
       "    .dataframe thead th {\n",
       "        text-align: right;\n",
       "    }\n",
       "</style>\n",
       "<table border=\"1\" class=\"dataframe\">\n",
       "  <thead>\n",
       "    <tr style=\"text-align: right;\">\n",
       "      <th></th>\n",
       "      <th>upc</th>\n",
       "      <th>product_description</th>\n",
       "      <th>units</th>\n",
       "    </tr>\n",
       "  </thead>\n",
       "  <tbody>\n",
       "    <tr>\n",
       "      <th>545</th>\n",
       "      <td>3620000250</td>\n",
       "      <td>RAGU TRADITIONAL PLAIN</td>\n",
       "      <td>100432</td>\n",
       "    </tr>\n",
       "    <tr>\n",
       "      <th>658</th>\n",
       "      <td>5100002549</td>\n",
       "      <td>PREGO REG SPAGHETTI SAUCE</td>\n",
       "      <td>66631</td>\n",
       "    </tr>\n",
       "    <tr>\n",
       "      <th>546</th>\n",
       "      <td>3620000300</td>\n",
       "      <td>RAGU OWS SPAG SAUCE MEAT</td>\n",
       "      <td>62682</td>\n",
       "    </tr>\n",
       "    <tr>\n",
       "      <th>535</th>\n",
       "      <td>2700042238</td>\n",
       "      <td>HUNT TRADITIONAL SAUCE</td>\n",
       "      <td>62003</td>\n",
       "    </tr>\n",
       "    <tr>\n",
       "      <th>578</th>\n",
       "      <td>3620001369</td>\n",
       "      <td>RAGU\\CHZ CREATION ALFRDO</td>\n",
       "      <td>48466</td>\n",
       "    </tr>\n",
       "  </tbody>\n",
       "</table>\n",
       "</div>"
      ],
      "text/plain": [
       "            upc        product_description   units\n",
       "545  3620000250     RAGU TRADITIONAL PLAIN  100432\n",
       "658  5100002549  PREGO REG SPAGHETTI SAUCE   66631\n",
       "546  3620000300   RAGU OWS SPAG SAUCE MEAT   62682\n",
       "535  2700042238     HUNT TRADITIONAL SAUCE   62003\n",
       "578  3620001369   RAGU\\CHZ CREATION ALFRDO   48466"
      ]
     },
     "execution_count": 458,
     "metadata": {},
     "output_type": "execute_result"
    }
   ],
   "source": [
    "## Pasta Sauce Top 5\n",
    "T_5_Pasta_Sauce_U=units[units['commodity'] == 'pasta sauce'][['upc','product_description','units']]. \\\n",
    "                                    sort_values('units', ascending = False).head(5)\n",
    "T_5_Pasta_Sauce_U"
   ]
  },
  {
   "cell_type": "code",
   "execution_count": 459,
   "metadata": {},
   "outputs": [
    {
     "data": {
      "text/plain": [
       "1970154"
      ]
     },
     "execution_count": 459,
     "metadata": {},
     "output_type": "execute_result"
    }
   ],
   "source": [
    "## for the presantation\n",
    "T_5_Pasta_Sauce_U.to_csv('T_5_Pasta_Sauce_U.csv', index=False)\n",
    "units[units['commodity'] == 'pasta sauce']['units'].sum()-T_5_Pasta_Sauce_U['units'].sum()"
   ]
  },
  {
   "cell_type": "code",
   "execution_count": 468,
   "metadata": {},
   "outputs": [
    {
     "data": {
      "text/html": [
       "<div>\n",
       "<style scoped>\n",
       "    .dataframe tbody tr th:only-of-type {\n",
       "        vertical-align: middle;\n",
       "    }\n",
       "\n",
       "    .dataframe tbody tr th {\n",
       "        vertical-align: top;\n",
       "    }\n",
       "\n",
       "    .dataframe thead th {\n",
       "        text-align: right;\n",
       "    }\n",
       "</style>\n",
       "<table border=\"1\" class=\"dataframe\">\n",
       "  <thead>\n",
       "    <tr style=\"text-align: right;\">\n",
       "      <th></th>\n",
       "      <th>upc</th>\n",
       "      <th>product_description</th>\n",
       "      <th>units</th>\n",
       "    </tr>\n",
       "  </thead>\n",
       "  <tbody>\n",
       "    <tr>\n",
       "      <th>442</th>\n",
       "      <td>9999985020</td>\n",
       "      <td>PRIVATE LABEL THIN SPAGHETTI</td>\n",
       "      <td>146443</td>\n",
       "    </tr>\n",
       "    <tr>\n",
       "      <th>439</th>\n",
       "      <td>9999985004</td>\n",
       "      <td>PRIVATE LABEL SPAGHETTI REGULAR</td>\n",
       "      <td>139999</td>\n",
       "    </tr>\n",
       "    <tr>\n",
       "      <th>473</th>\n",
       "      <td>9999985068</td>\n",
       "      <td>PRIVATE LABEL ANGEL HAIR PASTA</td>\n",
       "      <td>111723</td>\n",
       "    </tr>\n",
       "    <tr>\n",
       "      <th>443</th>\n",
       "      <td>9999985021</td>\n",
       "      <td>PRIVATE LABEL ELBO MACARONI</td>\n",
       "      <td>78246</td>\n",
       "    </tr>\n",
       "    <tr>\n",
       "      <th>436</th>\n",
       "      <td>9999985001</td>\n",
       "      <td>PRIVATE LABEL THIN SPAGHETTI</td>\n",
       "      <td>60402</td>\n",
       "    </tr>\n",
       "  </tbody>\n",
       "</table>\n",
       "</div>"
      ],
      "text/plain": [
       "            upc              product_description   units\n",
       "442  9999985020     PRIVATE LABEL THIN SPAGHETTI  146443\n",
       "439  9999985004  PRIVATE LABEL SPAGHETTI REGULAR  139999\n",
       "473  9999985068   PRIVATE LABEL ANGEL HAIR PASTA  111723\n",
       "443  9999985021      PRIVATE LABEL ELBO MACARONI   78246\n",
       "436  9999985001     PRIVATE LABEL THIN SPAGHETTI   60402"
      ]
     },
     "execution_count": 468,
     "metadata": {},
     "output_type": "execute_result"
    }
   ],
   "source": [
    "## Pasta Top 5\n",
    "T_5_Pasta_U=units[units['commodity'] == 'pasta'][['upc','product_description','units']]. \\\n",
    "                                    sort_values('units', ascending = False).head(5)\n",
    "T_5_Pasta_U"
   ]
  },
  {
   "cell_type": "code",
   "execution_count": 469,
   "metadata": {},
   "outputs": [
    {
     "data": {
      "text/plain": [
       "2336247"
      ]
     },
     "execution_count": 469,
     "metadata": {},
     "output_type": "execute_result"
    }
   ],
   "source": [
    "## for the presantation\n",
    "T_5_Pasta_U.to_csv('T_5_Pasta_U.csv', index=False)\n",
    "units[units['commodity'] == 'pasta']['units'].sum()-T_5_Pasta_U['units'].sum()"
   ]
  },
  {
   "cell_type": "markdown",
   "metadata": {},
   "source": [
    "### b.\tWhat are the top 5 brands in each commodity?"
   ]
  },
  {
   "cell_type": "code",
   "execution_count": 471,
   "metadata": {},
   "outputs": [
    {
     "data": {
      "text/html": [
       "<div>\n",
       "<style scoped>\n",
       "    .dataframe tbody tr th:only-of-type {\n",
       "        vertical-align: middle;\n",
       "    }\n",
       "\n",
       "    .dataframe tbody tr th {\n",
       "        vertical-align: top;\n",
       "    }\n",
       "\n",
       "    .dataframe thead th {\n",
       "        text-align: right;\n",
       "    }\n",
       "</style>\n",
       "<table border=\"1\" class=\"dataframe\">\n",
       "  <thead>\n",
       "    <tr style=\"text-align: right;\">\n",
       "      <th></th>\n",
       "      <th>upc</th>\n",
       "      <th>dollar_sales</th>\n",
       "      <th>units</th>\n",
       "      <th>time_of_transaction</th>\n",
       "      <th>geography</th>\n",
       "      <th>week</th>\n",
       "      <th>household</th>\n",
       "      <th>store</th>\n",
       "      <th>basket</th>\n",
       "      <th>day</th>\n",
       "      <th>coupon</th>\n",
       "      <th>product_description</th>\n",
       "      <th>commodity</th>\n",
       "      <th>brand</th>\n",
       "      <th>product_size</th>\n",
       "      <th>unit_price</th>\n",
       "    </tr>\n",
       "  </thead>\n",
       "  <tbody>\n",
       "    <tr>\n",
       "      <th>0</th>\n",
       "      <td>7680850106</td>\n",
       "      <td>0.80</td>\n",
       "      <td>1</td>\n",
       "      <td>1100</td>\n",
       "      <td>2</td>\n",
       "      <td>1</td>\n",
       "      <td>125434</td>\n",
       "      <td>244</td>\n",
       "      <td>1</td>\n",
       "      <td>1</td>\n",
       "      <td>0</td>\n",
       "      <td>BARILLA ANGEL HAIR</td>\n",
       "      <td>pasta</td>\n",
       "      <td>Barilla</td>\n",
       "      <td>16 OZ</td>\n",
       "      <td>0.80</td>\n",
       "    </tr>\n",
       "    <tr>\n",
       "      <th>1</th>\n",
       "      <td>3620000470</td>\n",
       "      <td>3.59</td>\n",
       "      <td>1</td>\n",
       "      <td>1100</td>\n",
       "      <td>2</td>\n",
       "      <td>1</td>\n",
       "      <td>125434</td>\n",
       "      <td>244</td>\n",
       "      <td>1</td>\n",
       "      <td>1</td>\n",
       "      <td>0</td>\n",
       "      <td>BERTOLLI TOM&amp;BASIL SAUCE</td>\n",
       "      <td>pasta sauce</td>\n",
       "      <td>Bertolli</td>\n",
       "      <td>24 OZ</td>\n",
       "      <td>3.59</td>\n",
       "    </tr>\n",
       "    <tr>\n",
       "      <th>2</th>\n",
       "      <td>1800028064</td>\n",
       "      <td>2.25</td>\n",
       "      <td>1</td>\n",
       "      <td>1137</td>\n",
       "      <td>2</td>\n",
       "      <td>1</td>\n",
       "      <td>108320</td>\n",
       "      <td>244</td>\n",
       "      <td>2</td>\n",
       "      <td>1</td>\n",
       "      <td>0</td>\n",
       "      <td>H J PANCK BTRMLK COMP MIX</td>\n",
       "      <td>pancake mixes</td>\n",
       "      <td>Hungry Jack</td>\n",
       "      <td></td>\n",
       "      <td>2.25</td>\n",
       "    </tr>\n",
       "    <tr>\n",
       "      <th>3</th>\n",
       "      <td>9999985067</td>\n",
       "      <td>0.85</td>\n",
       "      <td>1</td>\n",
       "      <td>1148</td>\n",
       "      <td>2</td>\n",
       "      <td>1</td>\n",
       "      <td>162016</td>\n",
       "      <td>244</td>\n",
       "      <td>3</td>\n",
       "      <td>1</td>\n",
       "      <td>0</td>\n",
       "      <td>PRIVATE LABEL VERMICELLI</td>\n",
       "      <td>pasta</td>\n",
       "      <td>Private Label</td>\n",
       "      <td>16 OZ</td>\n",
       "      <td>0.85</td>\n",
       "    </tr>\n",
       "    <tr>\n",
       "      <th>4</th>\n",
       "      <td>9999985131</td>\n",
       "      <td>2.19</td>\n",
       "      <td>1</td>\n",
       "      <td>1323</td>\n",
       "      <td>2</td>\n",
       "      <td>1</td>\n",
       "      <td>89437</td>\n",
       "      <td>244</td>\n",
       "      <td>4</td>\n",
       "      <td>1</td>\n",
       "      <td>0</td>\n",
       "      <td>PRIVATE LABEL IMPORTED LASAGNA</td>\n",
       "      <td>pasta</td>\n",
       "      <td>Private Label Premium</td>\n",
       "      <td>16 OZ</td>\n",
       "      <td>2.19</td>\n",
       "    </tr>\n",
       "  </tbody>\n",
       "</table>\n",
       "</div>"
      ],
      "text/plain": [
       "          upc  dollar_sales  units  time_of_transaction  geography  week  \\\n",
       "0  7680850106          0.80      1                 1100          2     1   \n",
       "1  3620000470          3.59      1                 1100          2     1   \n",
       "2  1800028064          2.25      1                 1137          2     1   \n",
       "3  9999985067          0.85      1                 1148          2     1   \n",
       "4  9999985131          2.19      1                 1323          2     1   \n",
       "\n",
       "   household  store  basket  day  coupon             product_description  \\\n",
       "0     125434    244       1    1       0              BARILLA ANGEL HAIR   \n",
       "1     125434    244       1    1       0        BERTOLLI TOM&BASIL SAUCE   \n",
       "2     108320    244       2    1       0       H J PANCK BTRMLK COMP MIX   \n",
       "3     162016    244       3    1       0        PRIVATE LABEL VERMICELLI   \n",
       "4      89437    244       4    1       0  PRIVATE LABEL IMPORTED LASAGNA   \n",
       "\n",
       "       commodity                  brand product_size  unit_price  \n",
       "0          pasta                Barilla        16 OZ        0.80  \n",
       "1    pasta sauce               Bertolli        24 OZ        3.59  \n",
       "2  pancake mixes            Hungry Jack                     2.25  \n",
       "3          pasta          Private Label        16 OZ        0.85  \n",
       "4          pasta  Private Label Premium        16 OZ        2.19  "
      ]
     },
     "execution_count": 471,
     "metadata": {},
     "output_type": "execute_result"
    }
   ],
   "source": [
    "trans_prod.head()"
   ]
  },
  {
   "cell_type": "code",
   "execution_count": 478,
   "metadata": {},
   "outputs": [],
   "source": [
    "# Checking sales for each brand \n",
    "# We do not need UPC code\n",
    "sales_brand = trans_prod.groupby(by = ['commodity','brand'])['dollar_sales'].sum().reset_index()"
   ]
  },
  {
   "cell_type": "code",
   "execution_count": 479,
   "metadata": {},
   "outputs": [
    {
     "data": {
      "text/html": [
       "<div>\n",
       "<style scoped>\n",
       "    .dataframe tbody tr th:only-of-type {\n",
       "        vertical-align: middle;\n",
       "    }\n",
       "\n",
       "    .dataframe tbody tr th {\n",
       "        vertical-align: top;\n",
       "    }\n",
       "\n",
       "    .dataframe thead th {\n",
       "        text-align: right;\n",
       "    }\n",
       "</style>\n",
       "<table border=\"1\" class=\"dataframe\">\n",
       "  <thead>\n",
       "    <tr style=\"text-align: right;\">\n",
       "      <th></th>\n",
       "      <th>commodity</th>\n",
       "      <th>brand</th>\n",
       "      <th>dollar_sales</th>\n",
       "    </tr>\n",
       "  </thead>\n",
       "  <tbody>\n",
       "    <tr>\n",
       "      <th>0</th>\n",
       "      <td>pancake mixes</td>\n",
       "      <td>Aunt Jemima</td>\n",
       "      <td>206708.70</td>\n",
       "    </tr>\n",
       "    <tr>\n",
       "      <th>1</th>\n",
       "      <td>pancake mixes</td>\n",
       "      <td>Bisquick</td>\n",
       "      <td>18439.35</td>\n",
       "    </tr>\n",
       "    <tr>\n",
       "      <th>2</th>\n",
       "      <td>pancake mixes</td>\n",
       "      <td>Bruce's</td>\n",
       "      <td>3930.90</td>\n",
       "    </tr>\n",
       "    <tr>\n",
       "      <th>3</th>\n",
       "      <td>pancake mixes</td>\n",
       "      <td>Classique</td>\n",
       "      <td>2675.07</td>\n",
       "    </tr>\n",
       "    <tr>\n",
       "      <th>4</th>\n",
       "      <td>pancake mixes</td>\n",
       "      <td>Fastshake</td>\n",
       "      <td>39.61</td>\n",
       "    </tr>\n",
       "  </tbody>\n",
       "</table>\n",
       "</div>"
      ],
      "text/plain": [
       "       commodity        brand  dollar_sales\n",
       "0  pancake mixes  Aunt Jemima     206708.70\n",
       "1  pancake mixes     Bisquick      18439.35\n",
       "2  pancake mixes      Bruce's       3930.90\n",
       "3  pancake mixes    Classique       2675.07\n",
       "4  pancake mixes    Fastshake         39.61"
      ]
     },
     "execution_count": 479,
     "metadata": {},
     "output_type": "execute_result"
    }
   ],
   "source": [
    "sales_brand.head()"
   ]
  },
  {
   "cell_type": "code",
   "execution_count": 484,
   "metadata": {},
   "outputs": [
    {
     "data": {
      "text/html": [
       "<div>\n",
       "<style scoped>\n",
       "    .dataframe tbody tr th:only-of-type {\n",
       "        vertical-align: middle;\n",
       "    }\n",
       "\n",
       "    .dataframe tbody tr th {\n",
       "        vertical-align: top;\n",
       "    }\n",
       "\n",
       "    .dataframe thead th {\n",
       "        text-align: right;\n",
       "    }\n",
       "</style>\n",
       "<table border=\"1\" class=\"dataframe\">\n",
       "  <thead>\n",
       "    <tr style=\"text-align: right;\">\n",
       "      <th></th>\n",
       "      <th>brand</th>\n",
       "      <th>dollar_sales</th>\n",
       "    </tr>\n",
       "  </thead>\n",
       "  <tbody>\n",
       "    <tr>\n",
       "      <th>0</th>\n",
       "      <td>Aunt Jemima</td>\n",
       "      <td>206708.70</td>\n",
       "    </tr>\n",
       "    <tr>\n",
       "      <th>6</th>\n",
       "      <td>Hungry Jack</td>\n",
       "      <td>111437.62</td>\n",
       "    </tr>\n",
       "    <tr>\n",
       "      <th>14</th>\n",
       "      <td>Private Label</td>\n",
       "      <td>73620.39</td>\n",
       "    </tr>\n",
       "    <tr>\n",
       "      <th>7</th>\n",
       "      <td>Krusteaz</td>\n",
       "      <td>30528.77</td>\n",
       "    </tr>\n",
       "    <tr>\n",
       "      <th>1</th>\n",
       "      <td>Bisquick</td>\n",
       "      <td>18439.35</td>\n",
       "    </tr>\n",
       "  </tbody>\n",
       "</table>\n",
       "</div>"
      ],
      "text/plain": [
       "            brand  dollar_sales\n",
       "0     Aunt Jemima     206708.70\n",
       "6     Hungry Jack     111437.62\n",
       "14  Private Label      73620.39\n",
       "7        Krusteaz      30528.77\n",
       "1        Bisquick      18439.35"
      ]
     },
     "execution_count": 484,
     "metadata": {},
     "output_type": "execute_result"
    }
   ],
   "source": [
    "# Top 5 regarding sales\n",
    "\n",
    "# Pancake Mixes Top 5\n",
    "T_5_Pancake_Mixes_B=sales_brand[sales_brand['commodity'] == 'pancake mixes'][['brand','dollar_sales']]. \\\n",
    "                                    sort_values('dollar_sales', ascending = False).head(5)\n",
    "T_5_Pancake_Mixes_B"
   ]
  },
  {
   "cell_type": "code",
   "execution_count": 486,
   "metadata": {},
   "outputs": [
    {
     "data": {
      "text/plain": [
       "71105.01000000152"
      ]
     },
     "execution_count": 486,
     "metadata": {},
     "output_type": "execute_result"
    }
   ],
   "source": [
    "## for the presantation\n",
    "T_5_Pancake_Mixes_B.to_csv('T_5_Pancake_Mixes_B.csv', index=False)\n",
    "sales_brand[sales_brand['commodity'] == 'pancake mixes']['dollar_sales'].sum()-T_5_Pancake_Mixes_B['dollar_sales'].sum()"
   ]
  },
  {
   "cell_type": "code",
   "execution_count": 487,
   "metadata": {},
   "outputs": [
    {
     "data": {
      "text/html": [
       "<div>\n",
       "<style scoped>\n",
       "    .dataframe tbody tr th:only-of-type {\n",
       "        vertical-align: middle;\n",
       "    }\n",
       "\n",
       "    .dataframe tbody tr th {\n",
       "        vertical-align: top;\n",
       "    }\n",
       "\n",
       "    .dataframe thead th {\n",
       "        text-align: right;\n",
       "    }\n",
       "</style>\n",
       "<table border=\"1\" class=\"dataframe\">\n",
       "  <thead>\n",
       "    <tr style=\"text-align: right;\">\n",
       "      <th></th>\n",
       "      <th>brand</th>\n",
       "      <th>dollar_sales</th>\n",
       "    </tr>\n",
       "  </thead>\n",
       "  <tbody>\n",
       "    <tr>\n",
       "      <th>117</th>\n",
       "      <td>Aunt Jemima</td>\n",
       "      <td>359669.04</td>\n",
       "    </tr>\n",
       "    <tr>\n",
       "      <th>142</th>\n",
       "      <td>Private Label</td>\n",
       "      <td>352952.87</td>\n",
       "    </tr>\n",
       "    <tr>\n",
       "      <th>138</th>\n",
       "      <td>Mrs Butterworth</td>\n",
       "      <td>159165.47</td>\n",
       "    </tr>\n",
       "    <tr>\n",
       "      <th>132</th>\n",
       "      <td>Log Cabin</td>\n",
       "      <td>130905.87</td>\n",
       "    </tr>\n",
       "    <tr>\n",
       "      <th>129</th>\n",
       "      <td>Karo</td>\n",
       "      <td>120430.98</td>\n",
       "    </tr>\n",
       "  </tbody>\n",
       "</table>\n",
       "</div>"
      ],
      "text/plain": [
       "               brand  dollar_sales\n",
       "117      Aunt Jemima     359669.04\n",
       "142    Private Label     352952.87\n",
       "138  Mrs Butterworth     159165.47\n",
       "132        Log Cabin     130905.87\n",
       "129             Karo     120430.98"
      ]
     },
     "execution_count": 487,
     "metadata": {},
     "output_type": "execute_result"
    }
   ],
   "source": [
    "## Syrup Top 5\n",
    "T_5_Syrup_B=sales_brand[sales_brand['commodity'] == 'syrups'][['brand','dollar_sales']]. \\\n",
    "                                    sort_values('dollar_sales', ascending = False).head(5)\n",
    "T_5_Syrup_B"
   ]
  },
  {
   "cell_type": "code",
   "execution_count": 488,
   "metadata": {},
   "outputs": [
    {
     "data": {
      "text/plain": [
       "618212.6599999857"
      ]
     },
     "execution_count": 488,
     "metadata": {},
     "output_type": "execute_result"
    }
   ],
   "source": [
    "## for the presantation\n",
    "T_5_Syrup_B.to_csv('T_5_Syrup_B.csv', index=False)\n",
    "sales_brand[sales_brand['commodity'] == 'syrups']['dollar_sales'].sum()-T_5_Syrup_B['dollar_sales'].sum()"
   ]
  },
  {
   "cell_type": "code",
   "execution_count": 489,
   "metadata": {},
   "outputs": [
    {
     "data": {
      "text/html": [
       "<div>\n",
       "<style scoped>\n",
       "    .dataframe tbody tr th:only-of-type {\n",
       "        vertical-align: middle;\n",
       "    }\n",
       "\n",
       "    .dataframe tbody tr th {\n",
       "        vertical-align: top;\n",
       "    }\n",
       "\n",
       "    .dataframe thead th {\n",
       "        text-align: right;\n",
       "    }\n",
       "</style>\n",
       "<table border=\"1\" class=\"dataframe\">\n",
       "  <thead>\n",
       "    <tr style=\"text-align: right;\">\n",
       "      <th></th>\n",
       "      <th>brand</th>\n",
       "      <th>dollar_sales</th>\n",
       "    </tr>\n",
       "  </thead>\n",
       "  <tbody>\n",
       "    <tr>\n",
       "      <th>108</th>\n",
       "      <td>Ragu</td>\n",
       "      <td>1.500841e+06</td>\n",
       "    </tr>\n",
       "    <tr>\n",
       "      <th>103</th>\n",
       "      <td>Prego</td>\n",
       "      <td>7.999493e+05</td>\n",
       "    </tr>\n",
       "    <tr>\n",
       "      <th>86</th>\n",
       "      <td>Classico</td>\n",
       "      <td>4.381867e+05</td>\n",
       "    </tr>\n",
       "    <tr>\n",
       "      <th>104</th>\n",
       "      <td>Private Label</td>\n",
       "      <td>3.310957e+05</td>\n",
       "    </tr>\n",
       "    <tr>\n",
       "      <th>79</th>\n",
       "      <td>Bertolli</td>\n",
       "      <td>2.581021e+05</td>\n",
       "    </tr>\n",
       "  </tbody>\n",
       "</table>\n",
       "</div>"
      ],
      "text/plain": [
       "             brand  dollar_sales\n",
       "108           Ragu  1.500841e+06\n",
       "103          Prego  7.999493e+05\n",
       "86        Classico  4.381867e+05\n",
       "104  Private Label  3.310957e+05\n",
       "79        Bertolli  2.581021e+05"
      ]
     },
     "execution_count": 489,
     "metadata": {},
     "output_type": "execute_result"
    }
   ],
   "source": [
    "## Pasta Sauce Top 5\n",
    "T_5_Pasta_Sauce_B=sales_brand[sales_brand['commodity'] == 'pasta sauce'][[ 'brand','dollar_sales']]. \\\n",
    "                                    sort_values('dollar_sales', ascending = False).head(5)\n",
    "T_5_Pasta_Sauce_B"
   ]
  },
  {
   "cell_type": "code",
   "execution_count": 490,
   "metadata": {},
   "outputs": [
    {
     "data": {
      "text/plain": [
       "697023.9000004516"
      ]
     },
     "execution_count": 490,
     "metadata": {},
     "output_type": "execute_result"
    }
   ],
   "source": [
    "## for the presantation\n",
    "T_5_Pasta_Sauce_B.to_csv('T_5_Pasta_Sauce_B.csv', index=False)\n",
    "sales_brand[sales_brand['commodity'] == 'pasta sauce']['dollar_sales'].sum()-T_5_Pasta_Sauce_B['dollar_sales'].sum()"
   ]
  },
  {
   "cell_type": "code",
   "execution_count": 491,
   "metadata": {},
   "outputs": [
    {
     "data": {
      "text/html": [
       "<div>\n",
       "<style scoped>\n",
       "    .dataframe tbody tr th:only-of-type {\n",
       "        vertical-align: middle;\n",
       "    }\n",
       "\n",
       "    .dataframe tbody tr th {\n",
       "        vertical-align: top;\n",
       "    }\n",
       "\n",
       "    .dataframe thead th {\n",
       "        text-align: right;\n",
       "    }\n",
       "</style>\n",
       "<table border=\"1\" class=\"dataframe\">\n",
       "  <thead>\n",
       "    <tr style=\"text-align: right;\">\n",
       "      <th></th>\n",
       "      <th>brand</th>\n",
       "      <th>dollar_sales</th>\n",
       "    </tr>\n",
       "  </thead>\n",
       "  <tbody>\n",
       "    <tr>\n",
       "      <th>62</th>\n",
       "      <td>Private Label</td>\n",
       "      <td>995287.840001</td>\n",
       "    </tr>\n",
       "    <tr>\n",
       "      <th>22</th>\n",
       "      <td>Barilla</td>\n",
       "      <td>433893.839999</td>\n",
       "    </tr>\n",
       "    <tr>\n",
       "      <th>30</th>\n",
       "      <td>Creamette</td>\n",
       "      <td>271594.860000</td>\n",
       "    </tr>\n",
       "    <tr>\n",
       "      <th>55</th>\n",
       "      <td>Mueller</td>\n",
       "      <td>270850.500000</td>\n",
       "    </tr>\n",
       "    <tr>\n",
       "      <th>68</th>\n",
       "      <td>Ronzoni</td>\n",
       "      <td>213727.200000</td>\n",
       "    </tr>\n",
       "  </tbody>\n",
       "</table>\n",
       "</div>"
      ],
      "text/plain": [
       "            brand   dollar_sales\n",
       "62  Private Label  995287.840001\n",
       "22        Barilla  433893.839999\n",
       "30      Creamette  271594.860000\n",
       "55        Mueller  270850.500000\n",
       "68        Ronzoni  213727.200000"
      ]
     },
     "execution_count": 491,
     "metadata": {},
     "output_type": "execute_result"
    }
   ],
   "source": [
    "## Pasta Top 5\n",
    "T_5_Pasta_B=sales_brand[sales_brand['commodity'] == 'pasta'][['brand','dollar_sales']]. \\\n",
    "                                    sort_values('dollar_sales', ascending = False).head(5)\n",
    "T_5_Pasta_B"
   ]
  },
  {
   "cell_type": "code",
   "execution_count": 492,
   "metadata": {},
   "outputs": [
    {
     "data": {
      "text/plain": [
       "667189.4700000593"
      ]
     },
     "execution_count": 492,
     "metadata": {},
     "output_type": "execute_result"
    }
   ],
   "source": [
    "## for the presantation\n",
    "T_5_Pasta_B.to_csv('T_5_Pasta_B.csv', index=False)\n",
    "sales_brand[sales_brand['commodity'] == 'pasta']['dollar_sales'].sum()-T_5_Pasta_B['dollar_sales'].sum()"
   ]
  },
  {
   "cell_type": "code",
   "execution_count": 42,
   "metadata": {},
   "outputs": [],
   "source": [
    "# Checking units for each brand \n",
    "units_brand = trans_prod.groupby(by = ['commodity','brand'])['units'].sum().reset_index()"
   ]
  },
  {
   "cell_type": "code",
   "execution_count": 482,
   "metadata": {
    "scrolled": true
   },
   "outputs": [
    {
     "data": {
      "text/html": [
       "<div>\n",
       "<style scoped>\n",
       "    .dataframe tbody tr th:only-of-type {\n",
       "        vertical-align: middle;\n",
       "    }\n",
       "\n",
       "    .dataframe tbody tr th {\n",
       "        vertical-align: top;\n",
       "    }\n",
       "\n",
       "    .dataframe thead th {\n",
       "        text-align: right;\n",
       "    }\n",
       "</style>\n",
       "<table border=\"1\" class=\"dataframe\">\n",
       "  <thead>\n",
       "    <tr style=\"text-align: right;\">\n",
       "      <th></th>\n",
       "      <th>commodity</th>\n",
       "      <th>brand</th>\n",
       "      <th>units</th>\n",
       "    </tr>\n",
       "  </thead>\n",
       "  <tbody>\n",
       "    <tr>\n",
       "      <th>0</th>\n",
       "      <td>pancake mixes</td>\n",
       "      <td>Aunt Jemima</td>\n",
       "      <td>101843</td>\n",
       "    </tr>\n",
       "    <tr>\n",
       "      <th>1</th>\n",
       "      <td>pancake mixes</td>\n",
       "      <td>Bisquick</td>\n",
       "      <td>17651</td>\n",
       "    </tr>\n",
       "    <tr>\n",
       "      <th>2</th>\n",
       "      <td>pancake mixes</td>\n",
       "      <td>Bruce's</td>\n",
       "      <td>1121</td>\n",
       "    </tr>\n",
       "    <tr>\n",
       "      <th>3</th>\n",
       "      <td>pancake mixes</td>\n",
       "      <td>Classique</td>\n",
       "      <td>853</td>\n",
       "    </tr>\n",
       "    <tr>\n",
       "      <th>4</th>\n",
       "      <td>pancake mixes</td>\n",
       "      <td>Fastshake</td>\n",
       "      <td>39</td>\n",
       "    </tr>\n",
       "  </tbody>\n",
       "</table>\n",
       "</div>"
      ],
      "text/plain": [
       "       commodity        brand   units\n",
       "0  pancake mixes  Aunt Jemima  101843\n",
       "1  pancake mixes     Bisquick   17651\n",
       "2  pancake mixes      Bruce's    1121\n",
       "3  pancake mixes    Classique     853\n",
       "4  pancake mixes    Fastshake      39"
      ]
     },
     "execution_count": 482,
     "metadata": {},
     "output_type": "execute_result"
    }
   ],
   "source": [
    "units_brand.head()"
   ]
  },
  {
   "cell_type": "code",
   "execution_count": 493,
   "metadata": {},
   "outputs": [
    {
     "data": {
      "text/html": [
       "<div>\n",
       "<style scoped>\n",
       "    .dataframe tbody tr th:only-of-type {\n",
       "        vertical-align: middle;\n",
       "    }\n",
       "\n",
       "    .dataframe tbody tr th {\n",
       "        vertical-align: top;\n",
       "    }\n",
       "\n",
       "    .dataframe thead th {\n",
       "        text-align: right;\n",
       "    }\n",
       "</style>\n",
       "<table border=\"1\" class=\"dataframe\">\n",
       "  <thead>\n",
       "    <tr style=\"text-align: right;\">\n",
       "      <th></th>\n",
       "      <th>brand</th>\n",
       "      <th>units</th>\n",
       "    </tr>\n",
       "  </thead>\n",
       "  <tbody>\n",
       "    <tr>\n",
       "      <th>0</th>\n",
       "      <td>Aunt Jemima</td>\n",
       "      <td>101843</td>\n",
       "    </tr>\n",
       "    <tr>\n",
       "      <th>14</th>\n",
       "      <td>Private Label</td>\n",
       "      <td>58386</td>\n",
       "    </tr>\n",
       "    <tr>\n",
       "      <th>6</th>\n",
       "      <td>Hungry Jack</td>\n",
       "      <td>57012</td>\n",
       "    </tr>\n",
       "    <tr>\n",
       "      <th>16</th>\n",
       "      <td>White Lily</td>\n",
       "      <td>22082</td>\n",
       "    </tr>\n",
       "    <tr>\n",
       "      <th>1</th>\n",
       "      <td>Bisquick</td>\n",
       "      <td>17651</td>\n",
       "    </tr>\n",
       "  </tbody>\n",
       "</table>\n",
       "</div>"
      ],
      "text/plain": [
       "            brand   units\n",
       "0     Aunt Jemima  101843\n",
       "14  Private Label   58386\n",
       "6     Hungry Jack   57012\n",
       "16     White Lily   22082\n",
       "1        Bisquick   17651"
      ]
     },
     "execution_count": 493,
     "metadata": {},
     "output_type": "execute_result"
    }
   ],
   "source": [
    "## Top 5 regarding sales\n",
    "\n",
    "## Pancake Mixes Top 5\n",
    "T_5_Pancake_Mixes_B_U=units_brand[units_brand['commodity'] == 'pancake mixes'][['brand','units']]. \\\n",
    "                                    sort_values('units', ascending = False).head(5)\n",
    "T_5_Pancake_Mixes_B_U"
   ]
  },
  {
   "cell_type": "code",
   "execution_count": 496,
   "metadata": {},
   "outputs": [
    {
     "data": {
      "text/plain": [
       "43478"
      ]
     },
     "execution_count": 496,
     "metadata": {},
     "output_type": "execute_result"
    }
   ],
   "source": [
    "## for the presantation\n",
    "T_5_Pancake_Mixes_B_U.to_csv('T_5_Pancake_Mixes_B_U.csv', index=False)\n",
    "units_brand[units_brand['commodity'] == 'pancake mixes']['units'].sum()-T_5_Pancake_Mixes_B_U['units'].sum()"
   ]
  },
  {
   "cell_type": "code",
   "execution_count": 497,
   "metadata": {},
   "outputs": [
    {
     "data": {
      "text/html": [
       "<div>\n",
       "<style scoped>\n",
       "    .dataframe tbody tr th:only-of-type {\n",
       "        vertical-align: middle;\n",
       "    }\n",
       "\n",
       "    .dataframe tbody tr th {\n",
       "        vertical-align: top;\n",
       "    }\n",
       "\n",
       "    .dataframe thead th {\n",
       "        text-align: right;\n",
       "    }\n",
       "</style>\n",
       "<table border=\"1\" class=\"dataframe\">\n",
       "  <thead>\n",
       "    <tr style=\"text-align: right;\">\n",
       "      <th></th>\n",
       "      <th>brand</th>\n",
       "      <th>units</th>\n",
       "    </tr>\n",
       "  </thead>\n",
       "  <tbody>\n",
       "    <tr>\n",
       "      <th>142</th>\n",
       "      <td>Private Label</td>\n",
       "      <td>222469</td>\n",
       "    </tr>\n",
       "    <tr>\n",
       "      <th>117</th>\n",
       "      <td>Aunt Jemima</td>\n",
       "      <td>123936</td>\n",
       "    </tr>\n",
       "    <tr>\n",
       "      <th>138</th>\n",
       "      <td>Mrs Butterworth</td>\n",
       "      <td>52596</td>\n",
       "    </tr>\n",
       "    <tr>\n",
       "      <th>129</th>\n",
       "      <td>Karo</td>\n",
       "      <td>52003</td>\n",
       "    </tr>\n",
       "    <tr>\n",
       "      <th>139</th>\n",
       "      <td>Northwoods</td>\n",
       "      <td>51672</td>\n",
       "    </tr>\n",
       "  </tbody>\n",
       "</table>\n",
       "</div>"
      ],
      "text/plain": [
       "               brand   units\n",
       "142    Private Label  222469\n",
       "117      Aunt Jemima  123936\n",
       "138  Mrs Butterworth   52596\n",
       "129             Karo   52003\n",
       "139       Northwoods   51672"
      ]
     },
     "execution_count": 497,
     "metadata": {},
     "output_type": "execute_result"
    }
   ],
   "source": [
    "## Syrup Top 5\n",
    "T_5_Syrup_B_U=units_brand[units_brand['commodity'] == 'syrups'][['brand','units']]. \\\n",
    "                                    sort_values('units', ascending = False).head(5)\n",
    "T_5_Syrup_B_U"
   ]
  },
  {
   "cell_type": "code",
   "execution_count": 498,
   "metadata": {},
   "outputs": [
    {
     "data": {
      "text/plain": [
       "222021"
      ]
     },
     "execution_count": 498,
     "metadata": {},
     "output_type": "execute_result"
    }
   ],
   "source": [
    "## for the presantation\n",
    "T_5_Syrup_B_U.to_csv('T_5_Syrup_B_U.csv', index=False)\n",
    "units_brand[units_brand['commodity'] == 'syrups']['units'].sum()-T_5_Syrup_B_U['units'].sum()"
   ]
  },
  {
   "cell_type": "code",
   "execution_count": 499,
   "metadata": {},
   "outputs": [
    {
     "data": {
      "text/html": [
       "<div>\n",
       "<style scoped>\n",
       "    .dataframe tbody tr th:only-of-type {\n",
       "        vertical-align: middle;\n",
       "    }\n",
       "\n",
       "    .dataframe tbody tr th {\n",
       "        vertical-align: top;\n",
       "    }\n",
       "\n",
       "    .dataframe thead th {\n",
       "        text-align: right;\n",
       "    }\n",
       "</style>\n",
       "<table border=\"1\" class=\"dataframe\">\n",
       "  <thead>\n",
       "    <tr style=\"text-align: right;\">\n",
       "      <th></th>\n",
       "      <th>brand</th>\n",
       "      <th>units</th>\n",
       "    </tr>\n",
       "  </thead>\n",
       "  <tbody>\n",
       "    <tr>\n",
       "      <th>108</th>\n",
       "      <td>Ragu</td>\n",
       "      <td>889164</td>\n",
       "    </tr>\n",
       "    <tr>\n",
       "      <th>103</th>\n",
       "      <td>Prego</td>\n",
       "      <td>402780</td>\n",
       "    </tr>\n",
       "    <tr>\n",
       "      <th>104</th>\n",
       "      <td>Private Label</td>\n",
       "      <td>305841</td>\n",
       "    </tr>\n",
       "    <tr>\n",
       "      <th>94</th>\n",
       "      <td>Hunt's</td>\n",
       "      <td>253424</td>\n",
       "    </tr>\n",
       "    <tr>\n",
       "      <th>86</th>\n",
       "      <td>Classico</td>\n",
       "      <td>172232</td>\n",
       "    </tr>\n",
       "  </tbody>\n",
       "</table>\n",
       "</div>"
      ],
      "text/plain": [
       "             brand   units\n",
       "108           Ragu  889164\n",
       "103          Prego  402780\n",
       "104  Private Label  305841\n",
       "94          Hunt's  253424\n",
       "86        Classico  172232"
      ]
     },
     "execution_count": 499,
     "metadata": {},
     "output_type": "execute_result"
    }
   ],
   "source": [
    "## Pasta Sauce Top 5\n",
    "T_5_Pasta_Sauce_B_U=units_brand[units_brand['commodity'] == 'pasta sauce'][['brand','units']]. \\\n",
    "                                    sort_values('units', ascending = False).head(5)\n",
    "T_5_Pasta_Sauce_B_U"
   ]
  },
  {
   "cell_type": "code",
   "execution_count": 500,
   "metadata": {},
   "outputs": [
    {
     "data": {
      "text/plain": [
       "286927"
      ]
     },
     "execution_count": 500,
     "metadata": {},
     "output_type": "execute_result"
    }
   ],
   "source": [
    "## for the presantation\n",
    "T_5_Pasta_Sauce_B_U.to_csv('T_5_Pasta_Sauce_B_U.csv', index=False)\n",
    "units_brand[units_brand['commodity'] == 'pasta sauce']['units'].sum()-T_5_Pasta_Sauce_B_U['units'].sum()"
   ]
  },
  {
   "cell_type": "code",
   "execution_count": 501,
   "metadata": {},
   "outputs": [
    {
     "data": {
      "text/html": [
       "<div>\n",
       "<style scoped>\n",
       "    .dataframe tbody tr th:only-of-type {\n",
       "        vertical-align: middle;\n",
       "    }\n",
       "\n",
       "    .dataframe tbody tr th {\n",
       "        vertical-align: top;\n",
       "    }\n",
       "\n",
       "    .dataframe thead th {\n",
       "        text-align: right;\n",
       "    }\n",
       "</style>\n",
       "<table border=\"1\" class=\"dataframe\">\n",
       "  <thead>\n",
       "    <tr style=\"text-align: right;\">\n",
       "      <th></th>\n",
       "      <th>brand</th>\n",
       "      <th>units</th>\n",
       "    </tr>\n",
       "  </thead>\n",
       "  <tbody>\n",
       "    <tr>\n",
       "      <th>62</th>\n",
       "      <td>Private Label</td>\n",
       "      <td>1268797</td>\n",
       "    </tr>\n",
       "    <tr>\n",
       "      <th>22</th>\n",
       "      <td>Barilla</td>\n",
       "      <td>392225</td>\n",
       "    </tr>\n",
       "    <tr>\n",
       "      <th>30</th>\n",
       "      <td>Creamette</td>\n",
       "      <td>254375</td>\n",
       "    </tr>\n",
       "    <tr>\n",
       "      <th>55</th>\n",
       "      <td>Mueller</td>\n",
       "      <td>247890</td>\n",
       "    </tr>\n",
       "    <tr>\n",
       "      <th>63</th>\n",
       "      <td>Private Label Premium</td>\n",
       "      <td>208542</td>\n",
       "    </tr>\n",
       "  </tbody>\n",
       "</table>\n",
       "</div>"
      ],
      "text/plain": [
       "                    brand    units\n",
       "62          Private Label  1268797\n",
       "22                Barilla   392225\n",
       "30              Creamette   254375\n",
       "55                Mueller   247890\n",
       "63  Private Label Premium   208542"
      ]
     },
     "execution_count": 501,
     "metadata": {},
     "output_type": "execute_result"
    }
   ],
   "source": [
    "## Pasta Top 5\n",
    "T_5_Pasta_B_U=units_brand[units_brand['commodity'] == 'pasta'][['brand','units']]. \\\n",
    "                                    sort_values('units', ascending = False).head(5)\n",
    "T_5_Pasta_B_U"
   ]
  },
  {
   "cell_type": "code",
   "execution_count": 502,
   "metadata": {},
   "outputs": [
    {
     "data": {
      "text/plain": [
       "501231"
      ]
     },
     "execution_count": 502,
     "metadata": {},
     "output_type": "execute_result"
    }
   ],
   "source": [
    "## for the presantation\n",
    "T_5_Pasta_B_U.to_csv('T_5_Pasta_B_U.csv', index=False)\n",
    "units_brand[units_brand['commodity'] == 'pasta']['units'].sum()-T_5_Pasta_B_U['units'].sum()"
   ]
  },
  {
   "cell_type": "code",
   "execution_count": null,
   "metadata": {},
   "outputs": [],
   "source": []
  },
  {
   "cell_type": "markdown",
   "metadata": {},
   "source": [
    "### c.\tWhat drives my sales? Which brands and which customers"
   ]
  },
  {
   "cell_type": "code",
   "execution_count": 262,
   "metadata": {},
   "outputs": [
    {
     "data": {
      "text/html": [
       "<div>\n",
       "<style scoped>\n",
       "    .dataframe tbody tr th:only-of-type {\n",
       "        vertical-align: middle;\n",
       "    }\n",
       "\n",
       "    .dataframe tbody tr th {\n",
       "        vertical-align: top;\n",
       "    }\n",
       "\n",
       "    .dataframe thead th {\n",
       "        text-align: right;\n",
       "    }\n",
       "</style>\n",
       "<table border=\"1\" class=\"dataframe\">\n",
       "  <thead>\n",
       "    <tr style=\"text-align: right;\">\n",
       "      <th></th>\n",
       "      <th>brand</th>\n",
       "      <th>units</th>\n",
       "    </tr>\n",
       "  </thead>\n",
       "  <tbody>\n",
       "    <tr>\n",
       "      <th>0</th>\n",
       "      <td>Private Label</td>\n",
       "      <td>1855493</td>\n",
       "    </tr>\n",
       "    <tr>\n",
       "      <th>1</th>\n",
       "      <td>Ragu</td>\n",
       "      <td>889164</td>\n",
       "    </tr>\n",
       "    <tr>\n",
       "      <th>2</th>\n",
       "      <td>Barilla</td>\n",
       "      <td>470708</td>\n",
       "    </tr>\n",
       "    <tr>\n",
       "      <th>3</th>\n",
       "      <td>Prego</td>\n",
       "      <td>402780</td>\n",
       "    </tr>\n",
       "    <tr>\n",
       "      <th>4</th>\n",
       "      <td>Private Label Premium</td>\n",
       "      <td>271897</td>\n",
       "    </tr>\n",
       "    <tr>\n",
       "      <th>5</th>\n",
       "      <td>Creamette</td>\n",
       "      <td>254375</td>\n",
       "    </tr>\n",
       "    <tr>\n",
       "      <th>6</th>\n",
       "      <td>Hunt's</td>\n",
       "      <td>253424</td>\n",
       "    </tr>\n",
       "    <tr>\n",
       "      <th>7</th>\n",
       "      <td>Mueller</td>\n",
       "      <td>247890</td>\n",
       "    </tr>\n",
       "    <tr>\n",
       "      <th>8</th>\n",
       "      <td>Aunt Jemima</td>\n",
       "      <td>225779</td>\n",
       "    </tr>\n",
       "    <tr>\n",
       "      <th>9</th>\n",
       "      <td>Ronzoni</td>\n",
       "      <td>187470</td>\n",
       "    </tr>\n",
       "  </tbody>\n",
       "</table>\n",
       "</div>"
      ],
      "text/plain": [
       "                   brand    units\n",
       "0          Private Label  1855493\n",
       "1                   Ragu   889164\n",
       "2                Barilla   470708\n",
       "3                  Prego   402780\n",
       "4  Private Label Premium   271897\n",
       "5              Creamette   254375\n",
       "6                 Hunt's   253424\n",
       "7                Mueller   247890\n",
       "8            Aunt Jemima   225779\n",
       "9                Ronzoni   187470"
      ]
     },
     "execution_count": 262,
     "metadata": {},
     "output_type": "execute_result"
    }
   ],
   "source": [
    "# Top 10 brands\n",
    "unit_brand=pd.DataFrame(trans_prod.groupby(['brand'])['units'].sum()).sort_values(['units'], ascending=False).reset_index()\n",
    "unit_brand.head(10)"
   ]
  },
  {
   "cell_type": "code",
   "execution_count": 263,
   "metadata": {},
   "outputs": [
    {
     "data": {
      "text/plain": [
       "<Figure size 1080x576 with 0 Axes>"
      ]
     },
     "metadata": {},
     "output_type": "display_data"
    }
   ],
   "source": [
    "plt.figure(figsize=(15,8))\n",
    "plt.rc('xtick', labelsize=10) \n",
    "plt.rc('ytick', labelsize=15) "
   ]
  },
  {
   "cell_type": "code",
   "execution_count": 264,
   "metadata": {},
   "outputs": [
    {
     "data": {
      "text/plain": [
       "<BarContainer object of 10 artists>"
      ]
     },
     "execution_count": 264,
     "metadata": {},
     "output_type": "execute_result"
    },
    {
     "data": {
      "image/png": "[encoded data removed]",
      "text/plain": [
       "<Figure size 1080x576 with 1 Axes>"
      ]
     },
     "metadata": {
      "needs_background": "light"
     },
     "output_type": "display_data"
    }
   ],
   "source": [
    "# top 10 brands \n",
    "top_10_brand=unit_brand.head(10)\n",
    "plt.figure(figsize=(15,8))\n",
    "plt.bar(top_10_brand.brand, top_10_brand.units)"
   ]
  },
  {
   "cell_type": "code",
   "execution_count": 265,
   "metadata": {},
   "outputs": [],
   "source": [
    "# For each commodity brend vs unit bar plot (top 10)\n",
    "pasta=trans_prod[trans_prod.commodity=='pasta']\n",
    "pasta_sauce=trans_prod[trans_prod.commodity=='pasta sauce']\n",
    "pancake_mixes=trans_prod[trans_prod.commodity=='pancake mixes']\n",
    "syrups=trans_prod[trans_prod.commodity=='syrups']"
   ]
  },
  {
   "cell_type": "code",
   "execution_count": 266,
   "metadata": {},
   "outputs": [
    {
     "data": {
      "text/plain": [
       "<BarContainer object of 10 artists>"
      ]
     },
     "execution_count": 266,
     "metadata": {},
     "output_type": "execute_result"
    },
    {
     "data": {
      "image/png": "[encoded data removed]",
      "text/plain": [
       "<Figure size 1080x576 with 1 Axes>"
      ]
     },
     "metadata": {
      "needs_background": "light"
     },
     "output_type": "display_data"
    }
   ],
   "source": [
    "# top 10 brands for pasta\n",
    "pasta_unit_brand=pd.DataFrame(pasta.groupby(['brand'])['units'].sum()).sort_values(['units'], ascending=False).reset_index()\n",
    "# top 10 brands for pasta\n",
    "top_10_pasta_unit_brand=pasta_unit_brand.head(10)\n",
    "plt.figure(figsize=(15,8))\n",
    "plt.rc('xtick', labelsize=10) \n",
    "plt.rc('ytick', labelsize=15) \n",
    "plt.bar(top_10_pasta_unit_brand.brand, top_10_pasta_unit_brand.units)"
   ]
  },
  {
   "cell_type": "code",
   "execution_count": 267,
   "metadata": {},
   "outputs": [
    {
     "data": {
      "text/plain": [
       "<BarContainer object of 10 artists>"
      ]
     },
     "execution_count": 267,
     "metadata": {},
     "output_type": "execute_result"
    },
    {
     "data": {
      "image/png": "[encoded data removed]",
      "text/plain": [
       "<Figure size 1080x576 with 1 Axes>"
      ]
     },
     "metadata": {
      "needs_background": "light"
     },
     "output_type": "display_data"
    }
   ],
   "source": [
    "# top 10 brands for pasta_sauce\n",
    "pasta_sauce_brand=pd.DataFrame(pasta_sauce.groupby(['brand'])['units'].sum()).sort_values(['units'], ascending=False).reset_index()\n",
    "# top 10 brands for pasta\n",
    "top_10_pasta_sauce=pasta_sauce_brand.head(10)\n",
    "plt.figure(figsize=(15,8))\n",
    "plt.bar(top_10_pasta_sauce.brand, top_10_pasta_sauce.units)"
   ]
  },
  {
   "cell_type": "code",
   "execution_count": 268,
   "metadata": {},
   "outputs": [
    {
     "data": {
      "text/plain": [
       "<BarContainer object of 10 artists>"
      ]
     },
     "execution_count": 268,
     "metadata": {},
     "output_type": "execute_result"
    },
    {
     "data": {
      "image/png": "[encoded data removed]",
      "text/plain": [
       "<Figure size 1080x576 with 1 Axes>"
      ]
     },
     "metadata": {
      "needs_background": "light"
     },
     "output_type": "display_data"
    }
   ],
   "source": [
    "pancake_mixes_brand=pd.DataFrame(pancake_mixes.groupby(['brand'])['units'].sum()).sort_values(['units'], ascending=False).reset_index()\n",
    "# top 10 brands for pasta\n",
    "top_10_pancake_mixes=pancake_mixes_brand.head(10)\n",
    "plt.figure(figsize=(15,8))\n",
    "plt.bar(top_10_pancake_mixes.brand, top_10_pancake_mixes.units)"
   ]
  },
  {
   "cell_type": "code",
   "execution_count": 269,
   "metadata": {},
   "outputs": [
    {
     "data": {
      "text/plain": [
       "<BarContainer object of 10 artists>"
      ]
     },
     "execution_count": 269,
     "metadata": {},
     "output_type": "execute_result"
    },
    {
     "data": {
      "image/png": "[encoded data removed]",
      "text/plain": [
       "<Figure size 1080x576 with 1 Axes>"
      ]
     },
     "metadata": {
      "needs_background": "light"
     },
     "output_type": "display_data"
    }
   ],
   "source": [
    "syrups_brand=pd.DataFrame(syrups.groupby(['brand'])['units'].sum()).sort_values(['units'], ascending=False).reset_index()\n",
    "# top 10 brands for pasta\n",
    "top_10_syrups=syrups_brand.head(10)\n",
    "plt.figure(figsize=(15,8))\n",
    "plt.bar(top_10_syrups.brand, top_10_syrups.units)"
   ]
  },
  {
   "cell_type": "markdown",
   "metadata": {},
   "source": [
    "### top 10 brands regarding sales"
   ]
  },
  {
   "cell_type": "code",
   "execution_count": 505,
   "metadata": {},
   "outputs": [
    {
     "data": {
      "text/html": [
       "<div>\n",
       "<style scoped>\n",
       "    .dataframe tbody tr th:only-of-type {\n",
       "        vertical-align: middle;\n",
       "    }\n",
       "\n",
       "    .dataframe tbody tr th {\n",
       "        vertical-align: top;\n",
       "    }\n",
       "\n",
       "    .dataframe thead th {\n",
       "        text-align: right;\n",
       "    }\n",
       "</style>\n",
       "<table border=\"1\" class=\"dataframe\">\n",
       "  <thead>\n",
       "    <tr style=\"text-align: right;\">\n",
       "      <th></th>\n",
       "      <th>all_brand</th>\n",
       "      <th>all_dollar_sales</th>\n",
       "      <th>pasta_brand</th>\n",
       "      <th>pasta_dollar_sales</th>\n",
       "      <th>pasta_sauce_brand</th>\n",
       "      <th>pasta_sauce_dollar_sales</th>\n",
       "      <th>pancake_mixes_brand</th>\n",
       "      <th>pancake_mixes_dollar_sales</th>\n",
       "      <th>syrups_brand</th>\n",
       "      <th>syrups_dollar_sales</th>\n",
       "    </tr>\n",
       "  </thead>\n",
       "  <tbody>\n",
       "    <tr>\n",
       "      <th>0</th>\n",
       "      <td>Private Label</td>\n",
       "      <td>1.752957e+06</td>\n",
       "      <td>Private Label</td>\n",
       "      <td>995287.840001</td>\n",
       "      <td>Ragu</td>\n",
       "      <td>1.500841e+06</td>\n",
       "      <td>Aunt Jemima</td>\n",
       "      <td>206708.70</td>\n",
       "      <td>Aunt Jemima</td>\n",
       "      <td>359669.04</td>\n",
       "    </tr>\n",
       "    <tr>\n",
       "      <th>1</th>\n",
       "      <td>Ragu</td>\n",
       "      <td>1.500841e+06</td>\n",
       "      <td>Barilla</td>\n",
       "      <td>433893.839999</td>\n",
       "      <td>Prego</td>\n",
       "      <td>7.999493e+05</td>\n",
       "      <td>Hungry Jack</td>\n",
       "      <td>111437.62</td>\n",
       "      <td>Private Label</td>\n",
       "      <td>352952.87</td>\n",
       "    </tr>\n",
       "    <tr>\n",
       "      <th>2</th>\n",
       "      <td>Prego</td>\n",
       "      <td>7.999493e+05</td>\n",
       "      <td>Creamette</td>\n",
       "      <td>271594.860000</td>\n",
       "      <td>Classico</td>\n",
       "      <td>4.381867e+05</td>\n",
       "      <td>Private Label</td>\n",
       "      <td>73620.39</td>\n",
       "      <td>Mrs Butterworth</td>\n",
       "      <td>159165.47</td>\n",
       "    </tr>\n",
       "    <tr>\n",
       "      <th>3</th>\n",
       "      <td>Barilla</td>\n",
       "      <td>6.089510e+05</td>\n",
       "      <td>Mueller</td>\n",
       "      <td>270850.500000</td>\n",
       "      <td>Private Label</td>\n",
       "      <td>3.310957e+05</td>\n",
       "      <td>Krusteaz</td>\n",
       "      <td>30528.77</td>\n",
       "      <td>Log Cabin</td>\n",
       "      <td>130905.87</td>\n",
       "    </tr>\n",
       "    <tr>\n",
       "      <th>4</th>\n",
       "      <td>Aunt Jemima</td>\n",
       "      <td>5.663777e+05</td>\n",
       "      <td>Ronzoni</td>\n",
       "      <td>213727.200000</td>\n",
       "      <td>Bertolli</td>\n",
       "      <td>2.581021e+05</td>\n",
       "      <td>Bisquick</td>\n",
       "      <td>18439.35</td>\n",
       "      <td>Karo</td>\n",
       "      <td>120430.98</td>\n",
       "    </tr>\n",
       "    <tr>\n",
       "      <th>5</th>\n",
       "      <td>Classico</td>\n",
       "      <td>4.381867e+05</td>\n",
       "      <td>Private Label Premium</td>\n",
       "      <td>208819.520000</td>\n",
       "      <td>Hunt's</td>\n",
       "      <td>2.363154e+05</td>\n",
       "      <td>White Lily</td>\n",
       "      <td>14576.77</td>\n",
       "      <td>Hungry Jack</td>\n",
       "      <td>113414.69</td>\n",
       "    </tr>\n",
       "    <tr>\n",
       "      <th>6</th>\n",
       "      <td>Private Label Premium</td>\n",
       "      <td>3.931522e+05</td>\n",
       "      <td>San Giorgio</td>\n",
       "      <td>124220.960000</td>\n",
       "      <td>Barilla</td>\n",
       "      <td>1.750572e+05</td>\n",
       "      <td>Hodgson Mills</td>\n",
       "      <td>12857.64</td>\n",
       "      <td>Private Label Premium</td>\n",
       "      <td>103906.19</td>\n",
       "    </tr>\n",
       "    <tr>\n",
       "      <th>7</th>\n",
       "      <td>Creamette</td>\n",
       "      <td>2.715949e+05</td>\n",
       "      <td>Hodgson Mills</td>\n",
       "      <td>80521.690000</td>\n",
       "      <td>Newman's</td>\n",
       "      <td>1.199133e+05</td>\n",
       "      <td>Mrs Butterworth</td>\n",
       "      <td>11415.08</td>\n",
       "      <td>Northwoods</td>\n",
       "      <td>90614.41</td>\n",
       "    </tr>\n",
       "    <tr>\n",
       "      <th>8</th>\n",
       "      <td>Mueller</td>\n",
       "      <td>2.708505e+05</td>\n",
       "      <td>No Yolks</td>\n",
       "      <td>66295.830000</td>\n",
       "      <td>Private Label Premium</td>\n",
       "      <td>7.184015e+04</td>\n",
       "      <td>Maple Grove</td>\n",
       "      <td>8699.18</td>\n",
       "      <td>Kellogg</td>\n",
       "      <td>55015.38</td>\n",
       "    </tr>\n",
       "    <tr>\n",
       "      <th>9</th>\n",
       "      <td>Bertolli</td>\n",
       "      <td>2.581021e+05</td>\n",
       "      <td>Private Label Value</td>\n",
       "      <td>41127.910000</td>\n",
       "      <td>Emeril's</td>\n",
       "      <td>6.017611e+04</td>\n",
       "      <td>Private Label Premium</td>\n",
       "      <td>8586.29</td>\n",
       "      <td>Cary's</td>\n",
       "      <td>46800.22</td>\n",
       "    </tr>\n",
       "  </tbody>\n",
       "</table>\n",
       "</div>"
      ],
      "text/plain": [
       "               all_brand  all_dollar_sales            pasta_brand  \\\n",
       "0          Private Label      1.752957e+06          Private Label   \n",
       "1                   Ragu      1.500841e+06                Barilla   \n",
       "2                  Prego      7.999493e+05              Creamette   \n",
       "3                Barilla      6.089510e+05                Mueller   \n",
       "4            Aunt Jemima      5.663777e+05                Ronzoni   \n",
       "5               Classico      4.381867e+05  Private Label Premium   \n",
       "6  Private Label Premium      3.931522e+05            San Giorgio   \n",
       "7              Creamette      2.715949e+05          Hodgson Mills   \n",
       "8                Mueller      2.708505e+05               No Yolks   \n",
       "9               Bertolli      2.581021e+05    Private Label Value   \n",
       "\n",
       "   pasta_dollar_sales      pasta_sauce_brand  pasta_sauce_dollar_sales  \\\n",
       "0       995287.840001                   Ragu              1.500841e+06   \n",
       "1       433893.839999                  Prego              7.999493e+05   \n",
       "2       271594.860000               Classico              4.381867e+05   \n",
       "3       270850.500000          Private Label              3.310957e+05   \n",
       "4       213727.200000               Bertolli              2.581021e+05   \n",
       "5       208819.520000                 Hunt's              2.363154e+05   \n",
       "6       124220.960000                Barilla              1.750572e+05   \n",
       "7        80521.690000               Newman's              1.199133e+05   \n",
       "8        66295.830000  Private Label Premium              7.184015e+04   \n",
       "9        41127.910000               Emeril's              6.017611e+04   \n",
       "\n",
       "     pancake_mixes_brand  pancake_mixes_dollar_sales           syrups_brand  \\\n",
       "0            Aunt Jemima                   206708.70            Aunt Jemima   \n",
       "1            Hungry Jack                   111437.62          Private Label   \n",
       "2          Private Label                    73620.39        Mrs Butterworth   \n",
       "3               Krusteaz                    30528.77              Log Cabin   \n",
       "4               Bisquick                    18439.35                   Karo   \n",
       "5             White Lily                    14576.77            Hungry Jack   \n",
       "6          Hodgson Mills                    12857.64  Private Label Premium   \n",
       "7        Mrs Butterworth                    11415.08             Northwoods   \n",
       "8            Maple Grove                     8699.18                Kellogg   \n",
       "9  Private Label Premium                     8586.29                 Cary's   \n",
       "\n",
       "   syrups_dollar_sales  \n",
       "0            359669.04  \n",
       "1            352952.87  \n",
       "2            159165.47  \n",
       "3            130905.87  \n",
       "4            120430.98  \n",
       "5            113414.69  \n",
       "6            103906.19  \n",
       "7             90614.41  \n",
       "8             55015.38  \n",
       "9             46800.22  "
      ]
     },
     "execution_count": 505,
     "metadata": {},
     "output_type": "execute_result"
    }
   ],
   "source": [
    "# top 10 brands regarding sales in all df and each commidity are combined in on table\n",
    "unit_brand=pd.DataFrame(trans_prod.groupby(['brand'])['dollar_sales'].sum()).sort_values(['dollar_sales'], ascending=False).reset_index()\n",
    "top_10_brand=unit_brand.head(10)\n",
    "# top 10 brands for pasta\n",
    "pasta_unit_brand=pd.DataFrame(pasta.groupby(['brand'])['dollar_sales'].sum()).sort_values(['dollar_sales'], ascending=False).reset_index()\n",
    "# top 10 brands for pasta\n",
    "top_10_pasta_unit_brand=pasta_unit_brand.head(10)\n",
    "# top 10 brands for pasta_sauce\n",
    "pasta_sauce_brand=pd.DataFrame(pasta_sauce.groupby(['brand'])['dollar_sales'].sum()).sort_values(['dollar_sales'], ascending=False).reset_index()\n",
    "# top 10 brands for pasta_sauce\n",
    "top_10_pasta_sauce=pasta_sauce_brand.head(10)\n",
    "pancake_mixes_brand=pd.DataFrame(pancake_mixes.groupby(['brand'])['dollar_sales'].sum()).sort_values(['dollar_sales'], ascending=False).reset_index()\n",
    "# top 10 brands for pancake_mixes\n",
    "top_10_pancake_mixes=pancake_mixes_brand.head(10)\n",
    "# top 10 brands for syrups\n",
    "syrups_brand=pd.DataFrame(syrups.groupby(['brand'])['dollar_sales'].sum()).sort_values(['dollar_sales'], ascending=False).reset_index()\n",
    "# top 10 brands for syrups\n",
    "top_10_syrups=syrups_brand.head(10)\n",
    "\n",
    "# top 10 brands regarding the sales in all df and each commidity are combined in table\n",
    "top_10_brand=top_10_brand.rename(index=str,columns={'brand':'all_brand', 'dollar_sales':'all_dollar_sales'})\n",
    "top_10_pasta_unit_brand=top_10_pasta_unit_brand.rename(index=str,columns={'brand':'pasta_brand', 'dollar_sales':'pasta_dollar_sales'})\n",
    "top_10_pasta_sauce=top_10_pasta_sauce.rename(index=str,columns={'brand':'pasta_sauce_brand', 'dollar_sales':'pasta_sauce_dollar_sales'})\n",
    "top_10_pancake_mixes=top_10_pancake_mixes.rename(index=str,columns={'brand':'pancake_mixes_brand', 'dollar_sales':'pancake_mixes_dollar_sales'})\n",
    "top_10_syrups=top_10_syrups.rename(index=str,columns={'brand':'syrups_brand', 'dollar_sales':'syrups_dollar_sales'})\n",
    "top_10_brands_sales=pd.concat([top_10_brand, top_10_pasta_unit_brand, top_10_pasta_sauce, top_10_pancake_mixes, top_10_syrups], axis=1)\n",
    "top_10_brands_sales"
   ]
  },
  {
   "cell_type": "code",
   "execution_count": 508,
   "metadata": {},
   "outputs": [],
   "source": [
    "## for the presantation\n",
    "top_10_brands_sales.to_csv('top_10_brands_sales.csv', index=False)"
   ]
  },
  {
   "cell_type": "markdown",
   "metadata": {},
   "source": [
    "- unit and sale based top 10 list is different"
   ]
  },
  {
   "cell_type": "markdown",
   "metadata": {},
   "source": [
    "### For all transections top 10 with and without cupon"
   ]
  },
  {
   "cell_type": "code",
   "execution_count": 293,
   "metadata": {},
   "outputs": [
    {
     "data": {
      "text/plain": [
       "<BarContainer object of 2 artists>"
      ]
     },
     "execution_count": 293,
     "metadata": {},
     "output_type": "execute_result"
    },
    {
     "data": {
      "image/png": "[encoded data removed]",
      "text/plain": [
       "<Figure size 144x216 with 1 Axes>"
      ]
     },
     "metadata": {
      "needs_background": "light"
     },
     "output_type": "display_data"
    }
   ],
   "source": [
    "# number of units with and without cupon\n",
    "unit_coupon=pd.DataFrame(trans_prod.groupby(['coupon'])['units'].sum()).sort_values(['units'], ascending=False).reset_index()\n",
    "#unit_coupon=unit_coupon.rename(index=str,columns={'basket':'count_of_visit'})\n",
    "plt.figure(figsize=(2,3))\n",
    "plt.bar((unit_coupon.coupon), unit_coupon.units)"
   ]
  },
  {
   "cell_type": "code",
   "execution_count": 510,
   "metadata": {},
   "outputs": [
    {
     "data": {
      "text/plain": [
       "0    6103126\n",
       "1     105451\n",
       "Name: units, dtype: int64"
      ]
     },
     "execution_count": 510,
     "metadata": {},
     "output_type": "execute_result"
    }
   ],
   "source": [
    "unit_coupon.units"
   ]
  },
  {
   "cell_type": "code",
   "execution_count": 299,
   "metadata": {},
   "outputs": [
    {
     "data": {
      "text/plain": [
       "<BarContainer object of 2 artists>"
      ]
     },
     "execution_count": 299,
     "metadata": {},
     "output_type": "execute_result"
    },
    {
     "data": {
      "image/png": "[encoded data removed]",
      "text/plain": [
       "<Figure size 144x216 with 1 Axes>"
      ]
     },
     "metadata": {
      "needs_background": "light"
     },
     "output_type": "display_data"
    }
   ],
   "source": [
    "# sales with and without cupon\n",
    "sales_coupon=pd.DataFrame(trans_prod.groupby(['coupon'])['dollar_sales'].sum()).sort_values(['dollar_sales'], ascending=False).reset_index()\n",
    "plt.figure(figsize=(2,3))\n",
    "plt.bar(sales_coupon.coupon, sales_coupon.dollar_sales)"
   ]
  },
  {
   "cell_type": "code",
   "execution_count": 511,
   "metadata": {},
   "outputs": [
    {
     "data": {
      "text/plain": [
       "0    8.996358e+06\n",
       "1    1.345607e+05\n",
       "Name: dollar_sales, dtype: float64"
      ]
     },
     "execution_count": 511,
     "metadata": {},
     "output_type": "execute_result"
    }
   ],
   "source": [
    "sales_coupon.dollar_sales"
   ]
  },
  {
   "cell_type": "markdown",
   "metadata": {},
   "source": [
    "- without cupon sales are higher than with cupon sles"
   ]
  },
  {
   "cell_type": "markdown",
   "metadata": {},
   "source": [
    "### For each commodity geography vs unit bar plot"
   ]
  },
  {
   "cell_type": "code",
   "execution_count": 301,
   "metadata": {},
   "outputs": [],
   "source": [
    "trans_prod_zip = trans_prod.merge(stores, 'left', 'store')"
   ]
  },
  {
   "cell_type": "code",
   "execution_count": 302,
   "metadata": {},
   "outputs": [
    {
     "data": {
      "text/plain": [
       "Index(['upc', 'dollar_sales', 'units', 'time_of_transaction', 'geography',\n",
       "       'week', 'household', 'store', 'basket', 'day', 'coupon',\n",
       "       'product_description', 'commodity', 'brand', 'product_size',\n",
       "       'unit_price', 'store_zip_code'],\n",
       "      dtype='object')"
      ]
     },
     "execution_count": 302,
     "metadata": {},
     "output_type": "execute_result"
    }
   ],
   "source": [
    "trans_prod_zip.columns"
   ]
  },
  {
   "cell_type": "code",
   "execution_count": 303,
   "metadata": {},
   "outputs": [
    {
     "data": {
      "text/html": [
       "<div>\n",
       "<style scoped>\n",
       "    .dataframe tbody tr th:only-of-type {\n",
       "        vertical-align: middle;\n",
       "    }\n",
       "\n",
       "    .dataframe tbody tr th {\n",
       "        vertical-align: top;\n",
       "    }\n",
       "\n",
       "    .dataframe thead th {\n",
       "        text-align: right;\n",
       "    }\n",
       "</style>\n",
       "<table border=\"1\" class=\"dataframe\">\n",
       "  <thead>\n",
       "    <tr style=\"text-align: right;\">\n",
       "      <th></th>\n",
       "      <th>upc</th>\n",
       "      <th>geography</th>\n",
       "      <th>store</th>\n",
       "      <th>store_zip_code</th>\n",
       "      <th>household</th>\n",
       "      <th>unit_price</th>\n",
       "      <th>units</th>\n",
       "      <th>dollar_sales</th>\n",
       "      <th>time_of_transaction</th>\n",
       "      <th>day</th>\n",
       "      <th>week</th>\n",
       "      <th>basket</th>\n",
       "      <th>coupon</th>\n",
       "      <th>product_description</th>\n",
       "      <th>commodity</th>\n",
       "      <th>brand</th>\n",
       "      <th>product_size</th>\n",
       "    </tr>\n",
       "  </thead>\n",
       "  <tbody>\n",
       "    <tr>\n",
       "      <th>0</th>\n",
       "      <td>7680850106</td>\n",
       "      <td>2</td>\n",
       "      <td>244</td>\n",
       "      <td>40222</td>\n",
       "      <td>125434</td>\n",
       "      <td>0.80</td>\n",
       "      <td>1</td>\n",
       "      <td>0.80</td>\n",
       "      <td>1100</td>\n",
       "      <td>1</td>\n",
       "      <td>1</td>\n",
       "      <td>1</td>\n",
       "      <td>0</td>\n",
       "      <td>BARILLA ANGEL HAIR</td>\n",
       "      <td>pasta</td>\n",
       "      <td>Barilla</td>\n",
       "      <td>16 OZ</td>\n",
       "    </tr>\n",
       "    <tr>\n",
       "      <th>1</th>\n",
       "      <td>3620000470</td>\n",
       "      <td>2</td>\n",
       "      <td>244</td>\n",
       "      <td>40222</td>\n",
       "      <td>125434</td>\n",
       "      <td>3.59</td>\n",
       "      <td>1</td>\n",
       "      <td>3.59</td>\n",
       "      <td>1100</td>\n",
       "      <td>1</td>\n",
       "      <td>1</td>\n",
       "      <td>1</td>\n",
       "      <td>0</td>\n",
       "      <td>BERTOLLI TOM&amp;BASIL SAUCE</td>\n",
       "      <td>pasta sauce</td>\n",
       "      <td>Bertolli</td>\n",
       "      <td>24 OZ</td>\n",
       "    </tr>\n",
       "    <tr>\n",
       "      <th>2</th>\n",
       "      <td>1800028064</td>\n",
       "      <td>2</td>\n",
       "      <td>244</td>\n",
       "      <td>40222</td>\n",
       "      <td>108320</td>\n",
       "      <td>2.25</td>\n",
       "      <td>1</td>\n",
       "      <td>2.25</td>\n",
       "      <td>1137</td>\n",
       "      <td>1</td>\n",
       "      <td>1</td>\n",
       "      <td>2</td>\n",
       "      <td>0</td>\n",
       "      <td>H J PANCK BTRMLK COMP MIX</td>\n",
       "      <td>pancake mixes</td>\n",
       "      <td>Hungry Jack</td>\n",
       "      <td></td>\n",
       "    </tr>\n",
       "    <tr>\n",
       "      <th>3</th>\n",
       "      <td>9999985067</td>\n",
       "      <td>2</td>\n",
       "      <td>244</td>\n",
       "      <td>40222</td>\n",
       "      <td>162016</td>\n",
       "      <td>0.85</td>\n",
       "      <td>1</td>\n",
       "      <td>0.85</td>\n",
       "      <td>1148</td>\n",
       "      <td>1</td>\n",
       "      <td>1</td>\n",
       "      <td>3</td>\n",
       "      <td>0</td>\n",
       "      <td>PRIVATE LABEL VERMICELLI</td>\n",
       "      <td>pasta</td>\n",
       "      <td>Private Label</td>\n",
       "      <td>16 OZ</td>\n",
       "    </tr>\n",
       "    <tr>\n",
       "      <th>4</th>\n",
       "      <td>9999985131</td>\n",
       "      <td>2</td>\n",
       "      <td>244</td>\n",
       "      <td>40222</td>\n",
       "      <td>89437</td>\n",
       "      <td>2.19</td>\n",
       "      <td>1</td>\n",
       "      <td>2.19</td>\n",
       "      <td>1323</td>\n",
       "      <td>1</td>\n",
       "      <td>1</td>\n",
       "      <td>4</td>\n",
       "      <td>0</td>\n",
       "      <td>PRIVATE LABEL IMPORTED LASAGNA</td>\n",
       "      <td>pasta</td>\n",
       "      <td>Private Label Premium</td>\n",
       "      <td>16 OZ</td>\n",
       "    </tr>\n",
       "  </tbody>\n",
       "</table>\n",
       "</div>"
      ],
      "text/plain": [
       "          upc  geography  store  store_zip_code  household  unit_price  units  \\\n",
       "0  7680850106          2    244           40222     125434        0.80      1   \n",
       "1  3620000470          2    244           40222     125434        3.59      1   \n",
       "2  1800028064          2    244           40222     108320        2.25      1   \n",
       "3  9999985067          2    244           40222     162016        0.85      1   \n",
       "4  9999985131          2    244           40222      89437        2.19      1   \n",
       "\n",
       "   dollar_sales  time_of_transaction  day  week  basket  coupon  \\\n",
       "0          0.80                 1100    1     1       1       0   \n",
       "1          3.59                 1100    1     1       1       0   \n",
       "2          2.25                 1137    1     1       2       0   \n",
       "3          0.85                 1148    1     1       3       0   \n",
       "4          2.19                 1323    1     1       4       0   \n",
       "\n",
       "              product_description      commodity                  brand  \\\n",
       "0              BARILLA ANGEL HAIR          pasta                Barilla   \n",
       "1        BERTOLLI TOM&BASIL SAUCE    pasta sauce               Bertolli   \n",
       "2       H J PANCK BTRMLK COMP MIX  pancake mixes            Hungry Jack   \n",
       "3        PRIVATE LABEL VERMICELLI          pasta          Private Label   \n",
       "4  PRIVATE LABEL IMPORTED LASAGNA          pasta  Private Label Premium   \n",
       "\n",
       "  product_size  \n",
       "0        16 OZ  \n",
       "1        24 OZ  \n",
       "2               \n",
       "3        16 OZ  \n",
       "4        16 OZ  "
      ]
     },
     "execution_count": 303,
     "metadata": {},
     "output_type": "execute_result"
    }
   ],
   "source": [
    "trans_prod_zip=trans_prod_zip[['upc', 'geography', 'store',  'store_zip_code','household','unit_price', 'units','dollar_sales',  'time_of_transaction',\n",
    "       'day','week',   'basket',  'coupon',\n",
    "       'product_description', 'commodity', 'brand', 'product_size']]\n",
    "trans_prod_zip.head()"
   ]
  },
  {
   "cell_type": "code",
   "execution_count": 304,
   "metadata": {},
   "outputs": [
    {
     "data": {
      "text/plain": [
       "<BarContainer object of 2 artists>"
      ]
     },
     "execution_count": 304,
     "metadata": {},
     "output_type": "execute_result"
    },
    {
     "data": {
      "image/png": "[encoded data removed]",
      "text/plain": [
       "<Figure size 144x216 with 1 Axes>"
      ]
     },
     "metadata": {
      "needs_background": "light"
     },
     "output_type": "display_data"
    }
   ],
   "source": [
    "# number of units regarding region\n",
    "unit_geography=pd.DataFrame(trans_prod_zip.groupby(['geography'])['units'].sum()).sort_values(['units'], ascending=False).reset_index()\n",
    "#unit_coupon=unit_coupon.rename(index=str,columns={'basket':'count_of_visit'})\n",
    "plt.figure(figsize=(2,3))\n",
    "plt.bar(unit_geography.geography, unit_geography.units)"
   ]
  },
  {
   "cell_type": "code",
   "execution_count": 512,
   "metadata": {},
   "outputs": [
    {
     "data": {
      "text/plain": [
       "0    3344878\n",
       "1    2863699\n",
       "Name: units, dtype: int64"
      ]
     },
     "execution_count": 512,
     "metadata": {},
     "output_type": "execute_result"
    }
   ],
   "source": [
    "unit_geography.units"
   ]
  },
  {
   "cell_type": "code",
   "execution_count": 516,
   "metadata": {},
   "outputs": [
    {
     "data": {
      "text/plain": [
       "<BarContainer object of 2 artists>"
      ]
     },
     "execution_count": 516,
     "metadata": {},
     "output_type": "execute_result"
    },
    {
     "data": {
      "image/png": "[encoded data removed]",
      "text/plain": [
       "<Figure size 144x216 with 1 Axes>"
      ]
     },
     "metadata": {
      "needs_background": "light"
     },
     "output_type": "display_data"
    }
   ],
   "source": [
    "# sales regrding region\n",
    "sales_geography=pd.DataFrame(trans_prod_zip.groupby(['geography'])['dollar_sales'].sum()).sort_values(['dollar_sales'], ascending=False).reset_index()\n",
    "#unit_coupon=unit_coupon.rename(index=str,columns={'basket':'count_of_visit'})\n",
    "plt.figure(figsize=(2,3))\n",
    "plt.bar(sales_geography.geography, sales_geography.dollar_sales)"
   ]
  },
  {
   "cell_type": "markdown",
   "metadata": {},
   "source": [
    "- geographic 1 sales are higher than geographic 2 "
   ]
  },
  {
   "cell_type": "markdown",
   "metadata": {},
   "source": [
    "- since geoghraphy 2's sales lower than geoghraphy 1, I would like to check number of stores for each region to compare geoghraphical performance"
   ]
  },
  {
   "cell_type": "code",
   "execution_count": 521,
   "metadata": {},
   "outputs": [
    {
     "data": {
      "text/html": [
       "<div>\n",
       "<style scoped>\n",
       "    .dataframe tbody tr th:only-of-type {\n",
       "        vertical-align: middle;\n",
       "    }\n",
       "\n",
       "    .dataframe tbody tr th {\n",
       "        vertical-align: top;\n",
       "    }\n",
       "\n",
       "    .dataframe thead th {\n",
       "        text-align: right;\n",
       "    }\n",
       "</style>\n",
       "<table border=\"1\" class=\"dataframe\">\n",
       "  <thead>\n",
       "    <tr style=\"text-align: right;\">\n",
       "      <th></th>\n",
       "      <th>upc</th>\n",
       "      <th>store</th>\n",
       "      <th>week</th>\n",
       "      <th>feature_desc</th>\n",
       "      <th>display_desc</th>\n",
       "      <th>geography</th>\n",
       "    </tr>\n",
       "  </thead>\n",
       "  <tbody>\n",
       "    <tr>\n",
       "      <th>0</th>\n",
       "      <td>7680850108</td>\n",
       "      <td>1</td>\n",
       "      <td>68</td>\n",
       "      <td>Wrap Interior Feature</td>\n",
       "      <td>Not on Display</td>\n",
       "      <td>1</td>\n",
       "    </tr>\n",
       "    <tr>\n",
       "      <th>1</th>\n",
       "      <td>5100001212</td>\n",
       "      <td>1</td>\n",
       "      <td>66</td>\n",
       "      <td>Wrap Back Feature</td>\n",
       "      <td>Not on Display</td>\n",
       "      <td>1</td>\n",
       "    </tr>\n",
       "  </tbody>\n",
       "</table>\n",
       "</div>"
      ],
      "text/plain": [
       "          upc  store  week           feature_desc    display_desc  geography\n",
       "0  7680850108      1    68  Wrap Interior Feature  Not on Display          1\n",
       "1  5100001212      1    66      Wrap Back Feature  Not on Display          1"
      ]
     },
     "execution_count": 521,
     "metadata": {},
     "output_type": "execute_result"
    }
   ],
   "source": [
    "causal.head(2)"
   ]
  },
  {
   "cell_type": "code",
   "execution_count": 531,
   "metadata": {},
   "outputs": [
    {
     "data": {
      "text/plain": [
       "geography\n",
       "1    224\n",
       "2    157\n",
       "Name: store, dtype: int64"
      ]
     },
     "execution_count": 531,
     "metadata": {},
     "output_type": "execute_result"
    }
   ],
   "source": [
    "# number of stores geography 1 and 2\n",
    "causal.groupby(['geography'])['store'].nunique()"
   ]
  },
  {
   "cell_type": "code",
   "execution_count": 64,
   "metadata": {},
   "outputs": [
    {
     "data": {
      "text/html": [
       "<div>\n",
       "<style scoped>\n",
       "    .dataframe tbody tr th:only-of-type {\n",
       "        vertical-align: middle;\n",
       "    }\n",
       "\n",
       "    .dataframe tbody tr th {\n",
       "        vertical-align: top;\n",
       "    }\n",
       "\n",
       "    .dataframe thead th {\n",
       "        text-align: right;\n",
       "    }\n",
       "</style>\n",
       "<table border=\"1\" class=\"dataframe\">\n",
       "  <thead>\n",
       "    <tr style=\"text-align: right;\">\n",
       "      <th></th>\n",
       "      <th>store</th>\n",
       "    </tr>\n",
       "    <tr>\n",
       "      <th>store_zip_code</th>\n",
       "      <th></th>\n",
       "    </tr>\n",
       "  </thead>\n",
       "  <tbody>\n",
       "    <tr>\n",
       "      <th>37211</th>\n",
       "      <td>5</td>\n",
       "    </tr>\n",
       "    <tr>\n",
       "      <th>40502</th>\n",
       "      <td>4</td>\n",
       "    </tr>\n",
       "    <tr>\n",
       "      <th>30064</th>\n",
       "      <td>4</td>\n",
       "    </tr>\n",
       "    <tr>\n",
       "      <th>30062</th>\n",
       "      <td>3</td>\n",
       "    </tr>\n",
       "    <tr>\n",
       "      <th>42301</th>\n",
       "      <td>3</td>\n",
       "    </tr>\n",
       "  </tbody>\n",
       "</table>\n",
       "</div>"
      ],
      "text/plain": [
       "                store\n",
       "store_zip_code       \n",
       "37211               5\n",
       "40502               4\n",
       "30064               4\n",
       "30062               3\n",
       "42301               3"
      ]
     },
     "execution_count": 64,
     "metadata": {},
     "output_type": "execute_result"
    }
   ],
   "source": [
    "# more than one store in same zip code area\n",
    "stors_at_zip.sort_values(by='store', ascending=False).head()"
   ]
  },
  {
   "cell_type": "markdown",
   "metadata": {},
   "source": [
    "### d. What is the repeat rate for each commodity?"
   ]
  },
  {
   "cell_type": "markdown",
   "metadata": {},
   "source": [
    " $$rapeat_{rate}=\\frac{number_{of} customer_{who}shopped_{more}than_{once}}{number_{of}customers}$$"
   ]
  },
  {
   "cell_type": "markdown",
   "metadata": {},
   "source": [
    "###### Repeat rate calculation for each commodity\n",
    "- pasta\n",
    "- pasta sauce\n",
    "- pancake mixes\n",
    "- syrups"
   ]
  },
  {
   "cell_type": "code",
   "execution_count": 532,
   "metadata": {},
   "outputs": [],
   "source": [
    "pasta=trans_prod[trans_prod.commodity=='pasta']\n",
    "pasta_sauce=trans_prod[trans_prod.commodity=='pasta sauce']\n",
    "pancake_mixes=trans_prod[trans_prod.commodity=='pancake mixes']\n",
    "syrups=trans_prod[trans_prod.commodity=='syrups']"
   ]
  },
  {
   "cell_type": "markdown",
   "metadata": {},
   "source": [
    "##### pasta repeat rate"
   ]
  },
  {
   "cell_type": "code",
   "execution_count": 533,
   "metadata": {
    "scrolled": true
   },
   "outputs": [
    {
     "data": {
      "text/html": [
       "<div>\n",
       "<style scoped>\n",
       "    .dataframe tbody tr th:only-of-type {\n",
       "        vertical-align: middle;\n",
       "    }\n",
       "\n",
       "    .dataframe tbody tr th {\n",
       "        vertical-align: top;\n",
       "    }\n",
       "\n",
       "    .dataframe thead th {\n",
       "        text-align: right;\n",
       "    }\n",
       "</style>\n",
       "<table border=\"1\" class=\"dataframe\">\n",
       "  <thead>\n",
       "    <tr style=\"text-align: right;\">\n",
       "      <th></th>\n",
       "      <th>household</th>\n",
       "      <th>count_of_visit</th>\n",
       "    </tr>\n",
       "  </thead>\n",
       "  <tbody>\n",
       "    <tr>\n",
       "      <th>0</th>\n",
       "      <td>293395</td>\n",
       "      <td>161</td>\n",
       "    </tr>\n",
       "    <tr>\n",
       "      <th>1</th>\n",
       "      <td>323105</td>\n",
       "      <td>140</td>\n",
       "    </tr>\n",
       "    <tr>\n",
       "      <th>2</th>\n",
       "      <td>28955</td>\n",
       "      <td>133</td>\n",
       "    </tr>\n",
       "    <tr>\n",
       "      <th>3</th>\n",
       "      <td>299226</td>\n",
       "      <td>128</td>\n",
       "    </tr>\n",
       "    <tr>\n",
       "      <th>4</th>\n",
       "      <td>194354</td>\n",
       "      <td>123</td>\n",
       "    </tr>\n",
       "  </tbody>\n",
       "</table>\n",
       "</div>"
      ],
      "text/plain": [
       "  household  count_of_visit\n",
       "0    293395             161\n",
       "1    323105             140\n",
       "2     28955             133\n",
       "3    299226             128\n",
       "4    194354             123"
      ]
     },
     "execution_count": 533,
     "metadata": {},
     "output_type": "execute_result"
    }
   ],
   "source": [
    "pasta_hh_visits = pd.DataFrame(pasta.groupby(['household'])['basket'].nunique())\n",
    "pasta_hh_visits=pasta_hh_visits.rename(index=str,columns={'basket':'count_of_visit'})\n",
    "pasta_repeat_customer=pasta_hh_visits.sort_values(['count_of_visit'], ascending=False)\n",
    "pasta_repeat_customer=pasta_repeat_customer.reset_index()\n",
    "pasta_repeat_customer.head()"
   ]
  },
  {
   "cell_type": "code",
   "execution_count": 534,
   "metadata": {},
   "outputs": [
    {
     "data": {
      "text/html": [
       "<div>\n",
       "<style scoped>\n",
       "    .dataframe tbody tr th:only-of-type {\n",
       "        vertical-align: middle;\n",
       "    }\n",
       "\n",
       "    .dataframe tbody tr th {\n",
       "        vertical-align: top;\n",
       "    }\n",
       "\n",
       "    .dataframe thead th {\n",
       "        text-align: right;\n",
       "    }\n",
       "</style>\n",
       "<table border=\"1\" class=\"dataframe\">\n",
       "  <thead>\n",
       "    <tr style=\"text-align: right;\">\n",
       "      <th></th>\n",
       "      <th>count_of_visit</th>\n",
       "      <th>frequency</th>\n",
       "    </tr>\n",
       "  </thead>\n",
       "  <tbody>\n",
       "    <tr>\n",
       "      <th>0</th>\n",
       "      <td>1</td>\n",
       "      <td>145444</td>\n",
       "    </tr>\n",
       "    <tr>\n",
       "      <th>1</th>\n",
       "      <td>2</td>\n",
       "      <td>67112</td>\n",
       "    </tr>\n",
       "    <tr>\n",
       "      <th>2</th>\n",
       "      <td>3</td>\n",
       "      <td>42082</td>\n",
       "    </tr>\n",
       "    <tr>\n",
       "      <th>3</th>\n",
       "      <td>4</td>\n",
       "      <td>29524</td>\n",
       "    </tr>\n",
       "    <tr>\n",
       "      <th>4</th>\n",
       "      <td>5</td>\n",
       "      <td>22102</td>\n",
       "    </tr>\n",
       "  </tbody>\n",
       "</table>\n",
       "</div>"
      ],
      "text/plain": [
       "   count_of_visit  frequency\n",
       "0               1     145444\n",
       "1               2      67112\n",
       "2               3      42082\n",
       "3               4      29524\n",
       "4               5      22102"
      ]
     },
     "execution_count": 534,
     "metadata": {},
     "output_type": "execute_result"
    }
   ],
   "source": [
    "pasta_customer_vis_freq=pd.DataFrame(pasta_repeat_customer.groupby(['count_of_visit'])['household'].count())\n",
    "pasta_customer_vis_freq=pasta_customer_vis_freq.rename(index=str,columns={'household':'frequency'})\n",
    "pasta_customer_vis_freq=pasta_customer_vis_freq.reset_index()\n",
    "pasta_customer_vis_freq['count_of_visit'] = pasta_customer_vis_freq['count_of_visit'].astype('int')\n",
    "pasta_customer_vis_freq.head()"
   ]
  },
  {
   "cell_type": "code",
   "execution_count": 543,
   "metadata": {},
   "outputs": [],
   "source": [
    "pasta_customer_vis_freq.to_csv('pasta_customer_vis_freq.csv', index=False)"
   ]
  },
  {
   "cell_type": "code",
   "execution_count": 535,
   "metadata": {},
   "outputs": [
    {
     "data": {
      "text/plain": [
       "<BarContainer object of 108 artists>"
      ]
     },
     "execution_count": 535,
     "metadata": {},
     "output_type": "execute_result"
    },
    {
     "data": {
      "image/png": "[encoded data removed]",
      "text/plain": [
       "<Figure size 432x288 with 1 Axes>"
      ]
     },
     "metadata": {
      "needs_background": "light"
     },
     "output_type": "display_data"
    }
   ],
   "source": [
    "plt.bar(pasta_customer_vis_freq.count_of_visit, pasta_customer_vis_freq.frequency)"
   ]
  },
  {
   "cell_type": "code",
   "execution_count": 536,
   "metadata": {},
   "outputs": [],
   "source": [
    "pasta_customer_vis_freq['total_visit'] = pasta_customer_vis_freq['count_of_visit'] * pasta_customer_vis_freq['frequency']"
   ]
  },
  {
   "cell_type": "code",
   "execution_count": 537,
   "metadata": {},
   "outputs": [
    {
     "data": {
      "text/html": [
       "<div>\n",
       "<style scoped>\n",
       "    .dataframe tbody tr th:only-of-type {\n",
       "        vertical-align: middle;\n",
       "    }\n",
       "\n",
       "    .dataframe tbody tr th {\n",
       "        vertical-align: top;\n",
       "    }\n",
       "\n",
       "    .dataframe thead th {\n",
       "        text-align: right;\n",
       "    }\n",
       "</style>\n",
       "<table border=\"1\" class=\"dataframe\">\n",
       "  <thead>\n",
       "    <tr style=\"text-align: right;\">\n",
       "      <th></th>\n",
       "      <th>count_of_visit</th>\n",
       "      <th>frequency</th>\n",
       "      <th>total_visit</th>\n",
       "    </tr>\n",
       "  </thead>\n",
       "  <tbody>\n",
       "    <tr>\n",
       "      <th>0</th>\n",
       "      <td>1</td>\n",
       "      <td>145444</td>\n",
       "      <td>145444</td>\n",
       "    </tr>\n",
       "    <tr>\n",
       "      <th>1</th>\n",
       "      <td>2</td>\n",
       "      <td>67112</td>\n",
       "      <td>134224</td>\n",
       "    </tr>\n",
       "    <tr>\n",
       "      <th>2</th>\n",
       "      <td>3</td>\n",
       "      <td>42082</td>\n",
       "      <td>126246</td>\n",
       "    </tr>\n",
       "    <tr>\n",
       "      <th>3</th>\n",
       "      <td>4</td>\n",
       "      <td>29524</td>\n",
       "      <td>118096</td>\n",
       "    </tr>\n",
       "    <tr>\n",
       "      <th>4</th>\n",
       "      <td>5</td>\n",
       "      <td>22102</td>\n",
       "      <td>110510</td>\n",
       "    </tr>\n",
       "  </tbody>\n",
       "</table>\n",
       "</div>"
      ],
      "text/plain": [
       "   count_of_visit  frequency  total_visit\n",
       "0               1     145444       145444\n",
       "1               2      67112       134224\n",
       "2               3      42082       126246\n",
       "3               4      29524       118096\n",
       "4               5      22102       110510"
      ]
     },
     "execution_count": 537,
     "metadata": {},
     "output_type": "execute_result"
    }
   ],
   "source": [
    "pasta_customer_vis_freq.head()"
   ]
  },
  {
   "cell_type": "code",
   "execution_count": 538,
   "metadata": {},
   "outputs": [
    {
     "data": {
      "text/plain": [
       "1812717"
      ]
     },
     "execution_count": 538,
     "metadata": {},
     "output_type": "execute_result"
    }
   ],
   "source": [
    "## Number of repetitive customer\n",
    "number_rep_cust_pasta = pasta_customer_vis_freq[pasta_customer_vis_freq['count_of_visit'] != 1]['total_visit'].sum()\n",
    "number_rep_cust_pasta"
   ]
  },
  {
   "cell_type": "code",
   "execution_count": 539,
   "metadata": {},
   "outputs": [
    {
     "data": {
      "text/plain": [
       "1958161"
      ]
     },
     "execution_count": 539,
     "metadata": {},
     "output_type": "execute_result"
    }
   ],
   "source": [
    "## Total pasta visits \n",
    "total_pasta_visit = len(pasta['basket'].drop_duplicates())\n",
    "total_pasta_visit"
   ]
  },
  {
   "cell_type": "code",
   "execution_count": 540,
   "metadata": {},
   "outputs": [],
   "source": [
    "rep_cust_pasta = number_rep_cust_pasta/total_pasta_visit"
   ]
  },
  {
   "cell_type": "code",
   "execution_count": 548,
   "metadata": {},
   "outputs": [
    {
     "name": "stdout",
     "output_type": "stream",
     "text": [
      "Repetitive customer rate for pasta:92.6%\n"
     ]
    }
   ],
   "source": [
    "print('Repetitive customer rate for pasta:{}%'.format(round(rep_cust_pasta*100,1)))"
   ]
  },
  {
   "cell_type": "markdown",
   "metadata": {},
   "source": [
    "#### pasta sauce"
   ]
  },
  {
   "cell_type": "code",
   "execution_count": 307,
   "metadata": {
    "scrolled": false
   },
   "outputs": [
    {
     "data": {
      "text/html": [
       "<div>\n",
       "<style scoped>\n",
       "    .dataframe tbody tr th:only-of-type {\n",
       "        vertical-align: middle;\n",
       "    }\n",
       "\n",
       "    .dataframe tbody tr th {\n",
       "        vertical-align: top;\n",
       "    }\n",
       "\n",
       "    .dataframe thead th {\n",
       "        text-align: right;\n",
       "    }\n",
       "</style>\n",
       "<table border=\"1\" class=\"dataframe\">\n",
       "  <thead>\n",
       "    <tr style=\"text-align: right;\">\n",
       "      <th></th>\n",
       "      <th>household</th>\n",
       "      <th>count_of_visit</th>\n",
       "    </tr>\n",
       "  </thead>\n",
       "  <tbody>\n",
       "    <tr>\n",
       "      <th>0</th>\n",
       "      <td>106758</td>\n",
       "      <td>214</td>\n",
       "    </tr>\n",
       "    <tr>\n",
       "      <th>1</th>\n",
       "      <td>28955</td>\n",
       "      <td>139</td>\n",
       "    </tr>\n",
       "    <tr>\n",
       "      <th>2</th>\n",
       "      <td>133748</td>\n",
       "      <td>118</td>\n",
       "    </tr>\n",
       "    <tr>\n",
       "      <th>3</th>\n",
       "      <td>265319</td>\n",
       "      <td>96</td>\n",
       "    </tr>\n",
       "    <tr>\n",
       "      <th>4</th>\n",
       "      <td>166534</td>\n",
       "      <td>92</td>\n",
       "    </tr>\n",
       "  </tbody>\n",
       "</table>\n",
       "</div>"
      ],
      "text/plain": [
       "  household  count_of_visit\n",
       "0    106758             214\n",
       "1     28955             139\n",
       "2    133748             118\n",
       "3    265319              96\n",
       "4    166534              92"
      ]
     },
     "execution_count": 307,
     "metadata": {},
     "output_type": "execute_result"
    }
   ],
   "source": [
    "pasta_sauce_hh_visits = pd.DataFrame(pasta_sauce.groupby(['household'])['basket'].nunique())\n",
    "pasta_sauce_hh_visits=pasta_sauce_hh_visits.rename(index=str,columns={'basket':'count_of_visit'})\n",
    "pasta_sauce_repeat_customer=pasta_sauce_hh_visits.sort_values(['count_of_visit'], ascending=False)\n",
    "pasta_sauce_repeat_customer=pasta_sauce_repeat_customer.reset_index()\n",
    "pasta_sauce_repeat_customer.head()"
   ]
  },
  {
   "cell_type": "code",
   "execution_count": 308,
   "metadata": {},
   "outputs": [
    {
     "data": {
      "text/html": [
       "<div>\n",
       "<style scoped>\n",
       "    .dataframe tbody tr th:only-of-type {\n",
       "        vertical-align: middle;\n",
       "    }\n",
       "\n",
       "    .dataframe tbody tr th {\n",
       "        vertical-align: top;\n",
       "    }\n",
       "\n",
       "    .dataframe thead th {\n",
       "        text-align: right;\n",
       "    }\n",
       "</style>\n",
       "<table border=\"1\" class=\"dataframe\">\n",
       "  <thead>\n",
       "    <tr style=\"text-align: right;\">\n",
       "      <th></th>\n",
       "      <th>count_of_visit</th>\n",
       "      <th>frequency</th>\n",
       "    </tr>\n",
       "  </thead>\n",
       "  <tbody>\n",
       "    <tr>\n",
       "      <th>0</th>\n",
       "      <td>1</td>\n",
       "      <td>135910</td>\n",
       "    </tr>\n",
       "    <tr>\n",
       "      <th>1</th>\n",
       "      <td>2</td>\n",
       "      <td>61807</td>\n",
       "    </tr>\n",
       "    <tr>\n",
       "      <th>2</th>\n",
       "      <td>3</td>\n",
       "      <td>37700</td>\n",
       "    </tr>\n",
       "    <tr>\n",
       "      <th>3</th>\n",
       "      <td>4</td>\n",
       "      <td>25833</td>\n",
       "    </tr>\n",
       "    <tr>\n",
       "      <th>4</th>\n",
       "      <td>5</td>\n",
       "      <td>18827</td>\n",
       "    </tr>\n",
       "  </tbody>\n",
       "</table>\n",
       "</div>"
      ],
      "text/plain": [
       "   count_of_visit  frequency\n",
       "0               1     135910\n",
       "1               2      61807\n",
       "2               3      37700\n",
       "3               4      25833\n",
       "4               5      18827"
      ]
     },
     "execution_count": 308,
     "metadata": {},
     "output_type": "execute_result"
    }
   ],
   "source": [
    "pasta_sauce_customer_vis_freq=pd.DataFrame(pasta_sauce_repeat_customer.groupby(['count_of_visit'])['household'].count())\n",
    "pasta_sauce_customer_vis_freq=pasta_sauce_customer_vis_freq.rename(index=str,columns={'household':'frequency'})\n",
    "pasta_sauce_customer_vis_freq=pasta_sauce_customer_vis_freq.reset_index()\n",
    "pasta_sauce_customer_vis_freq['count_of_visit'] = pasta_sauce_customer_vis_freq['count_of_visit'].astype('int')\n",
    "pasta_sauce_customer_vis_freq.head()"
   ]
  },
  {
   "cell_type": "code",
   "execution_count": 309,
   "metadata": {},
   "outputs": [
    {
     "data": {
      "text/plain": [
       "<BarContainer object of 93 artists>"
      ]
     },
     "execution_count": 309,
     "metadata": {},
     "output_type": "execute_result"
    },
    {
     "data": {
      "image/png": "[encoded data removed]",
      "text/plain": [
       "<Figure size 432x288 with 1 Axes>"
      ]
     },
     "metadata": {
      "needs_background": "light"
     },
     "output_type": "display_data"
    }
   ],
   "source": [
    "plt.bar(pasta_sauce_customer_vis_freq.count_of_visit, pasta_sauce_customer_vis_freq.frequency)"
   ]
  },
  {
   "cell_type": "code",
   "execution_count": 310,
   "metadata": {},
   "outputs": [],
   "source": [
    "pasta_sauce_customer_vis_freq['total_visit'] = pasta_sauce_customer_vis_freq['count_of_visit'] * pasta_sauce_customer_vis_freq['frequency']"
   ]
  },
  {
   "cell_type": "code",
   "execution_count": 311,
   "metadata": {},
   "outputs": [
    {
     "data": {
      "text/html": [
       "<div>\n",
       "<style scoped>\n",
       "    .dataframe tbody tr th:only-of-type {\n",
       "        vertical-align: middle;\n",
       "    }\n",
       "\n",
       "    .dataframe tbody tr th {\n",
       "        vertical-align: top;\n",
       "    }\n",
       "\n",
       "    .dataframe thead th {\n",
       "        text-align: right;\n",
       "    }\n",
       "</style>\n",
       "<table border=\"1\" class=\"dataframe\">\n",
       "  <thead>\n",
       "    <tr style=\"text-align: right;\">\n",
       "      <th></th>\n",
       "      <th>count_of_visit</th>\n",
       "      <th>frequency</th>\n",
       "      <th>total_visit</th>\n",
       "    </tr>\n",
       "  </thead>\n",
       "  <tbody>\n",
       "    <tr>\n",
       "      <th>0</th>\n",
       "      <td>1</td>\n",
       "      <td>135910</td>\n",
       "      <td>135910</td>\n",
       "    </tr>\n",
       "    <tr>\n",
       "      <th>1</th>\n",
       "      <td>2</td>\n",
       "      <td>61807</td>\n",
       "      <td>123614</td>\n",
       "    </tr>\n",
       "    <tr>\n",
       "      <th>2</th>\n",
       "      <td>3</td>\n",
       "      <td>37700</td>\n",
       "      <td>113100</td>\n",
       "    </tr>\n",
       "    <tr>\n",
       "      <th>3</th>\n",
       "      <td>4</td>\n",
       "      <td>25833</td>\n",
       "      <td>103332</td>\n",
       "    </tr>\n",
       "    <tr>\n",
       "      <th>4</th>\n",
       "      <td>5</td>\n",
       "      <td>18827</td>\n",
       "      <td>94135</td>\n",
       "    </tr>\n",
       "  </tbody>\n",
       "</table>\n",
       "</div>"
      ],
      "text/plain": [
       "   count_of_visit  frequency  total_visit\n",
       "0               1     135910       135910\n",
       "1               2      61807       123614\n",
       "2               3      37700       113100\n",
       "3               4      25833       103332\n",
       "4               5      18827        94135"
      ]
     },
     "execution_count": 311,
     "metadata": {},
     "output_type": "execute_result"
    }
   ],
   "source": [
    "pasta_sauce_customer_vis_freq.head()"
   ]
  },
  {
   "cell_type": "code",
   "execution_count": 327,
   "metadata": {},
   "outputs": [
    {
     "data": {
      "text/plain": [
       "1407553"
      ]
     },
     "execution_count": 327,
     "metadata": {},
     "output_type": "execute_result"
    }
   ],
   "source": [
    "## Number of repetitive customer\n",
    "number_rep_cust_pasta_sauce = pasta_sauce_customer_vis_freq[pasta_sauce_customer_vis_freq['count_of_visit'] != 1]['total_visit'].sum()\n",
    "number_rep_cust_pasta_sauce"
   ]
  },
  {
   "cell_type": "code",
   "execution_count": 328,
   "metadata": {},
   "outputs": [
    {
     "data": {
      "text/plain": [
       "1543463"
      ]
     },
     "execution_count": 328,
     "metadata": {},
     "output_type": "execute_result"
    }
   ],
   "source": [
    "## Total pasta visits \n",
    "total_pasta_sauce_visit = len(pasta_sauce['basket'].drop_duplicates())\n",
    "total_pasta_sauce_visit"
   ]
  },
  {
   "cell_type": "code",
   "execution_count": 329,
   "metadata": {},
   "outputs": [],
   "source": [
    "rep_cust_pasta_sauce = number_rep_cust_pasta_sauce/total_pasta_sauce_visit"
   ]
  },
  {
   "cell_type": "code",
   "execution_count": 547,
   "metadata": {},
   "outputs": [
    {
     "name": "stdout",
     "output_type": "stream",
     "text": [
      "Repetitive customer rate for pasta souce:91.2%\n"
     ]
    }
   ],
   "source": [
    "print('Repetitive customer rate for pasta souce:{}%'.format(round(rep_cust_pasta_sauce*100,1)))"
   ]
  },
  {
   "cell_type": "markdown",
   "metadata": {},
   "source": [
    "### pancake mixes"
   ]
  },
  {
   "cell_type": "code",
   "execution_count": 317,
   "metadata": {
    "scrolled": true
   },
   "outputs": [
    {
     "data": {
      "text/html": [
       "<div>\n",
       "<style scoped>\n",
       "    .dataframe tbody tr th:only-of-type {\n",
       "        vertical-align: middle;\n",
       "    }\n",
       "\n",
       "    .dataframe tbody tr th {\n",
       "        vertical-align: top;\n",
       "    }\n",
       "\n",
       "    .dataframe thead th {\n",
       "        text-align: right;\n",
       "    }\n",
       "</style>\n",
       "<table border=\"1\" class=\"dataframe\">\n",
       "  <thead>\n",
       "    <tr style=\"text-align: right;\">\n",
       "      <th></th>\n",
       "      <th>household</th>\n",
       "      <th>count_of_visit</th>\n",
       "    </tr>\n",
       "  </thead>\n",
       "  <tbody>\n",
       "    <tr>\n",
       "      <th>0</th>\n",
       "      <td>232513</td>\n",
       "      <td>144</td>\n",
       "    </tr>\n",
       "    <tr>\n",
       "      <th>1</th>\n",
       "      <td>340439</td>\n",
       "      <td>70</td>\n",
       "    </tr>\n",
       "    <tr>\n",
       "      <th>2</th>\n",
       "      <td>254942</td>\n",
       "      <td>69</td>\n",
       "    </tr>\n",
       "    <tr>\n",
       "      <th>3</th>\n",
       "      <td>59972</td>\n",
       "      <td>66</td>\n",
       "    </tr>\n",
       "    <tr>\n",
       "      <th>4</th>\n",
       "      <td>28725</td>\n",
       "      <td>62</td>\n",
       "    </tr>\n",
       "  </tbody>\n",
       "</table>\n",
       "</div>"
      ],
      "text/plain": [
       "  household  count_of_visit\n",
       "0    232513             144\n",
       "1    340439              70\n",
       "2    254942              69\n",
       "3     59972              66\n",
       "4     28725              62"
      ]
     },
     "execution_count": 317,
     "metadata": {},
     "output_type": "execute_result"
    }
   ],
   "source": [
    "pancake_mixes_hh_visits = pd.DataFrame(pancake_mixes.groupby(['household'])['basket'].nunique())\n",
    "pancake_mixes_hh_visits=pancake_mixes_hh_visits.rename(index=str,columns={'basket':'count_of_visit'})\n",
    "pancake_mixes_repeat_customer=pancake_mixes_hh_visits.sort_values(['count_of_visit'], ascending=False)\n",
    "pancake_mixes_repeat_customer=pancake_mixes_repeat_customer.reset_index()\n",
    "pancake_mixes_repeat_customer.head()"
   ]
  },
  {
   "cell_type": "code",
   "execution_count": 318,
   "metadata": {},
   "outputs": [
    {
     "data": {
      "text/html": [
       "<div>\n",
       "<style scoped>\n",
       "    .dataframe tbody tr th:only-of-type {\n",
       "        vertical-align: middle;\n",
       "    }\n",
       "\n",
       "    .dataframe tbody tr th {\n",
       "        vertical-align: top;\n",
       "    }\n",
       "\n",
       "    .dataframe thead th {\n",
       "        text-align: right;\n",
       "    }\n",
       "</style>\n",
       "<table border=\"1\" class=\"dataframe\">\n",
       "  <thead>\n",
       "    <tr style=\"text-align: right;\">\n",
       "      <th></th>\n",
       "      <th>count_of_visit</th>\n",
       "      <th>frequency</th>\n",
       "    </tr>\n",
       "  </thead>\n",
       "  <tbody>\n",
       "    <tr>\n",
       "      <th>0</th>\n",
       "      <td>1</td>\n",
       "      <td>80177</td>\n",
       "    </tr>\n",
       "    <tr>\n",
       "      <th>1</th>\n",
       "      <td>2</td>\n",
       "      <td>23778</td>\n",
       "    </tr>\n",
       "    <tr>\n",
       "      <th>2</th>\n",
       "      <td>3</td>\n",
       "      <td>10712</td>\n",
       "    </tr>\n",
       "    <tr>\n",
       "      <th>3</th>\n",
       "      <td>4</td>\n",
       "      <td>5605</td>\n",
       "    </tr>\n",
       "    <tr>\n",
       "      <th>4</th>\n",
       "      <td>5</td>\n",
       "      <td>3182</td>\n",
       "    </tr>\n",
       "  </tbody>\n",
       "</table>\n",
       "</div>"
      ],
      "text/plain": [
       "   count_of_visit  frequency\n",
       "0               1      80177\n",
       "1               2      23778\n",
       "2               3      10712\n",
       "3               4       5605\n",
       "4               5       3182"
      ]
     },
     "execution_count": 318,
     "metadata": {},
     "output_type": "execute_result"
    }
   ],
   "source": [
    "pancake_mixes_customer_vis_freq=pd.DataFrame(pancake_mixes_repeat_customer.groupby(['count_of_visit'])['household'].count())\n",
    "pancake_mixes_customer_vis_freq=pancake_mixes_customer_vis_freq.rename(index=str,columns={'household':'frequency'})\n",
    "pancake_mixes_customer_vis_freq=pancake_mixes_customer_vis_freq.reset_index()\n",
    "pancake_mixes_customer_vis_freq['count_of_visit'] = pancake_mixes_customer_vis_freq['count_of_visit'].astype('int')\n",
    "pancake_mixes_customer_vis_freq.head()"
   ]
  },
  {
   "cell_type": "code",
   "execution_count": 319,
   "metadata": {},
   "outputs": [
    {
     "data": {
      "text/plain": [
       "<BarContainer object of 59 artists>"
      ]
     },
     "execution_count": 319,
     "metadata": {},
     "output_type": "execute_result"
    },
    {
     "data": {
      "image/png": "[encoded data removed]",
      "text/plain": [
       "<Figure size 432x288 with 1 Axes>"
      ]
     },
     "metadata": {
      "needs_background": "light"
     },
     "output_type": "display_data"
    }
   ],
   "source": [
    "plt.bar(pancake_mixes_customer_vis_freq.count_of_visit,pancake_mixes_customer_vis_freq.frequency)"
   ]
  },
  {
   "cell_type": "code",
   "execution_count": 322,
   "metadata": {},
   "outputs": [],
   "source": [
    "pancake_mixes_customer_vis_freq['total_visit'] = pancake_mixes_customer_vis_freq['count_of_visit'] * pancake_mixes_customer_vis_freq['frequency']"
   ]
  },
  {
   "cell_type": "code",
   "execution_count": 323,
   "metadata": {},
   "outputs": [
    {
     "data": {
      "text/html": [
       "<div>\n",
       "<style scoped>\n",
       "    .dataframe tbody tr th:only-of-type {\n",
       "        vertical-align: middle;\n",
       "    }\n",
       "\n",
       "    .dataframe tbody tr th {\n",
       "        vertical-align: top;\n",
       "    }\n",
       "\n",
       "    .dataframe thead th {\n",
       "        text-align: right;\n",
       "    }\n",
       "</style>\n",
       "<table border=\"1\" class=\"dataframe\">\n",
       "  <thead>\n",
       "    <tr style=\"text-align: right;\">\n",
       "      <th></th>\n",
       "      <th>count_of_visit</th>\n",
       "      <th>frequency</th>\n",
       "      <th>total_visit</th>\n",
       "    </tr>\n",
       "  </thead>\n",
       "  <tbody>\n",
       "    <tr>\n",
       "      <th>0</th>\n",
       "      <td>1</td>\n",
       "      <td>80177</td>\n",
       "      <td>80177</td>\n",
       "    </tr>\n",
       "    <tr>\n",
       "      <th>1</th>\n",
       "      <td>2</td>\n",
       "      <td>23778</td>\n",
       "      <td>47556</td>\n",
       "    </tr>\n",
       "    <tr>\n",
       "      <th>2</th>\n",
       "      <td>3</td>\n",
       "      <td>10712</td>\n",
       "      <td>32136</td>\n",
       "    </tr>\n",
       "    <tr>\n",
       "      <th>3</th>\n",
       "      <td>4</td>\n",
       "      <td>5605</td>\n",
       "      <td>22420</td>\n",
       "    </tr>\n",
       "    <tr>\n",
       "      <th>4</th>\n",
       "      <td>5</td>\n",
       "      <td>3182</td>\n",
       "      <td>15910</td>\n",
       "    </tr>\n",
       "  </tbody>\n",
       "</table>\n",
       "</div>"
      ],
      "text/plain": [
       "   count_of_visit  frequency  total_visit\n",
       "0               1      80177        80177\n",
       "1               2      23778        47556\n",
       "2               3      10712        32136\n",
       "3               4       5605        22420\n",
       "4               5       3182        15910"
      ]
     },
     "execution_count": 323,
     "metadata": {},
     "output_type": "execute_result"
    }
   ],
   "source": [
    "pancake_mixes_customer_vis_freq.head()"
   ]
  },
  {
   "cell_type": "code",
   "execution_count": 324,
   "metadata": {},
   "outputs": [
    {
     "data": {
      "text/plain": [
       "183619"
      ]
     },
     "execution_count": 324,
     "metadata": {},
     "output_type": "execute_result"
    }
   ],
   "source": [
    "## Number of repetitive customer\n",
    "number_rep_cust_pancake_mixes = pancake_mixes_customer_vis_freq[pancake_mixes_customer_vis_freq['count_of_visit'] != 1]['total_visit'].sum()\n",
    "number_rep_cust_pancake_mixes"
   ]
  },
  {
   "cell_type": "code",
   "execution_count": 331,
   "metadata": {},
   "outputs": [
    {
     "data": {
      "text/plain": [
       "263796"
      ]
     },
     "execution_count": 331,
     "metadata": {},
     "output_type": "execute_result"
    }
   ],
   "source": [
    "## Total pancake_mixes visits \n",
    "total_pancake_mixes_visit = len(pancake_mixes['basket'].drop_duplicates())\n",
    "total_pancake_mixes_visit"
   ]
  },
  {
   "cell_type": "code",
   "execution_count": 332,
   "metadata": {},
   "outputs": [],
   "source": [
    "rep_cust_pancake_mixes = number_rep_cust_pancake_mixes/total_pancake_mixes_visit"
   ]
  },
  {
   "cell_type": "code",
   "execution_count": 545,
   "metadata": {},
   "outputs": [
    {
     "name": "stdout",
     "output_type": "stream",
     "text": [
      "Repetitive customer rate for pancake mixes:69.6%\n"
     ]
    }
   ],
   "source": [
    "print('Repetitive customer rate for pancake mixes:{}%'.format(round(rep_cust_pancake_mixes*100,1)))"
   ]
  },
  {
   "cell_type": "markdown",
   "metadata": {},
   "source": [
    "#### syrups"
   ]
  },
  {
   "cell_type": "code",
   "execution_count": 335,
   "metadata": {
    "scrolled": true
   },
   "outputs": [
    {
     "data": {
      "text/html": [
       "<div>\n",
       "<style scoped>\n",
       "    .dataframe tbody tr th:only-of-type {\n",
       "        vertical-align: middle;\n",
       "    }\n",
       "\n",
       "    .dataframe tbody tr th {\n",
       "        vertical-align: top;\n",
       "    }\n",
       "\n",
       "    .dataframe thead th {\n",
       "        text-align: right;\n",
       "    }\n",
       "</style>\n",
       "<table border=\"1\" class=\"dataframe\">\n",
       "  <thead>\n",
       "    <tr style=\"text-align: right;\">\n",
       "      <th></th>\n",
       "      <th>household</th>\n",
       "      <th>count_of_visit</th>\n",
       "    </tr>\n",
       "  </thead>\n",
       "  <tbody>\n",
       "    <tr>\n",
       "      <th>0</th>\n",
       "      <td>98794</td>\n",
       "      <td>137</td>\n",
       "    </tr>\n",
       "    <tr>\n",
       "      <th>1</th>\n",
       "      <td>340836</td>\n",
       "      <td>110</td>\n",
       "    </tr>\n",
       "    <tr>\n",
       "      <th>2</th>\n",
       "      <td>340632</td>\n",
       "      <td>107</td>\n",
       "    </tr>\n",
       "    <tr>\n",
       "      <th>3</th>\n",
       "      <td>193970</td>\n",
       "      <td>106</td>\n",
       "    </tr>\n",
       "    <tr>\n",
       "      <th>4</th>\n",
       "      <td>285611</td>\n",
       "      <td>96</td>\n",
       "    </tr>\n",
       "  </tbody>\n",
       "</table>\n",
       "</div>"
      ],
      "text/plain": [
       "  household  count_of_visit\n",
       "0     98794             137\n",
       "1    340836             110\n",
       "2    340632             107\n",
       "3    193970             106\n",
       "4    285611              96"
      ]
     },
     "execution_count": 335,
     "metadata": {},
     "output_type": "execute_result"
    }
   ],
   "source": [
    "syrups_hh_visits = pd.DataFrame(syrups.groupby(['household'])['basket'].nunique())\n",
    "syrups_hh_visits=syrups_hh_visits.rename(index=str,columns={'basket':'count_of_visit'})\n",
    "syrups_repeat_customer=syrups_hh_visits.sort_values(['count_of_visit'], ascending=False)\n",
    "syrups_repeat_customer=syrups_repeat_customer.reset_index()\n",
    "syrups_repeat_customer.head()"
   ]
  },
  {
   "cell_type": "code",
   "execution_count": 336,
   "metadata": {},
   "outputs": [
    {
     "data": {
      "text/html": [
       "<div>\n",
       "<style scoped>\n",
       "    .dataframe tbody tr th:only-of-type {\n",
       "        vertical-align: middle;\n",
       "    }\n",
       "\n",
       "    .dataframe tbody tr th {\n",
       "        vertical-align: top;\n",
       "    }\n",
       "\n",
       "    .dataframe thead th {\n",
       "        text-align: right;\n",
       "    }\n",
       "</style>\n",
       "<table border=\"1\" class=\"dataframe\">\n",
       "  <thead>\n",
       "    <tr style=\"text-align: right;\">\n",
       "      <th></th>\n",
       "      <th>count_of_visit</th>\n",
       "      <th>frequency</th>\n",
       "    </tr>\n",
       "  </thead>\n",
       "  <tbody>\n",
       "    <tr>\n",
       "      <th>0</th>\n",
       "      <td>1</td>\n",
       "      <td>130809</td>\n",
       "    </tr>\n",
       "    <tr>\n",
       "      <th>1</th>\n",
       "      <td>2</td>\n",
       "      <td>50107</td>\n",
       "    </tr>\n",
       "    <tr>\n",
       "      <th>2</th>\n",
       "      <td>3</td>\n",
       "      <td>25862</td>\n",
       "    </tr>\n",
       "    <tr>\n",
       "      <th>3</th>\n",
       "      <td>4</td>\n",
       "      <td>15313</td>\n",
       "    </tr>\n",
       "    <tr>\n",
       "      <th>4</th>\n",
       "      <td>5</td>\n",
       "      <td>9688</td>\n",
       "    </tr>\n",
       "  </tbody>\n",
       "</table>\n",
       "</div>"
      ],
      "text/plain": [
       "   count_of_visit  frequency\n",
       "0               1     130809\n",
       "1               2      50107\n",
       "2               3      25862\n",
       "3               4      15313\n",
       "4               5       9688"
      ]
     },
     "execution_count": 336,
     "metadata": {},
     "output_type": "execute_result"
    }
   ],
   "source": [
    "syrups_customer_vis_freq=pd.DataFrame(syrups_repeat_customer.groupby(['count_of_visit'])['household'].count())\n",
    "syrups_customer_vis_freq=syrups_customer_vis_freq.rename(index=str,columns={'household':'frequency'})\n",
    "syrups_customer_vis_freq=syrups_customer_vis_freq.reset_index()\n",
    "syrups_customer_vis_freq['count_of_visit'] = syrups_customer_vis_freq['count_of_visit'].astype('int')\n",
    "syrups_customer_vis_freq.head()"
   ]
  },
  {
   "cell_type": "code",
   "execution_count": 337,
   "metadata": {},
   "outputs": [
    {
     "data": {
      "text/plain": [
       "<BarContainer object of 75 artists>"
      ]
     },
     "execution_count": 337,
     "metadata": {},
     "output_type": "execute_result"
    },
    {
     "data": {
      "image/png": "[encoded data removed]",
      "text/plain": [
       "<Figure size 432x288 with 1 Axes>"
      ]
     },
     "metadata": {
      "needs_background": "light"
     },
     "output_type": "display_data"
    }
   ],
   "source": [
    "plt.bar(syrups_customer_vis_freq.count_of_visit, syrups_customer_vis_freq.frequency)"
   ]
  },
  {
   "cell_type": "code",
   "execution_count": 338,
   "metadata": {},
   "outputs": [],
   "source": [
    "syrups_customer_vis_freq['total_visit'] = syrups_customer_vis_freq['count_of_visit'] * syrups_customer_vis_freq['frequency']"
   ]
  },
  {
   "cell_type": "code",
   "execution_count": 339,
   "metadata": {},
   "outputs": [
    {
     "data": {
      "text/html": [
       "<div>\n",
       "<style scoped>\n",
       "    .dataframe tbody tr th:only-of-type {\n",
       "        vertical-align: middle;\n",
       "    }\n",
       "\n",
       "    .dataframe tbody tr th {\n",
       "        vertical-align: top;\n",
       "    }\n",
       "\n",
       "    .dataframe thead th {\n",
       "        text-align: right;\n",
       "    }\n",
       "</style>\n",
       "<table border=\"1\" class=\"dataframe\">\n",
       "  <thead>\n",
       "    <tr style=\"text-align: right;\">\n",
       "      <th></th>\n",
       "      <th>count_of_visit</th>\n",
       "      <th>frequency</th>\n",
       "      <th>total_visit</th>\n",
       "    </tr>\n",
       "  </thead>\n",
       "  <tbody>\n",
       "    <tr>\n",
       "      <th>0</th>\n",
       "      <td>1</td>\n",
       "      <td>130809</td>\n",
       "      <td>130809</td>\n",
       "    </tr>\n",
       "    <tr>\n",
       "      <th>1</th>\n",
       "      <td>2</td>\n",
       "      <td>50107</td>\n",
       "      <td>100214</td>\n",
       "    </tr>\n",
       "    <tr>\n",
       "      <th>2</th>\n",
       "      <td>3</td>\n",
       "      <td>25862</td>\n",
       "      <td>77586</td>\n",
       "    </tr>\n",
       "    <tr>\n",
       "      <th>3</th>\n",
       "      <td>4</td>\n",
       "      <td>15313</td>\n",
       "      <td>61252</td>\n",
       "    </tr>\n",
       "    <tr>\n",
       "      <th>4</th>\n",
       "      <td>5</td>\n",
       "      <td>9688</td>\n",
       "      <td>48440</td>\n",
       "    </tr>\n",
       "  </tbody>\n",
       "</table>\n",
       "</div>"
      ],
      "text/plain": [
       "   count_of_visit  frequency  total_visit\n",
       "0               1     130809       130809\n",
       "1               2      50107       100214\n",
       "2               3      25862        77586\n",
       "3               4      15313        61252\n",
       "4               5       9688        48440"
      ]
     },
     "execution_count": 339,
     "metadata": {},
     "output_type": "execute_result"
    }
   ],
   "source": [
    "syrups_customer_vis_freq.head()"
   ]
  },
  {
   "cell_type": "code",
   "execution_count": 340,
   "metadata": {},
   "outputs": [
    {
     "data": {
      "text/plain": [
       "527786"
      ]
     },
     "execution_count": 340,
     "metadata": {},
     "output_type": "execute_result"
    }
   ],
   "source": [
    "## Number of repetitive customer\n",
    "number_rep_cust_syrups = syrups_customer_vis_freq[syrups_customer_vis_freq['count_of_visit'] != 1]['total_visit'].sum()\n",
    "number_rep_cust_syrups"
   ]
  },
  {
   "cell_type": "code",
   "execution_count": 342,
   "metadata": {},
   "outputs": [
    {
     "data": {
      "text/plain": [
       "658595"
      ]
     },
     "execution_count": 342,
     "metadata": {},
     "output_type": "execute_result"
    }
   ],
   "source": [
    "## Total pasta visits \n",
    "total_syrups_visit = len(syrups['basket'].drop_duplicates())\n",
    "total_syrups_visit"
   ]
  },
  {
   "cell_type": "code",
   "execution_count": 345,
   "metadata": {},
   "outputs": [],
   "source": [
    "rep_cust_syrups = number_rep_cust_syrups/total_syrups_visit"
   ]
  },
  {
   "cell_type": "code",
   "execution_count": 546,
   "metadata": {},
   "outputs": [
    {
     "name": "stdout",
     "output_type": "stream",
     "text": [
      "Repetitive customer rate for syrups souce:80.1%\n"
     ]
    }
   ],
   "source": [
    "print('Repetitive customer rate for syrups souce:{}%'.format(round(rep_cust_syrups*100,1)))"
   ]
  },
  {
   "cell_type": "markdown",
   "metadata": {},
   "source": [
    "### e. How is the health of the category?"
   ]
  },
  {
   "cell_type": "markdown",
   "metadata": {},
   "source": [
    "#### 2 years KPI "
   ]
  },
  {
   "cell_type": "code",
   "execution_count": 551,
   "metadata": {},
   "outputs": [
    {
     "data": {
      "text/plain": [
       "9130919.079999989"
      ]
     },
     "execution_count": 551,
     "metadata": {},
     "output_type": "execute_result"
    }
   ],
   "source": [
    "trans_prod.dollar_sales.sum()"
   ]
  },
  {
   "cell_type": "code",
   "execution_count": null,
   "metadata": {},
   "outputs": [],
   "source": [
    "# Year1\n",
    "trans_prod.year1=trans_prod[trans_prod.week<=52]"
   ]
  },
  {
   "cell_type": "code",
   "execution_count": null,
   "metadata": {},
   "outputs": [],
   "source": [
    "# Year2\n",
    "trans_prod.year2=trans_prod[trans_prod.week>52]"
   ]
  },
  {
   "cell_type": "code",
   "execution_count": 362,
   "metadata": {},
   "outputs": [],
   "source": [
    "# totalsales_year 1 and 2\n",
    "sales_year1=trans_prod.year1.dollar_sales.sum()\n",
    "sales_year2=trans_prod.year2.dollar_sales.sum()\n",
    "# unit_year1\n",
    "unit_year1=trans_prod.year1.units.sum()\n",
    "unit_year2=trans_prod.year2.units.sum()\n",
    "# unit price year1 and 2: If there are any outlier we should apply median() function instead of mean()\n",
    "unit_price_year1=trans_prod.year1.unit_price.median()\n",
    "unit_price_year2=trans_prod.year2.unit_price.median()\n",
    "# We also need to check basket size \n",
    "basket_size_sales_year1=trans_prod.year1.groupby(['basket'])['dollar_sales'].sum().mean()\n",
    "basket_size_sales_year2=trans_prod.year2.groupby(['basket'])['dollar_sales'].sum().mean()\n",
    "# We also need to check basket size \n",
    "basket_size_unit_year1=trans_prod.year1.groupby(['basket'])['units'].sum().mean()\n",
    "basket_size_unit_year2=trans_prod.year2.groupby(['basket'])['units'].sum().mean()"
   ]
  },
  {
   "cell_type": "code",
   "execution_count": 554,
   "metadata": {},
   "outputs": [
    {
     "data": {
      "text/plain": [
       "11676.64614173228"
      ]
     },
     "execution_count": 554,
     "metadata": {},
     "output_type": "execute_result"
    }
   ],
   "source": [
    "#yearly dollar sale transaction average for stores\n",
    "trans_prod.year1.dollar_sales.sum()/(224+157)"
   ]
  },
  {
   "cell_type": "markdown",
   "metadata": {},
   "source": [
    "- yearly dollar sale transaction average for each store is very low. so There is an **anomaly** in the sale price."
   ]
  },
  {
   "cell_type": "code",
   "execution_count": 549,
   "metadata": {},
   "outputs": [
    {
     "data": {
      "text/html": [
       "<div>\n",
       "<style scoped>\n",
       "    .dataframe tbody tr th:only-of-type {\n",
       "        vertical-align: middle;\n",
       "    }\n",
       "\n",
       "    .dataframe tbody tr th {\n",
       "        vertical-align: top;\n",
       "    }\n",
       "\n",
       "    .dataframe thead th {\n",
       "        text-align: right;\n",
       "    }\n",
       "</style>\n",
       "<table border=\"1\" class=\"dataframe\">\n",
       "  <thead>\n",
       "    <tr style=\"text-align: right;\">\n",
       "      <th></th>\n",
       "      <th>year</th>\n",
       "      <th>sales</th>\n",
       "      <th>units</th>\n",
       "      <th>unit_price</th>\n",
       "      <th>basket_size_sale</th>\n",
       "      <th>basket_size_units</th>\n",
       "    </tr>\n",
       "  </thead>\n",
       "  <tbody>\n",
       "    <tr>\n",
       "      <th>0</th>\n",
       "      <td>year_1</td>\n",
       "      <td>859372.94</td>\n",
       "      <td>352650</td>\n",
       "      <td>2.39</td>\n",
       "      <td>2.674017</td>\n",
       "      <td>1.097303</td>\n",
       "    </tr>\n",
       "    <tr>\n",
       "      <th>1</th>\n",
       "      <td>year_2</td>\n",
       "      <td>881963.95</td>\n",
       "      <td>372047</td>\n",
       "      <td>2.29</td>\n",
       "      <td>2.615427</td>\n",
       "      <td>1.103290</td>\n",
       "    </tr>\n",
       "  </tbody>\n",
       "</table>\n",
       "</div>"
      ],
      "text/plain": [
       "     year      sales   units  unit_price  basket_size_sale  basket_size_units\n",
       "0  year_1  859372.94  352650        2.39          2.674017           1.097303\n",
       "1  year_2  881963.95  372047        2.29          2.615427           1.103290"
      ]
     },
     "execution_count": 549,
     "metadata": {},
     "output_type": "execute_result"
    }
   ],
   "source": [
    "# two years KPI\n",
    "KPI_all = [['year_1',sales_year1, unit_year1, unit_price_year1, basket_size_sales_year1, basket_size_unit_year1],\n",
    "                    ['year_2',sales_year2, unit_year2, unit_price_year2,basket_size_sales_year2,  basket_size_unit_year2]]\n",
    "KPI_all_products = pd.DataFrame(KPI_all,columns=['year', 'sales','units', 'unit_price', 'basket_size_sale', 'basket_size_units'])\n",
    "KPI_all_products"
   ]
  },
  {
   "cell_type": "code",
   "execution_count": 583,
   "metadata": {},
   "outputs": [
    {
     "data": {
      "text/plain": [
       "2.4369004395292784"
      ]
     },
     "execution_count": 583,
     "metadata": {},
     "output_type": "execute_result"
    }
   ],
   "source": [
    "859372.94/352650"
   ]
  },
  {
   "cell_type": "code",
   "execution_count": 571,
   "metadata": {},
   "outputs": [
    {
     "data": {
      "text/plain": [
       "16042.834625322997"
      ]
     },
     "execution_count": 571,
     "metadata": {},
     "output_type": "execute_result"
    }
   ],
   "source": [
    "# number of transection average for stores in 2 years\n",
    "trans_prod.units.sum()/stores.store.drop_duplicates().count()"
   ]
  },
  {
   "cell_type": "code",
   "execution_count": 550,
   "metadata": {},
   "outputs": [],
   "source": [
    "KPI_all_products.to_csv('KPI_all_products.csv', index=False)"
   ]
  },
  {
   "cell_type": "code",
   "execution_count": 387,
   "metadata": {},
   "outputs": [
    {
     "data": {
      "text/plain": [
       "<BarContainer object of 2 artists>"
      ]
     },
     "execution_count": 387,
     "metadata": {},
     "output_type": "execute_result"
    },
    {
     "data": {
      "image/png": "[encoded data removed]",
      "text/plain": [
       "<Figure size 432x288 with 1 Axes>"
      ]
     },
     "metadata": {
      "needs_background": "light"
     },
     "output_type": "display_data"
    }
   ],
   "source": [
    "plt.bar(KPI_all_products.year, KPI_all_products.sales)"
   ]
  },
  {
   "cell_type": "code",
   "execution_count": 388,
   "metadata": {},
   "outputs": [
    {
     "data": {
      "text/plain": [
       "<BarContainer object of 2 artists>"
      ]
     },
     "execution_count": 388,
     "metadata": {},
     "output_type": "execute_result"
    },
    {
     "data": {
      "image/png": "[encoded data removed]",
      "text/plain": [
       "<Figure size 432x288 with 1 Axes>"
      ]
     },
     "metadata": {
      "needs_background": "light"
     },
     "output_type": "display_data"
    }
   ],
   "source": [
    "plt.bar(KPI_all_products.year, KPI_all_products.units)"
   ]
  },
  {
   "cell_type": "code",
   "execution_count": 389,
   "metadata": {},
   "outputs": [
    {
     "data": {
      "text/plain": [
       "<BarContainer object of 2 artists>"
      ]
     },
     "execution_count": 389,
     "metadata": {},
     "output_type": "execute_result"
    },
    {
     "data": {
      "image/png": "[encoded data removed]",
      "text/plain": [
       "<Figure size 432x288 with 1 Axes>"
      ]
     },
     "metadata": {
      "needs_background": "light"
     },
     "output_type": "display_data"
    }
   ],
   "source": [
    "plt.bar(KPI_all_products.year, KPI_all_products.unit_price)"
   ]
  },
  {
   "cell_type": "code",
   "execution_count": 392,
   "metadata": {},
   "outputs": [
    {
     "data": {
      "text/plain": [
       "<BarContainer object of 2 artists>"
      ]
     },
     "execution_count": 392,
     "metadata": {},
     "output_type": "execute_result"
    },
    {
     "data": {
      "image/png": "[encoded data removed]",
      "text/plain": [
       "<Figure size 432x288 with 1 Axes>"
      ]
     },
     "metadata": {
      "needs_background": "light"
     },
     "output_type": "display_data"
    }
   ],
   "source": [
    "plt.bar(KPI_all_products.year, KPI_all_products.basket_size_sale)"
   ]
  },
  {
   "cell_type": "code",
   "execution_count": 393,
   "metadata": {},
   "outputs": [
    {
     "data": {
      "text/plain": [
       "<BarContainer object of 2 artists>"
      ]
     },
     "execution_count": 393,
     "metadata": {},
     "output_type": "execute_result"
    },
    {
     "data": {
      "image/png": "[encoded data removed]",
      "text/plain": [
       "<Figure size 432x288 with 1 Axes>"
      ]
     },
     "metadata": {
      "needs_background": "light"
     },
     "output_type": "display_data"
    }
   ],
   "source": [
    "plt.bar(KPI_all_products.year, KPI_all_products.basket_size_units)"
   ]
  },
  {
   "cell_type": "code",
   "execution_count": 575,
   "metadata": {},
   "outputs": [
    {
     "name": "stderr",
     "output_type": "stream",
     "text": [
      "C:\\Users\\AKAYA\\Anaconda\\lib\\site-packages\\ipykernel_launcher.py:2: UserWarning:\n",
      "\n",
      "Pandas doesn't allow columns to be created via a new attribute name - see https://pandas.pydata.org/pandas-docs/stable/indexing.html#attribute-access\n",
      "\n",
      "C:\\Users\\AKAYA\\Anaconda\\lib\\site-packages\\ipykernel_launcher.py:3: UserWarning:\n",
      "\n",
      "Pandas doesn't allow columns to be created via a new attribute name - see https://pandas.pydata.org/pandas-docs/stable/indexing.html#attribute-access\n",
      "\n"
     ]
    },
    {
     "data": {
      "text/html": [
       "<div>\n",
       "<style scoped>\n",
       "    .dataframe tbody tr th:only-of-type {\n",
       "        vertical-align: middle;\n",
       "    }\n",
       "\n",
       "    .dataframe tbody tr th {\n",
       "        vertical-align: top;\n",
       "    }\n",
       "\n",
       "    .dataframe thead th {\n",
       "        text-align: right;\n",
       "    }\n",
       "</style>\n",
       "<table border=\"1\" class=\"dataframe\">\n",
       "  <thead>\n",
       "    <tr style=\"text-align: right;\">\n",
       "      <th></th>\n",
       "      <th>year</th>\n",
       "      <th>sales</th>\n",
       "      <th>units</th>\n",
       "      <th>unit_price</th>\n",
       "      <th>basket_size_sale</th>\n",
       "      <th>basket_size_units</th>\n",
       "    </tr>\n",
       "  </thead>\n",
       "  <tbody>\n",
       "    <tr>\n",
       "      <th>0</th>\n",
       "      <td>year_1</td>\n",
       "      <td>1381562.86</td>\n",
       "      <td>1368893</td>\n",
       "      <td>0.99</td>\n",
       "      <td>1.456460</td>\n",
       "      <td>1.443103</td>\n",
       "    </tr>\n",
       "    <tr>\n",
       "      <th>1</th>\n",
       "      <td>year_2</td>\n",
       "      <td>1470980.85</td>\n",
       "      <td>1504167</td>\n",
       "      <td>0.99</td>\n",
       "      <td>1.457015</td>\n",
       "      <td>1.489886</td>\n",
       "    </tr>\n",
       "  </tbody>\n",
       "</table>\n",
       "</div>"
      ],
      "text/plain": [
       "     year       sales    units  unit_price  basket_size_sale  \\\n",
       "0  year_1  1381562.86  1368893        0.99          1.456460   \n",
       "1  year_2  1470980.85  1504167        0.99          1.457015   \n",
       "\n",
       "   basket_size_units  \n",
       "0           1.443103  \n",
       "1           1.489886  "
      ]
     },
     "execution_count": 575,
     "metadata": {},
     "output_type": "execute_result"
    }
   ],
   "source": [
    "# KPI for pasta \n",
    "pasta.year1=pasta[pasta.week<=52]\n",
    "pasta.year2=pasta[pasta.week>52]\n",
    "\n",
    "sales_year1=pasta.year1.dollar_sales.sum()\n",
    "sales_year2=pasta.year2.dollar_sales.sum()\n",
    "# unit_year1\n",
    "unit_year1=pasta.year1.units.sum()\n",
    "unit_year2=pasta.year2.units.sum()\n",
    "# unit price year1 and 2: If there are any outlier we should apply median() function instead of mean()\n",
    "unit_price_year1=pasta.year1.unit_price.median()\n",
    "unit_price_year2=pasta.year2.unit_price.median()\n",
    "# We also need to check basket size \n",
    "basket_size_sales_year1=pasta.year1.groupby(['basket'])['dollar_sales'].sum().mean()\n",
    "basket_size_sales_year2=pasta.year2.groupby(['basket'])['dollar_sales'].sum().mean()\n",
    "# We also need to check basket size \n",
    "basket_size_unit_year1=pasta.year1.groupby(['basket'])['units'].sum().mean()\n",
    "basket_size_unit_year2=pasta.year2.groupby(['basket'])['units'].sum().mean()\n",
    "# two years KPI\n",
    "KPI_pasta = [['year_1',sales_year1, unit_year1, unit_price_year1, basket_size_sales_year1, basket_size_unit_year1],\n",
    "                    ['year_2',sales_year2, unit_year2, unit_price_year2,basket_size_sales_year2,  basket_size_unit_year2]]\n",
    "KPI_pasta_products = pd.DataFrame(KPI_pasta,columns=['year', 'sales','units', 'unit_price', 'basket_size_sale', 'basket_size_units'])\n",
    "KPI_pasta_products"
   ]
  },
  {
   "cell_type": "code",
   "execution_count": 574,
   "metadata": {},
   "outputs": [],
   "source": [
    "KPI_pasta_products.to_csv('KPI_pasta_products.csv', index=False)"
   ]
  },
  {
   "cell_type": "code",
   "execution_count": 577,
   "metadata": {},
   "outputs": [
    {
     "name": "stderr",
     "output_type": "stream",
     "text": [
      "C:\\Users\\AKAYA\\Anaconda\\lib\\site-packages\\ipykernel_launcher.py:2: UserWarning:\n",
      "\n",
      "Pandas doesn't allow columns to be created via a new attribute name - see https://pandas.pydata.org/pandas-docs/stable/indexing.html#attribute-access\n",
      "\n",
      "C:\\Users\\AKAYA\\Anaconda\\lib\\site-packages\\ipykernel_launcher.py:3: UserWarning:\n",
      "\n",
      "Pandas doesn't allow columns to be created via a new attribute name - see https://pandas.pydata.org/pandas-docs/stable/indexing.html#attribute-access\n",
      "\n"
     ]
    }
   ],
   "source": [
    "# KPI for pasta_sauce \n",
    "pasta_sauce.year1=pasta_sauce[pasta_sauce.week<=52]\n",
    "pasta_sauce.year2=pasta_sauce[pasta_sauce.week>52]"
   ]
  },
  {
   "cell_type": "code",
   "execution_count": 578,
   "metadata": {},
   "outputs": [],
   "source": [
    "sales_year1=pasta_sauce.year1.dollar_sales.sum()\n",
    "sales_year2=pasta_sauce.year2.dollar_sales.sum()\n",
    "# unit_year1\n",
    "unit_year1=pasta_sauce.year1.units.sum()\n",
    "unit_year2=pasta_sauce.year2.units.sum()"
   ]
  },
  {
   "cell_type": "code",
   "execution_count": 579,
   "metadata": {},
   "outputs": [
    {
     "data": {
      "text/html": [
       "<div>\n",
       "<style scoped>\n",
       "    .dataframe tbody tr th:only-of-type {\n",
       "        vertical-align: middle;\n",
       "    }\n",
       "\n",
       "    .dataframe tbody tr th {\n",
       "        vertical-align: top;\n",
       "    }\n",
       "\n",
       "    .dataframe thead th {\n",
       "        text-align: right;\n",
       "    }\n",
       "</style>\n",
       "<table border=\"1\" class=\"dataframe\">\n",
       "  <thead>\n",
       "    <tr style=\"text-align: right;\">\n",
       "      <th></th>\n",
       "      <th>year</th>\n",
       "      <th>sales</th>\n",
       "      <th>units</th>\n",
       "      <th>unit_price</th>\n",
       "      <th>basket_size_sale</th>\n",
       "      <th>basket_size_units</th>\n",
       "    </tr>\n",
       "  </thead>\n",
       "  <tbody>\n",
       "    <tr>\n",
       "      <th>0</th>\n",
       "      <td>year_1</td>\n",
       "      <td>1962860.95</td>\n",
       "      <td>1094443</td>\n",
       "      <td>1.61</td>\n",
       "      <td>2.644321</td>\n",
       "      <td>1.474408</td>\n",
       "    </tr>\n",
       "    <tr>\n",
       "      <th>1</th>\n",
       "      <td>year_2</td>\n",
       "      <td>2062337.69</td>\n",
       "      <td>1215925</td>\n",
       "      <td>1.58</td>\n",
       "      <td>2.574157</td>\n",
       "      <td>1.517687</td>\n",
       "    </tr>\n",
       "  </tbody>\n",
       "</table>\n",
       "</div>"
      ],
      "text/plain": [
       "     year       sales    units  unit_price  basket_size_sale  \\\n",
       "0  year_1  1962860.95  1094443        1.61          2.644321   \n",
       "1  year_2  2062337.69  1215925        1.58          2.574157   \n",
       "\n",
       "   basket_size_units  \n",
       "0           1.474408  \n",
       "1           1.517687  "
      ]
     },
     "execution_count": 579,
     "metadata": {},
     "output_type": "execute_result"
    }
   ],
   "source": [
    "# unit price year1 and 2: If there are any outlier we should apply median() function instead of mean()\n",
    "unit_price_year1=pasta_sauce.year1.unit_price.median()\n",
    "unit_price_year2=pasta_sauce.year2.unit_price.median()\n",
    "# We also need to check basket size \n",
    "basket_size_sales_year1=pasta_sauce.year1.groupby(['basket'])['dollar_sales'].sum().mean()\n",
    "basket_size_sales_year2=pasta_sauce.year2.groupby(['basket'])['dollar_sales'].sum().mean()\n",
    "# We also need to check basket size \n",
    "basket_size_unit_year1=pasta_sauce.year1.groupby(['basket'])['units'].sum().mean()\n",
    "basket_size_unit_year2=pasta_sauce.year2.groupby(['basket'])['units'].sum().mean()\n",
    "# two years KPI\n",
    "KPI_pasta_sauce = [['year_1',sales_year1, unit_year1, unit_price_year1, basket_size_sales_year1, basket_size_unit_year1],\n",
    "                    ['year_2',sales_year2, unit_year2, unit_price_year2,basket_size_sales_year2,  basket_size_unit_year2]]\n",
    "KPI_pasta_sauce_products = pd.DataFrame(KPI_pasta_sauce,columns=['year', 'sales','units', 'unit_price', 'basket_size_sale', 'basket_size_units'])\n",
    "KPI_pasta_sauce_products"
   ]
  },
  {
   "cell_type": "code",
   "execution_count": 580,
   "metadata": {},
   "outputs": [
    {
     "name": "stderr",
     "output_type": "stream",
     "text": [
      "C:\\Users\\AKAYA\\Anaconda\\lib\\site-packages\\ipykernel_launcher.py:2: UserWarning:\n",
      "\n",
      "Pandas doesn't allow columns to be created via a new attribute name - see https://pandas.pydata.org/pandas-docs/stable/indexing.html#attribute-access\n",
      "\n",
      "C:\\Users\\AKAYA\\Anaconda\\lib\\site-packages\\ipykernel_launcher.py:3: UserWarning:\n",
      "\n",
      "Pandas doesn't allow columns to be created via a new attribute name - see https://pandas.pydata.org/pandas-docs/stable/indexing.html#attribute-access\n",
      "\n"
     ]
    },
    {
     "data": {
      "text/html": [
       "<div>\n",
       "<style scoped>\n",
       "    .dataframe tbody tr th:only-of-type {\n",
       "        vertical-align: middle;\n",
       "    }\n",
       "\n",
       "    .dataframe tbody tr th {\n",
       "        vertical-align: top;\n",
       "    }\n",
       "\n",
       "    .dataframe thead th {\n",
       "        text-align: right;\n",
       "    }\n",
       "</style>\n",
       "<table border=\"1\" class=\"dataframe\">\n",
       "  <thead>\n",
       "    <tr style=\"text-align: right;\">\n",
       "      <th></th>\n",
       "      <th>year</th>\n",
       "      <th>sales</th>\n",
       "      <th>units</th>\n",
       "      <th>unit_price</th>\n",
       "      <th>basket_size_sale</th>\n",
       "      <th>basket_size_units</th>\n",
       "    </tr>\n",
       "  </thead>\n",
       "  <tbody>\n",
       "    <tr>\n",
       "      <th>0</th>\n",
       "      <td>year_1</td>\n",
       "      <td>245005.43</td>\n",
       "      <td>142693</td>\n",
       "      <td>1.99</td>\n",
       "      <td>1.941945</td>\n",
       "      <td>1.131003</td>\n",
       "    </tr>\n",
       "    <tr>\n",
       "      <th>1</th>\n",
       "      <td>year_2</td>\n",
       "      <td>266834.41</td>\n",
       "      <td>157759</td>\n",
       "      <td>1.99</td>\n",
       "      <td>1.938767</td>\n",
       "      <td>1.146246</td>\n",
       "    </tr>\n",
       "  </tbody>\n",
       "</table>\n",
       "</div>"
      ],
      "text/plain": [
       "     year      sales   units  unit_price  basket_size_sale  basket_size_units\n",
       "0  year_1  245005.43  142693        1.99          1.941945           1.131003\n",
       "1  year_2  266834.41  157759        1.99          1.938767           1.146246"
      ]
     },
     "execution_count": 580,
     "metadata": {},
     "output_type": "execute_result"
    }
   ],
   "source": [
    "# KPI for pancake_mixes \n",
    "pancake_mixes.year1=pancake_mixes[pancake_mixes.week<=52]\n",
    "pancake_mixes.year2=pancake_mixes[pancake_mixes.week>52]\n",
    "\n",
    "sales_year1=pancake_mixes.year1.dollar_sales.sum()\n",
    "sales_year2=pancake_mixes.year2.dollar_sales.sum()\n",
    "# unit_year1\n",
    "unit_year1=pancake_mixes.year1.units.sum()\n",
    "unit_year2=pancake_mixes.year2.units.sum()\n",
    "# unit price year1 and 2: If there are any outlier we should apply median() function instead of mean()\n",
    "unit_price_year1=pancake_mixes.year1.unit_price.median()\n",
    "unit_price_year2=pancake_mixes.year2.unit_price.median()\n",
    "# We also need to check basket size \n",
    "basket_size_sales_year1=pancake_mixes.year1.groupby(['basket'])['dollar_sales'].sum().mean()\n",
    "basket_size_sales_year2=pancake_mixes.year2.groupby(['basket'])['dollar_sales'].sum().mean()\n",
    "# We also need to check basket size \n",
    "basket_size_unit_year1=pancake_mixes.year1.groupby(['basket'])['units'].sum().mean()\n",
    "basket_size_unit_year2=pancake_mixes.year2.groupby(['basket'])['units'].sum().mean()\n",
    "# two years KPI\n",
    "KPI_pancake_mixes = [['year_1',sales_year1, unit_year1, unit_price_year1, basket_size_sales_year1, basket_size_unit_year1],\n",
    "                    ['year_2',sales_year2, unit_year2, unit_price_year2,basket_size_sales_year2,  basket_size_unit_year2]]\n",
    "KPI_pancake_mixes_products = pd.DataFrame(KPI_pancake_mixes,columns=['year', 'sales','units', 'unit_price', 'basket_size_sale', 'basket_size_units'])\n",
    "KPI_pancake_mixes_products"
   ]
  },
  {
   "cell_type": "code",
   "execution_count": 581,
   "metadata": {},
   "outputs": [
    {
     "name": "stderr",
     "output_type": "stream",
     "text": [
      "C:\\Users\\AKAYA\\Anaconda\\lib\\site-packages\\ipykernel_launcher.py:2: UserWarning:\n",
      "\n",
      "Pandas doesn't allow columns to be created via a new attribute name - see https://pandas.pydata.org/pandas-docs/stable/indexing.html#attribute-access\n",
      "\n",
      "C:\\Users\\AKAYA\\Anaconda\\lib\\site-packages\\ipykernel_launcher.py:3: UserWarning:\n",
      "\n",
      "Pandas doesn't allow columns to be created via a new attribute name - see https://pandas.pydata.org/pandas-docs/stable/indexing.html#attribute-access\n",
      "\n"
     ]
    },
    {
     "data": {
      "text/html": [
       "<div>\n",
       "<style scoped>\n",
       "    .dataframe tbody tr th:only-of-type {\n",
       "        vertical-align: middle;\n",
       "    }\n",
       "\n",
       "    .dataframe tbody tr th {\n",
       "        vertical-align: top;\n",
       "    }\n",
       "\n",
       "    .dataframe thead th {\n",
       "        text-align: right;\n",
       "    }\n",
       "</style>\n",
       "<table border=\"1\" class=\"dataframe\">\n",
       "  <thead>\n",
       "    <tr style=\"text-align: right;\">\n",
       "      <th></th>\n",
       "      <th>year</th>\n",
       "      <th>sales</th>\n",
       "      <th>units</th>\n",
       "      <th>unit_price</th>\n",
       "      <th>basket_size_sale</th>\n",
       "      <th>basket_size_units</th>\n",
       "    </tr>\n",
       "  </thead>\n",
       "  <tbody>\n",
       "    <tr>\n",
       "      <th>0</th>\n",
       "      <td>year_1</td>\n",
       "      <td>859372.94</td>\n",
       "      <td>352650</td>\n",
       "      <td>2.39</td>\n",
       "      <td>2.674017</td>\n",
       "      <td>1.097303</td>\n",
       "    </tr>\n",
       "    <tr>\n",
       "      <th>1</th>\n",
       "      <td>year_2</td>\n",
       "      <td>881963.95</td>\n",
       "      <td>372047</td>\n",
       "      <td>2.29</td>\n",
       "      <td>2.615427</td>\n",
       "      <td>1.103290</td>\n",
       "    </tr>\n",
       "  </tbody>\n",
       "</table>\n",
       "</div>"
      ],
      "text/plain": [
       "     year      sales   units  unit_price  basket_size_sale  basket_size_units\n",
       "0  year_1  859372.94  352650        2.39          2.674017           1.097303\n",
       "1  year_2  881963.95  372047        2.29          2.615427           1.103290"
      ]
     },
     "execution_count": 581,
     "metadata": {},
     "output_type": "execute_result"
    }
   ],
   "source": [
    "# KPI for syrups \n",
    "syrups.year1=syrups[syrups.week<=52]\n",
    "syrups.year2=syrups[syrups.week>52]\n",
    "\n",
    "sales_year1=syrups.year1.dollar_sales.sum()\n",
    "sales_year2=syrups.year2.dollar_sales.sum()\n",
    "# unit_year1\n",
    "unit_year1=syrups.year1.units.sum()\n",
    "unit_year2=syrups.year2.units.sum()\n",
    "# unit price year1 and 2: If there are any outlier we should apply median() function instead of mean()\n",
    "unit_price_year1=syrups.year1.unit_price.median()\n",
    "unit_price_year2=syrups.year2.unit_price.median()\n",
    "# We also need to check basket size \n",
    "basket_size_sales_year1=syrups.year1.groupby(['basket'])['dollar_sales'].sum().mean()\n",
    "basket_size_sales_year2=syrups.year2.groupby(['basket'])['dollar_sales'].sum().mean()\n",
    "# We also need to check basket size \n",
    "basket_size_unit_year1=syrups.year1.groupby(['basket'])['units'].sum().mean()\n",
    "basket_size_unit_year2=syrups.year2.groupby(['basket'])['units'].sum().mean()\n",
    "# two years KPI\n",
    "KPI_syrups = [['year_1',sales_year1, unit_year1, unit_price_year1, basket_size_sales_year1, basket_size_unit_year1],\n",
    "                    ['year_2',sales_year2, unit_year2, unit_price_year2,basket_size_sales_year2,  basket_size_unit_year2]]\n",
    "KPI_syrups_products = pd.DataFrame(KPI_syrups,columns=['year', 'sales','units', 'unit_price', 'basket_size_sale', 'basket_size_units'])\n",
    "KPI_syrups_products"
   ]
  },
  {
   "cell_type": "code",
   "execution_count": 403,
   "metadata": {},
   "outputs": [
    {
     "data": {
      "text/plain": [
       "0            pasta\n",
       "1      pasta sauce\n",
       "2    pancake mixes\n",
       "6           syrups\n",
       "Name: commodity, dtype: object"
      ]
     },
     "execution_count": 403,
     "metadata": {},
     "output_type": "execute_result"
    }
   ],
   "source": [
    "trans_prod.commodity.drop_duplicates()"
   ]
  },
  {
   "cell_type": "code",
   "execution_count": 353,
   "metadata": {
    "scrolled": true
   },
   "outputs": [
    {
     "data": {
      "text/plain": [
       "<matplotlib.axes._subplots.AxesSubplot at 0x1cd5aeffe48>"
      ]
     },
     "execution_count": 353,
     "metadata": {},
     "output_type": "execute_result"
    },
    {
     "data": {
      "image/png": "[encoded data removed]",
      "text/plain": [
       "<Figure size 432x288 with 1 Axes>"
      ]
     },
     "metadata": {
      "needs_background": "light"
     },
     "output_type": "display_data"
    }
   ],
   "source": [
    "import seaborn as sns\n",
    "sns.boxplot(x=trans_prod.unit_price)"
   ]
  },
  {
   "cell_type": "code",
   "execution_count": 430,
   "metadata": {},
   "outputs": [],
   "source": [
    "# weekly sales graph for each commidity\n",
    "pasta_weekly_sales=pd.DataFrame(pasta.groupby(['week'])['dollar_sales'].sum()).reset_index()\n",
    "pasta_sauce_weekly_sales=pd.DataFrame(pasta_sauce.groupby(['week'])['dollar_sales'].sum()).reset_index()\n",
    "pancake_mixes_weekly_sales=pd.DataFrame(pancake_mixes.groupby(['week'])['dollar_sales'].sum()).reset_index()\n",
    "syrups_weekly_sales=pd.DataFrame(syrups.groupby(['week'])['dollar_sales'].sum()).reset_index()"
   ]
  },
  {
   "cell_type": "code",
   "execution_count": 427,
   "metadata": {},
   "outputs": [],
   "source": [
    "import plotly.plotly as py\n",
    "import plotly.graph_objs as go"
   ]
  },
  {
   "cell_type": "code",
   "execution_count": 437,
   "metadata": {},
   "outputs": [
    {
     "name": "stderr",
     "output_type": "stream",
     "text": [
      "C:\\Users\\AKAYA\\Anaconda\\lib\\site-packages\\IPython\\core\\display.py:689: UserWarning:\n",
      "\n",
      "Consider using IPython.display.IFrame instead\n",
      "\n"
     ]
    },
    {
     "data": {
      "text/html": [
       "<iframe id=\"igraph\" scrolling=\"no\" style=\"border:none;\" seamless=\"seamless\" src=\"https://plot.ly/~ahmetkaya0107/238.embed\" height=\"525px\" width=\"100%\"></iframe>"
      ],
      "text/plain": [
       "<plotly.tools.PlotlyDisplay object>"
      ]
     },
     "execution_count": 437,
     "metadata": {},
     "output_type": "execute_result"
    }
   ],
   "source": [
    "trace_1 = go.Scatter(x=pasta_weekly_sales.week,\n",
    "                     y=pasta_weekly_sales.dollar_sales,\n",
    "                name = \"pasta\",\n",
    "                line = dict(color = 'blue'),\n",
    "                opacity = 0.8)\n",
    "trace_2 = go.Scatter(\n",
    "                x=pasta_sauce_weekly_sales.week,\n",
    "                y=pasta_sauce_weekly_sales.dollar_sales,\n",
    "                name = \"pasta sauce\",\n",
    "                line = dict(color = 'green'),\n",
    "                opacity = 0.8)\n",
    "trace_3 = go.Scatter(\n",
    "                x=pancake_mixes_weekly_sales.week,\n",
    "                y=pancake_mixes_weekly_sales.dollar_sales,\n",
    "                name = \"pancake mixes\",\n",
    "                line = dict(color = 'black'),\n",
    "                opacity = 0.8)\n",
    "trace_4 = go.Scatter(\n",
    "                x=syrups_weekly_sales.week,\n",
    "                y=syrups_weekly_sales.dollar_sales,\n",
    "                name = \"syrups weekly\",\n",
    "                line = dict(color = 'red'),\n",
    "                opacity = 0.8)\n",
    "data = [trace_1,trace_2, trace_3,trace_4]\n",
    "\n",
    "layout = dict(\n",
    "    title = \"weekly total sales for each commodity\",\n",
    "    xaxis = dict(\n",
    "        range = ['1','104'])\n",
    ")\n",
    "\n",
    "fig = dict(data=data, layout=layout)\n",
    "py.iplot(fig)"
   ]
  },
  {
   "cell_type": "markdown",
   "metadata": {},
   "source": [
    "- at week 19th while transection for pasta souce was decreasing syrupe was increasing."
   ]
  },
  {
   "cell_type": "code",
   "execution_count": 601,
   "metadata": {},
   "outputs": [
    {
     "data": {
      "text/html": [
       "<div>\n",
       "<style scoped>\n",
       "    .dataframe tbody tr th:only-of-type {\n",
       "        vertical-align: middle;\n",
       "    }\n",
       "\n",
       "    .dataframe tbody tr th {\n",
       "        vertical-align: top;\n",
       "    }\n",
       "\n",
       "    .dataframe thead th {\n",
       "        text-align: right;\n",
       "    }\n",
       "</style>\n",
       "<table border=\"1\" class=\"dataframe\">\n",
       "  <thead>\n",
       "    <tr style=\"text-align: right;\">\n",
       "      <th></th>\n",
       "      <th>brand</th>\n",
       "      <th>dollar_sales</th>\n",
       "    </tr>\n",
       "  </thead>\n",
       "  <tbody>\n",
       "    <tr>\n",
       "      <th>0</th>\n",
       "      <td>Karo</td>\n",
       "      <td>6211.31</td>\n",
       "    </tr>\n",
       "    <tr>\n",
       "      <th>1</th>\n",
       "      <td>Private Label</td>\n",
       "      <td>5424.39</td>\n",
       "    </tr>\n",
       "    <tr>\n",
       "      <th>2</th>\n",
       "      <td>Aunt Jemima</td>\n",
       "      <td>3980.98</td>\n",
       "    </tr>\n",
       "    <tr>\n",
       "      <th>3</th>\n",
       "      <td>Private Label Premium</td>\n",
       "      <td>1814.19</td>\n",
       "    </tr>\n",
       "    <tr>\n",
       "      <th>4</th>\n",
       "      <td>Mrs Butterworth</td>\n",
       "      <td>1626.86</td>\n",
       "    </tr>\n",
       "  </tbody>\n",
       "</table>\n",
       "</div>"
      ],
      "text/plain": [
       "                   brand  dollar_sales\n",
       "0                   Karo       6211.31\n",
       "1          Private Label       5424.39\n",
       "2            Aunt Jemima       3980.98\n",
       "3  Private Label Premium       1814.19\n",
       "4        Mrs Butterworth       1626.86"
      ]
     },
     "execution_count": 601,
     "metadata": {},
     "output_type": "execute_result"
    }
   ],
   "source": [
    "#19th week and 71 th week seasonal effect\n",
    "week_19th=trans_prod[trans_prod.week==19]\n",
    "pd.DataFrame(week_19th[week_19th.commodity=='syrups'].groupby(['brand'])['dollar_sales'].sum())\\\n",
    "                    .sort_values(['dollar_sales'], ascending=False)\\\n",
    "                    .reset_index().head(5)"
   ]
  },
  {
   "cell_type": "code",
   "execution_count": 602,
   "metadata": {},
   "outputs": [],
   "source": [
    "# weekly sales graph for each commidity\n",
    "pasta_weekly_units=pd.DataFrame(pasta.groupby(['week'])['units'].sum()).reset_index()\n",
    "pasta_sauce_weekly_units=pd.DataFrame(pasta_sauce.groupby(['week'])['units'].sum()).reset_index()\n",
    "pancake_mixes_weekly_units=pd.DataFrame(pancake_mixes.groupby(['week'])['units'].sum()).reset_index()\n",
    "syrups_weekly_units=pd.DataFrame(syrups.groupby(['week'])['units'].sum()).reset_index()"
   ]
  },
  {
   "cell_type": "code",
   "execution_count": 604,
   "metadata": {
    "scrolled": false
   },
   "outputs": [
    {
     "name": "stderr",
     "output_type": "stream",
     "text": [
      "C:\\Users\\AKAYA\\Anaconda\\lib\\site-packages\\IPython\\core\\display.py:689: UserWarning:\n",
      "\n",
      "Consider using IPython.display.IFrame instead\n",
      "\n"
     ]
    },
    {
     "data": {
      "text/html": [
       "<iframe id=\"igraph\" scrolling=\"no\" style=\"border:none;\" seamless=\"seamless\" src=\"https://plot.ly/~ahmetkaya0107/244.embed\" height=\"525px\" width=\"100%\"></iframe>"
      ],
      "text/plain": [
       "<plotly.tools.PlotlyDisplay object>"
      ]
     },
     "execution_count": 604,
     "metadata": {},
     "output_type": "execute_result"
    }
   ],
   "source": [
    "trace_1 = go.Scatter(x=pasta_weekly_units.week,\n",
    "                     y=pasta_weekly_units.units,\n",
    "                name = \"pasta\",\n",
    "                line = dict(color = 'blue'),\n",
    "                opacity = 0.8)\n",
    "trace_2 = go.Scatter(\n",
    "                x=pasta_sauce_weekly_units.week,\n",
    "                y=pasta_sauce_weekly_units.units,\n",
    "                name = \"pasta sauce\",\n",
    "                line = dict(color = 'green'),\n",
    "                opacity = 0.8)\n",
    "trace_3 = go.Scatter(\n",
    "                x=pancake_mixes_weekly_units.week,\n",
    "                y=pancake_mixes_weekly_units.units,\n",
    "                name = \"pancake mixes\",\n",
    "                line = dict(color = 'black'),\n",
    "                opacity = 0.8)\n",
    "trace_4 = go.Scatter(\n",
    "                x=syrups_weekly_units.week,\n",
    "                y=syrups_weekly_units.units,\n",
    "                name = \"syrups weekly\",\n",
    "                line = dict(color = 'red'),\n",
    "                opacity = 0.8)\n",
    "data = [trace_1,trace_2, trace_3,trace_4]\n",
    "\n",
    "layout = dict(\n",
    "    title = \"weekly total units for each commodity\",\n",
    "    xaxis = dict(\n",
    "        range = ['1','104'])\n",
    ")\n",
    "\n",
    "fig = dict(data=data, layout=layout)\n",
    "py.iplot(fig)"
   ]
  },
  {
   "cell_type": "markdown",
   "metadata": {},
   "source": [
    "- based on counting units at the 79th week  pasta souce number of unit transection are increased sharply"
   ]
  },
  {
   "cell_type": "code",
   "execution_count": 613,
   "metadata": {},
   "outputs": [
    {
     "data": {
      "text/html": [
       "<div>\n",
       "<style scoped>\n",
       "    .dataframe tbody tr th:only-of-type {\n",
       "        vertical-align: middle;\n",
       "    }\n",
       "\n",
       "    .dataframe tbody tr th {\n",
       "        vertical-align: top;\n",
       "    }\n",
       "\n",
       "    .dataframe thead th {\n",
       "        text-align: right;\n",
       "    }\n",
       "</style>\n",
       "<table border=\"1\" class=\"dataframe\">\n",
       "  <thead>\n",
       "    <tr style=\"text-align: right;\">\n",
       "      <th></th>\n",
       "      <th>brand</th>\n",
       "      <th>units</th>\n",
       "    </tr>\n",
       "  </thead>\n",
       "  <tbody>\n",
       "    <tr>\n",
       "      <th>0</th>\n",
       "      <td>Ragu</td>\n",
       "      <td>36333</td>\n",
       "    </tr>\n",
       "    <tr>\n",
       "      <th>1</th>\n",
       "      <td>Prego</td>\n",
       "      <td>2788</td>\n",
       "    </tr>\n",
       "    <tr>\n",
       "      <th>2</th>\n",
       "      <td>Private Label</td>\n",
       "      <td>2357</td>\n",
       "    </tr>\n",
       "    <tr>\n",
       "      <th>3</th>\n",
       "      <td>Hunt's</td>\n",
       "      <td>1527</td>\n",
       "    </tr>\n",
       "    <tr>\n",
       "      <th>4</th>\n",
       "      <td>Classico</td>\n",
       "      <td>1343</td>\n",
       "    </tr>\n",
       "  </tbody>\n",
       "</table>\n",
       "</div>"
      ],
      "text/plain": [
       "           brand  units\n",
       "0           Ragu  36333\n",
       "1          Prego   2788\n",
       "2  Private Label   2357\n",
       "3         Hunt's   1527\n",
       "4       Classico   1343"
      ]
     },
     "execution_count": 613,
     "metadata": {},
     "output_type": "execute_result"
    }
   ],
   "source": [
    "# very sharp peak apear at the 27 th and 79 th weeks\n",
    "week_27th=trans_prod[trans_prod.week==27]\n",
    "pd.DataFrame(week_27th[week_27th.commodity=='pasta sauce'].groupby(['brand'])['units'].sum())\\\n",
    "                    .sort_values(['units'], ascending=False)\\\n",
    "                    .reset_index().head(5)"
   ]
  },
  {
   "cell_type": "code",
   "execution_count": 616,
   "metadata": {},
   "outputs": [
    {
     "data": {
      "text/html": [
       "<div>\n",
       "<style scoped>\n",
       "    .dataframe tbody tr th:only-of-type {\n",
       "        vertical-align: middle;\n",
       "    }\n",
       "\n",
       "    .dataframe tbody tr th {\n",
       "        vertical-align: top;\n",
       "    }\n",
       "\n",
       "    .dataframe thead th {\n",
       "        text-align: right;\n",
       "    }\n",
       "</style>\n",
       "<table border=\"1\" class=\"dataframe\">\n",
       "  <thead>\n",
       "    <tr style=\"text-align: right;\">\n",
       "      <th></th>\n",
       "      <th>brand</th>\n",
       "      <th>units</th>\n",
       "    </tr>\n",
       "  </thead>\n",
       "  <tbody>\n",
       "    <tr>\n",
       "      <th>0</th>\n",
       "      <td>Ragu</td>\n",
       "      <td>49312</td>\n",
       "    </tr>\n",
       "    <tr>\n",
       "      <th>1</th>\n",
       "      <td>Prego</td>\n",
       "      <td>3581</td>\n",
       "    </tr>\n",
       "    <tr>\n",
       "      <th>2</th>\n",
       "      <td>Private Label</td>\n",
       "      <td>2196</td>\n",
       "    </tr>\n",
       "    <tr>\n",
       "      <th>3</th>\n",
       "      <td>Hunt's</td>\n",
       "      <td>1683</td>\n",
       "    </tr>\n",
       "    <tr>\n",
       "      <th>4</th>\n",
       "      <td>Classico</td>\n",
       "      <td>1312</td>\n",
       "    </tr>\n",
       "  </tbody>\n",
       "</table>\n",
       "</div>"
      ],
      "text/plain": [
       "           brand  units\n",
       "0           Ragu  49312\n",
       "1          Prego   3581\n",
       "2  Private Label   2196\n",
       "3         Hunt's   1683\n",
       "4       Classico   1312"
      ]
     },
     "execution_count": 616,
     "metadata": {},
     "output_type": "execute_result"
    }
   ],
   "source": [
    "# very sharp peak apear at the 27 th and 79 th weeks\n",
    "week_79th=trans_prod[trans_prod.week==79]\n",
    "pd.DataFrame(week_79th[week_79th.commodity=='pasta sauce'].groupby(['brand'])['units'].sum())\\\n",
    "                    .sort_values(['units'], ascending=False)\\\n",
    "                    .reset_index().head(5)"
   ]
  }
 ],
 "metadata": {
  "kernelspec": {
   "display_name": "Python 3",
   "language": "python",
   "name": "python3"
  },
  "language_info": {
   "codemirror_mode": {
    "name": "ipython",
    "version": 3
   },
   "file_extension": ".py",
   "mimetype": "text/x-python",
   "name": "python",
   "nbconvert_exporter": "python",
   "pygments_lexer": "ipython3",
   "version": "3.6.7"
  }
 },
 "nbformat": 4,
 "nbformat_minor": 2
}
