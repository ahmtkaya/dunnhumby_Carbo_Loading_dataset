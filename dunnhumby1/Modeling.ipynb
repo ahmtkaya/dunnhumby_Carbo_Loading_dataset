{
 "cells": [
  {
   "cell_type": "markdown",
   "metadata": {},
   "source": [
    "### MODELING and Feature sellection DunnHumby"
   ]
  },
  {
   "cell_type": "code",
   "execution_count": 1,
   "metadata": {},
   "outputs": [],
   "source": [
    "df<-read.csv('trans_prod_zip.csv')"
   ]
  },
  {
   "cell_type": "code",
   "execution_count": 2,
   "metadata": {},
   "outputs": [
    {
     "data": {
      "text/html": [
       "<table>\n",
       "<thead><tr><th scope=col>upc</th><th scope=col>geography</th><th scope=col>store</th><th scope=col>store_zip_code</th><th scope=col>household</th><th scope=col>unit_price</th><th scope=col>units</th><th scope=col>dollar_sales</th><th scope=col>time_of_transaction</th><th scope=col>day</th><th scope=col>week</th><th scope=col>basket</th><th scope=col>coupon</th><th scope=col>product_description</th><th scope=col>commodity</th><th scope=col>brand</th><th scope=col>product_size</th></tr></thead>\n",
       "<tbody>\n",
       "\t<tr><td>7680850106               </td><td>2                        </td><td>244                      </td><td>40222                    </td><td>125434                   </td><td>0.80                     </td><td>1                        </td><td>0.80                     </td><td>1100                     </td><td>1                        </td><td>1                        </td><td>1                        </td><td>0                        </td><td>BARILLA ANGEL HAIR       </td><td>pasta                    </td><td>Barilla                  </td><td>16 OZ                    </td></tr>\n",
       "\t<tr><td>3620000470                                           </td><td>2                                                    </td><td>244                                                  </td><td>40222                                                </td><td>125434                                               </td><td>3.59                                                 </td><td>1                                                    </td><td>3.59                                                 </td><td>1100                                                 </td><td>1                                                    </td><td>1                                                    </td><td>1                                                    </td><td>0                                                    </td><td>BERTOLLI TOM&amp;BASIL SAUCE                         </td><td><span style=white-space:pre-wrap>pasta sauce  </span></td><td><span style=white-space:pre-wrap>Bertolli     </span></td><td>24 OZ                                                </td></tr>\n",
       "\t<tr><td>1800028064               </td><td>2                        </td><td>244                      </td><td>40222                    </td><td>108320                   </td><td>2.25                     </td><td>1                        </td><td>2.25                     </td><td>1137                     </td><td>1                        </td><td>1                        </td><td>2                        </td><td>0                        </td><td>H J PANCK BTRMLK COMP MIX</td><td>pancake mixes            </td><td>Hungry Jack              </td><td>                         </td></tr>\n",
       "\t<tr><td>9999985067               </td><td>2                        </td><td>244                      </td><td>40222                    </td><td>162016                   </td><td>0.85                     </td><td>1                        </td><td>0.85                     </td><td>1148                     </td><td>1                        </td><td>1                        </td><td>3                        </td><td>0                        </td><td>PRIVATE LABEL VERMICELLI </td><td>pasta                    </td><td>Private Label            </td><td>16 OZ                    </td></tr>\n",
       "</tbody>\n",
       "</table>\n"
      ],
      "text/latex": [
       "\\begin{tabular}{r|lllllllllllllllll}\n",
       " upc & geography & store & store\\_zip\\_code & household & unit\\_price & units & dollar\\_sales & time\\_of\\_transaction & day & week & basket & coupon & product\\_description & commodity & brand & product\\_size\\\\\n",
       "\\hline\n",
       "\t 7680850106                & 2                         & 244                       & 40222                     & 125434                    & 0.80                      & 1                         & 0.80                      & 1100                      & 1                         & 1                         & 1                         & 0                         & BARILLA ANGEL HAIR        & pasta                     & Barilla                   & 16 OZ                    \\\\\n",
       "\t 3620000470                  & 2                           & 244                         & 40222                       & 125434                      & 3.59                        & 1                           & 3.59                        & 1100                        & 1                           & 1                           & 1                           & 0                           & BERTOLLI TOM\\&BASIL SAUCE  & pasta sauce                 & Bertolli                    & 24 OZ                      \\\\\n",
       "\t 1800028064                & 2                         & 244                       & 40222                     & 108320                    & 2.25                      & 1                         & 2.25                      & 1137                      & 1                         & 1                         & 2                         & 0                         & H J PANCK BTRMLK COMP MIX & pancake mixes             & Hungry Jack               &                          \\\\\n",
       "\t 9999985067                & 2                         & 244                       & 40222                     & 162016                    & 0.85                      & 1                         & 0.85                      & 1148                      & 1                         & 1                         & 3                         & 0                         & PRIVATE LABEL VERMICELLI  & pasta                     & Private Label             & 16 OZ                    \\\\\n",
       "\\end{tabular}\n"
      ],
      "text/markdown": [
       "\n",
       "upc | geography | store | store_zip_code | household | unit_price | units | dollar_sales | time_of_transaction | day | week | basket | coupon | product_description | commodity | brand | product_size | \n",
       "|---|---|---|---|\n",
       "| 7680850106                | 2                         | 244                       | 40222                     | 125434                    | 0.80                      | 1                         | 0.80                      | 1100                      | 1                         | 1                         | 1                         | 0                         | BARILLA ANGEL HAIR        | pasta                     | Barilla                   | 16 OZ                     | \n",
       "| 3620000470                | 2                         | 244                       | 40222                     | 125434                    | 3.59                      | 1                         | 3.59                      | 1100                      | 1                         | 1                         | 1                         | 0                         | BERTOLLI TOM&BASIL SAUCE  | pasta sauce               | Bertolli                  | 24 OZ                     | \n",
       "| 1800028064                | 2                         | 244                       | 40222                     | 108320                    | 2.25                      | 1                         | 2.25                      | 1137                      | 1                         | 1                         | 2                         | 0                         | H J PANCK BTRMLK COMP MIX | pancake mixes             | Hungry Jack               |                           | \n",
       "| 9999985067                | 2                         | 244                       | 40222                     | 162016                    | 0.85                      | 1                         | 0.85                      | 1148                      | 1                         | 1                         | 3                         | 0                         | PRIVATE LABEL VERMICELLI  | pasta                     | Private Label             | 16 OZ                     | \n",
       "\n",
       "\n"
      ],
      "text/plain": [
       "  upc        geography store store_zip_code household unit_price units\n",
       "1 7680850106 2         244   40222          125434    0.80       1    \n",
       "2 3620000470 2         244   40222          125434    3.59       1    \n",
       "3 1800028064 2         244   40222          108320    2.25       1    \n",
       "4 9999985067 2         244   40222          162016    0.85       1    \n",
       "  dollar_sales time_of_transaction day week basket coupon\n",
       "1 0.80         1100                1   1    1      0     \n",
       "2 3.59         1100                1   1    1      0     \n",
       "3 2.25         1137                1   1    2      0     \n",
       "4 0.85         1148                1   1    3      0     \n",
       "  product_description       commodity     brand         product_size\n",
       "1 BARILLA ANGEL HAIR        pasta         Barilla       16 OZ       \n",
       "2 BERTOLLI TOM&BASIL SAUCE  pasta sauce   Bertolli      24 OZ       \n",
       "3 H J PANCK BTRMLK COMP MIX pancake mixes Hungry Jack               \n",
       "4 PRIVATE LABEL VERMICELLI  pasta         Private Label 16 OZ       "
      ]
     },
     "metadata": {},
     "output_type": "display_data"
    }
   ],
   "source": [
    "head(df, 4)"
   ]
  },
  {
   "cell_type": "code",
   "execution_count": 3,
   "metadata": {},
   "outputs": [],
   "source": [
    "#We will remove Date\n",
    "#target=df['dollar_sales']\n",
    "#independent= df[c(-1,-8, -14, -15, -16, -17)]"
   ]
  },
  {
   "cell_type": "markdown",
   "metadata": {},
   "source": [
    "### Split Data"
   ]
  },
  {
   "cell_type": "code",
   "execution_count": 4,
   "metadata": {},
   "outputs": [],
   "source": [
    "#install.packages(\"caTools\")\n",
    "#Split data\n",
    "set.seed(2)\n",
    "library(caTools)#for sample.split() function \n",
    "split<-sample.split(df, SplitRatio = 0.7)"
   ]
  },
  {
   "cell_type": "code",
   "execution_count": null,
   "metadata": {},
   "outputs": [],
   "source": [
    "#we divided data in ratio 0.7\n",
    "xtraining<-subset(df[c(-1,-8, -14, -15, -16, -17)], split==\"TRUE\")\n",
    "xtest<-subset(df[c(-1,-8, -14, -15, -16, -17)], split==\"FALSE\")\n",
    "ytraining<-subset(df['dollar_sales'], split==\"TRUE\")\n",
    "ytest<-subset(df['dollar_sales'], split==\"FALSE\")"
   ]
  },
  {
   "cell_type": "markdown",
   "metadata": {},
   "source": [
    "### Random Forest Regression"
   ]
  },
  {
   "cell_type": "code",
   "execution_count": null,
   "metadata": {},
   "outputs": [],
   "source": [
    "library(randomForest) #Random Forest Regression"
   ]
  },
  {
   "cell_type": "code",
   "execution_count": null,
   "metadata": {},
   "outputs": [],
   "source": []
  },
  {
   "cell_type": "code",
   "execution_count": null,
   "metadata": {},
   "outputs": [],
   "source": []
  },
  {
   "cell_type": "code",
   "execution_count": null,
   "metadata": {},
   "outputs": [],
   "source": []
  }
 ],
 "metadata": {
  "kernelspec": {
   "display_name": "R",
   "language": "R",
   "name": "ir"
  },
  "language_info": {
   "codemirror_mode": "r",
   "file_extension": ".r",
   "mimetype": "text/x-r-source",
   "name": "R",
   "pygments_lexer": "r",
   "version": "3.5.1"
  }
 },
 "nbformat": 4,
 "nbformat_minor": 2
}
